{
 "cells": [
  {
   "cell_type": "code",
   "execution_count": 2,
   "id": "b37580f0",
   "metadata": {},
   "outputs": [],
   "source": [
    "import pandas as pd\n",
    "import numpy as np\n",
    "import seaborn as sns\n",
    "from matplotlib import pyplot as plt\n",
    "import matplotlib as mpl\n",
    "import seaborn as sns\n",
    "%matplotlib inline\n",
    "from scipy import stats\n",
    "from scipy.stats import boxcox\n",
    "from statsmodels.stats.proportion import proportions_ztest"
   ]
  },
  {
   "cell_type": "code",
   "execution_count": 3,
   "id": "5599349a",
   "metadata": {},
   "outputs": [],
   "source": [
    "AirbnbRentalsExplore = pd.read_csv('C:/Users/vanch/Desktop/Entity/DSO110/Exploratory Phase/AirbnbRentalsExplore.csv')"
   ]
  },
  {
   "cell_type": "code",
   "execution_count": 4,
   "id": "4a52dcf1",
   "metadata": {},
   "outputs": [
    {
     "data": {
      "text/plain": [
       "<bound method NDFrame.head of        Unnamed: 0  Unnamed: 0.1  \\\n",
       "0               0             0   \n",
       "1               1             1   \n",
       "2               2             2   \n",
       "3               3             3   \n",
       "4               4             4   \n",
       "...           ...           ...   \n",
       "64682       64682          3729   \n",
       "64683       64683          3730   \n",
       "64684       64684          3731   \n",
       "64685       64685          3732   \n",
       "64686       64686          3733   \n",
       "\n",
       "                                                    name       neighbourhood  \\\n",
       "0                      *UT/Hyde Park Craftsman Apartment               78705   \n",
       "1       Zen-East in the Heart of Austin (monthly rental)               78702   \n",
       "2      Eco friendly, Colorful, Clean, Cozy monthly share               78702   \n",
       "3              Walk to 6th, Rainey St and Convention Ctr               78702   \n",
       "4                                         NW Austin Room               78729   \n",
       "...                                                  ...                 ...   \n",
       "64682           Everything you need | Studio in Portland  Northwest District   \n",
       "64683                 Relax in comfort | 1BR in Portland            Hayhurst   \n",
       "64684      The Câlin & Magnifique Suite ~ NW 23rd Wonder  Northwest District   \n",
       "64685      Modern 2 BR Home Walkable to Alberta and more                King   \n",
       "64686  Modern Stylish Apt in Alphabet District / Slab...  Northwest District   \n",
       "\n",
       "        latitude   longitude        room_type  price  minimum_nights  \\\n",
       "0      30.300020  -97.736370  Entire home/apt    102               1   \n",
       "1      30.277520  -97.713770  Entire home/apt    179               7   \n",
       "2      30.276140  -97.713200     Private room    114              30   \n",
       "3      30.260570  -97.734410  Entire home/apt    104               2   \n",
       "4      30.456970  -97.784220     Private room     39               1   \n",
       "...          ...         ...              ...    ...             ...   \n",
       "64682  45.531189 -122.690158  Entire home/apt    154             120   \n",
       "64683  45.484074 -122.747648  Entire home/apt    173             365   \n",
       "64684  45.534796 -122.697880  Entire home/apt    234               1   \n",
       "64685  45.561982 -122.661731  Entire home/apt     87               2   \n",
       "64686  45.532956 -122.690237  Entire home/apt    182               2   \n",
       "\n",
       "       number_of_reviews  availability_365  room  \n",
       "0                    232                 0     0  \n",
       "1                     26                 0     0  \n",
       "2                      9                 0     1  \n",
       "3                    578               345     0  \n",
       "4                    264                 0     1  \n",
       "...                  ...               ...   ...  \n",
       "64682                  0               365     0  \n",
       "64683                  0               365     0  \n",
       "64684                  0               319     0  \n",
       "64685                  0               354     0  \n",
       "64686                  0               269     0  \n",
       "\n",
       "[64687 rows x 12 columns]>"
      ]
     },
     "execution_count": 4,
     "metadata": {},
     "output_type": "execute_result"
    }
   ],
   "source": [
    "AirbnbRentalsExplore.head"
   ]
  },
  {
   "cell_type": "code",
   "execution_count": 5,
   "id": "b5d684e1",
   "metadata": {},
   "outputs": [],
   "source": [
    "AirbnbRentalsExplore.drop(AirbnbRentalsExplore.columns[AirbnbRentalsExplore.columns.str.contains('unnamed',case = False)],\n",
    "                   axis=1, inplace = True)"
   ]
  },
  {
   "cell_type": "code",
   "execution_count": 6,
   "id": "b1feca0e",
   "metadata": {},
   "outputs": [
    {
     "data": {
      "text/plain": [
       "<bound method NDFrame.head of                                                     name       neighbourhood  \\\n",
       "0                      *UT/Hyde Park Craftsman Apartment               78705   \n",
       "1       Zen-East in the Heart of Austin (monthly rental)               78702   \n",
       "2      Eco friendly, Colorful, Clean, Cozy monthly share               78702   \n",
       "3              Walk to 6th, Rainey St and Convention Ctr               78702   \n",
       "4                                         NW Austin Room               78729   \n",
       "...                                                  ...                 ...   \n",
       "64682           Everything you need | Studio in Portland  Northwest District   \n",
       "64683                 Relax in comfort | 1BR in Portland            Hayhurst   \n",
       "64684      The Câlin & Magnifique Suite ~ NW 23rd Wonder  Northwest District   \n",
       "64685      Modern 2 BR Home Walkable to Alberta and more                King   \n",
       "64686  Modern Stylish Apt in Alphabet District / Slab...  Northwest District   \n",
       "\n",
       "        latitude   longitude        room_type  price  minimum_nights  \\\n",
       "0      30.300020  -97.736370  Entire home/apt    102               1   \n",
       "1      30.277520  -97.713770  Entire home/apt    179               7   \n",
       "2      30.276140  -97.713200     Private room    114              30   \n",
       "3      30.260570  -97.734410  Entire home/apt    104               2   \n",
       "4      30.456970  -97.784220     Private room     39               1   \n",
       "...          ...         ...              ...    ...             ...   \n",
       "64682  45.531189 -122.690158  Entire home/apt    154             120   \n",
       "64683  45.484074 -122.747648  Entire home/apt    173             365   \n",
       "64684  45.534796 -122.697880  Entire home/apt    234               1   \n",
       "64685  45.561982 -122.661731  Entire home/apt     87               2   \n",
       "64686  45.532956 -122.690237  Entire home/apt    182               2   \n",
       "\n",
       "       number_of_reviews  availability_365  room  \n",
       "0                    232                 0     0  \n",
       "1                     26                 0     0  \n",
       "2                      9                 0     1  \n",
       "3                    578               345     0  \n",
       "4                    264                 0     1  \n",
       "...                  ...               ...   ...  \n",
       "64682                  0               365     0  \n",
       "64683                  0               365     0  \n",
       "64684                  0               319     0  \n",
       "64685                  0               354     0  \n",
       "64686                  0               269     0  \n",
       "\n",
       "[64687 rows x 10 columns]>"
      ]
     },
     "execution_count": 6,
     "metadata": {},
     "output_type": "execute_result"
    }
   ],
   "source": [
    "AirbnbRentalsExplore.head"
   ]
  },
  {
   "cell_type": "code",
   "execution_count": null,
   "id": "9a85deba",
   "metadata": {},
   "outputs": [],
   "source": []
  }
 ],
 "metadata": {
  "kernelspec": {
   "display_name": "Python 3",
   "language": "python",
   "name": "python3"
  },
  "language_info": {
   "codemirror_mode": {
    "name": "ipython",
    "version": 3
   },
   "file_extension": ".py",
   "mimetype": "text/x-python",
   "name": "python",
   "nbconvert_exporter": "python",
   "pygments_lexer": "ipython3",
   "version": "3.8.8"
  }
 },
 "nbformat": 4,
 "nbformat_minor": 5
}
