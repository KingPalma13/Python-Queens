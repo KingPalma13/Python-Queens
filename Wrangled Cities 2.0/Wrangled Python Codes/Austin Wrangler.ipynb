{
 "cells": [
  {
   "cell_type": "code",
   "execution_count": 1,
   "id": "bf877c23",
   "metadata": {},
   "outputs": [],
   "source": [
    "import pandas as pd\n",
    "import numpy as np"
   ]
  },
  {
   "cell_type": "code",
   "execution_count": 2,
   "id": "95cd65f8",
   "metadata": {},
   "outputs": [],
   "source": [
    "#Loading dataset from folder location"
   ]
  },
  {
   "cell_type": "code",
   "execution_count": 3,
   "id": "92d46352",
   "metadata": {},
   "outputs": [],
   "source": [
    "AirbnbRentals = pd.read_csv(\"C:/Users/vanch/Desktop/Entity/DSO110/Wrangled Cities 2.0/Austin.csv\")"
   ]
  },
  {
   "cell_type": "code",
   "execution_count": 4,
   "id": "58f6509d",
   "metadata": {
    "scrolled": true
   },
   "outputs": [
    {
     "data": {
      "text/html": [
       "<div>\n",
       "<style scoped>\n",
       "    .dataframe tbody tr th:only-of-type {\n",
       "        vertical-align: middle;\n",
       "    }\n",
       "\n",
       "    .dataframe tbody tr th {\n",
       "        vertical-align: top;\n",
       "    }\n",
       "\n",
       "    .dataframe thead th {\n",
       "        text-align: right;\n",
       "    }\n",
       "</style>\n",
       "<table border=\"1\" class=\"dataframe\">\n",
       "  <thead>\n",
       "    <tr style=\"text-align: right;\">\n",
       "      <th></th>\n",
       "      <th>id</th>\n",
       "      <th>name</th>\n",
       "      <th>host_id</th>\n",
       "      <th>host_name</th>\n",
       "      <th>neighbourhood_group</th>\n",
       "      <th>neighbourhood</th>\n",
       "      <th>latitude</th>\n",
       "      <th>longitude</th>\n",
       "      <th>room_type</th>\n",
       "      <th>price</th>\n",
       "      <th>minimum_nights</th>\n",
       "      <th>number_of_reviews</th>\n",
       "      <th>last_review</th>\n",
       "      <th>reviews_per_month</th>\n",
       "      <th>calculated_host_listings_count</th>\n",
       "      <th>availability_365</th>\n",
       "      <th>number_of_reviews_ltm</th>\n",
       "      <th>license</th>\n",
       "    </tr>\n",
       "  </thead>\n",
       "  <tbody>\n",
       "    <tr>\n",
       "      <th>0</th>\n",
       "      <td>1078</td>\n",
       "      <td>*UT/Hyde Park Craftsman Apartment</td>\n",
       "      <td>4635658</td>\n",
       "      <td>Tracy</td>\n",
       "      <td>NaN</td>\n",
       "      <td>78705</td>\n",
       "      <td>30.30002</td>\n",
       "      <td>-97.73637</td>\n",
       "      <td>Entire home/apt</td>\n",
       "      <td>102</td>\n",
       "      <td>1</td>\n",
       "      <td>232</td>\n",
       "      <td>11/21/2021</td>\n",
       "      <td>1.44</td>\n",
       "      <td>2</td>\n",
       "      <td>0</td>\n",
       "      <td>5</td>\n",
       "      <td>NaN</td>\n",
       "    </tr>\n",
       "    <tr>\n",
       "      <th>1</th>\n",
       "      <td>2265</td>\n",
       "      <td>Zen-East in the Heart of Austin (monthly rental)</td>\n",
       "      <td>2466</td>\n",
       "      <td>Paddy</td>\n",
       "      <td>NaN</td>\n",
       "      <td>78702</td>\n",
       "      <td>30.27752</td>\n",
       "      <td>-97.71377</td>\n",
       "      <td>Entire home/apt</td>\n",
       "      <td>179</td>\n",
       "      <td>7</td>\n",
       "      <td>26</td>\n",
       "      <td>7/2/2021</td>\n",
       "      <td>0.17</td>\n",
       "      <td>3</td>\n",
       "      <td>0</td>\n",
       "      <td>2</td>\n",
       "      <td>NaN</td>\n",
       "    </tr>\n",
       "    <tr>\n",
       "      <th>2</th>\n",
       "      <td>5245</td>\n",
       "      <td>Eco friendly, Colorful, Clean, Cozy monthly share</td>\n",
       "      <td>2466</td>\n",
       "      <td>Paddy</td>\n",
       "      <td>NaN</td>\n",
       "      <td>78702</td>\n",
       "      <td>30.27614</td>\n",
       "      <td>-97.71320</td>\n",
       "      <td>Private room</td>\n",
       "      <td>114</td>\n",
       "      <td>30</td>\n",
       "      <td>9</td>\n",
       "      <td>3/14/2018</td>\n",
       "      <td>0.06</td>\n",
       "      <td>3</td>\n",
       "      <td>0</td>\n",
       "      <td>0</td>\n",
       "      <td>NaN</td>\n",
       "    </tr>\n",
       "    <tr>\n",
       "      <th>3</th>\n",
       "      <td>5456</td>\n",
       "      <td>Walk to 6th, Rainey St and Convention Ctr</td>\n",
       "      <td>8028</td>\n",
       "      <td>Sylvia</td>\n",
       "      <td>NaN</td>\n",
       "      <td>78702</td>\n",
       "      <td>30.26057</td>\n",
       "      <td>-97.73441</td>\n",
       "      <td>Entire home/apt</td>\n",
       "      <td>104</td>\n",
       "      <td>2</td>\n",
       "      <td>578</td>\n",
       "      <td>11/18/2021</td>\n",
       "      <td>3.72</td>\n",
       "      <td>1</td>\n",
       "      <td>345</td>\n",
       "      <td>40</td>\n",
       "      <td>NaN</td>\n",
       "    </tr>\n",
       "    <tr>\n",
       "      <th>4</th>\n",
       "      <td>5769</td>\n",
       "      <td>NW Austin Room</td>\n",
       "      <td>8186</td>\n",
       "      <td>Elizabeth</td>\n",
       "      <td>NaN</td>\n",
       "      <td>78729</td>\n",
       "      <td>30.45697</td>\n",
       "      <td>-97.78422</td>\n",
       "      <td>Private room</td>\n",
       "      <td>39</td>\n",
       "      <td>1</td>\n",
       "      <td>264</td>\n",
       "      <td>7/3/2021</td>\n",
       "      <td>1.86</td>\n",
       "      <td>1</td>\n",
       "      <td>0</td>\n",
       "      <td>6</td>\n",
       "      <td>NaN</td>\n",
       "    </tr>\n",
       "  </tbody>\n",
       "</table>\n",
       "</div>"
      ],
      "text/plain": [
       "     id                                               name  host_id  \\\n",
       "0  1078                  *UT/Hyde Park Craftsman Apartment  4635658   \n",
       "1  2265   Zen-East in the Heart of Austin (monthly rental)     2466   \n",
       "2  5245  Eco friendly, Colorful, Clean, Cozy monthly share     2466   \n",
       "3  5456          Walk to 6th, Rainey St and Convention Ctr     8028   \n",
       "4  5769                                     NW Austin Room     8186   \n",
       "\n",
       "   host_name  neighbourhood_group  neighbourhood  latitude  longitude  \\\n",
       "0      Tracy                  NaN          78705  30.30002  -97.73637   \n",
       "1      Paddy                  NaN          78702  30.27752  -97.71377   \n",
       "2      Paddy                  NaN          78702  30.27614  -97.71320   \n",
       "3     Sylvia                  NaN          78702  30.26057  -97.73441   \n",
       "4  Elizabeth                  NaN          78729  30.45697  -97.78422   \n",
       "\n",
       "         room_type  price  minimum_nights  number_of_reviews last_review  \\\n",
       "0  Entire home/apt    102               1                232  11/21/2021   \n",
       "1  Entire home/apt    179               7                 26    7/2/2021   \n",
       "2     Private room    114              30                  9   3/14/2018   \n",
       "3  Entire home/apt    104               2                578  11/18/2021   \n",
       "4     Private room     39               1                264    7/3/2021   \n",
       "\n",
       "   reviews_per_month  calculated_host_listings_count  availability_365  \\\n",
       "0               1.44                               2                 0   \n",
       "1               0.17                               3                 0   \n",
       "2               0.06                               3                 0   \n",
       "3               3.72                               1               345   \n",
       "4               1.86                               1                 0   \n",
       "\n",
       "   number_of_reviews_ltm  license  \n",
       "0                      5      NaN  \n",
       "1                      2      NaN  \n",
       "2                      0      NaN  \n",
       "3                     40      NaN  \n",
       "4                      6      NaN  "
      ]
     },
     "execution_count": 4,
     "metadata": {},
     "output_type": "execute_result"
    }
   ],
   "source": [
    "AirbnbRentals.head()"
   ]
  },
  {
   "cell_type": "code",
   "execution_count": 5,
   "id": "7b2563e4",
   "metadata": {},
   "outputs": [],
   "source": [
    "#Checking for columns and names of columns"
   ]
  },
  {
   "cell_type": "code",
   "execution_count": 6,
   "id": "47113ddf",
   "metadata": {},
   "outputs": [
    {
     "data": {
      "text/plain": [
       "Index(['id', 'name', 'host_id', 'host_name', 'neighbourhood_group',\n",
       "       'neighbourhood', 'latitude', 'longitude', 'room_type', 'price',\n",
       "       'minimum_nights', 'number_of_reviews', 'last_review',\n",
       "       'reviews_per_month', 'calculated_host_listings_count',\n",
       "       'availability_365', 'number_of_reviews_ltm', 'license'],\n",
       "      dtype='object')"
      ]
     },
     "execution_count": 6,
     "metadata": {},
     "output_type": "execute_result"
    }
   ],
   "source": [
    "AirbnbRentals.columns"
   ]
  },
  {
   "cell_type": "code",
   "execution_count": 7,
   "id": "4e872bfe",
   "metadata": {},
   "outputs": [],
   "source": [
    "#Removing columns with irrelevant information"
   ]
  },
  {
   "cell_type": "code",
   "execution_count": 8,
   "id": "5102e5b5",
   "metadata": {},
   "outputs": [],
   "source": [
    "AirbnbRentals.drop(['id', 'host_id', 'host_name', 'neighbourhood_group', 'number_of_reviews_ltm', 'last_review',\n",
    "                    'reviews_per_month', 'calculated_host_listings_count', 'license'],axis=1, inplace=True)"
   ]
  },
  {
   "cell_type": "code",
   "execution_count": 9,
   "id": "a63b44e3",
   "metadata": {},
   "outputs": [
    {
     "data": {
      "text/html": [
       "<div>\n",
       "<style scoped>\n",
       "    .dataframe tbody tr th:only-of-type {\n",
       "        vertical-align: middle;\n",
       "    }\n",
       "\n",
       "    .dataframe tbody tr th {\n",
       "        vertical-align: top;\n",
       "    }\n",
       "\n",
       "    .dataframe thead th {\n",
       "        text-align: right;\n",
       "    }\n",
       "</style>\n",
       "<table border=\"1\" class=\"dataframe\">\n",
       "  <thead>\n",
       "    <tr style=\"text-align: right;\">\n",
       "      <th></th>\n",
       "      <th>name</th>\n",
       "      <th>neighbourhood</th>\n",
       "      <th>latitude</th>\n",
       "      <th>longitude</th>\n",
       "      <th>room_type</th>\n",
       "      <th>price</th>\n",
       "      <th>minimum_nights</th>\n",
       "      <th>number_of_reviews</th>\n",
       "      <th>availability_365</th>\n",
       "    </tr>\n",
       "  </thead>\n",
       "  <tbody>\n",
       "    <tr>\n",
       "      <th>0</th>\n",
       "      <td>*UT/Hyde Park Craftsman Apartment</td>\n",
       "      <td>78705</td>\n",
       "      <td>30.30002</td>\n",
       "      <td>-97.73637</td>\n",
       "      <td>Entire home/apt</td>\n",
       "      <td>102</td>\n",
       "      <td>1</td>\n",
       "      <td>232</td>\n",
       "      <td>0</td>\n",
       "    </tr>\n",
       "    <tr>\n",
       "      <th>1</th>\n",
       "      <td>Zen-East in the Heart of Austin (monthly rental)</td>\n",
       "      <td>78702</td>\n",
       "      <td>30.27752</td>\n",
       "      <td>-97.71377</td>\n",
       "      <td>Entire home/apt</td>\n",
       "      <td>179</td>\n",
       "      <td>7</td>\n",
       "      <td>26</td>\n",
       "      <td>0</td>\n",
       "    </tr>\n",
       "    <tr>\n",
       "      <th>2</th>\n",
       "      <td>Eco friendly, Colorful, Clean, Cozy monthly share</td>\n",
       "      <td>78702</td>\n",
       "      <td>30.27614</td>\n",
       "      <td>-97.71320</td>\n",
       "      <td>Private room</td>\n",
       "      <td>114</td>\n",
       "      <td>30</td>\n",
       "      <td>9</td>\n",
       "      <td>0</td>\n",
       "    </tr>\n",
       "    <tr>\n",
       "      <th>3</th>\n",
       "      <td>Walk to 6th, Rainey St and Convention Ctr</td>\n",
       "      <td>78702</td>\n",
       "      <td>30.26057</td>\n",
       "      <td>-97.73441</td>\n",
       "      <td>Entire home/apt</td>\n",
       "      <td>104</td>\n",
       "      <td>2</td>\n",
       "      <td>578</td>\n",
       "      <td>345</td>\n",
       "    </tr>\n",
       "    <tr>\n",
       "      <th>4</th>\n",
       "      <td>NW Austin Room</td>\n",
       "      <td>78729</td>\n",
       "      <td>30.45697</td>\n",
       "      <td>-97.78422</td>\n",
       "      <td>Private room</td>\n",
       "      <td>39</td>\n",
       "      <td>1</td>\n",
       "      <td>264</td>\n",
       "      <td>0</td>\n",
       "    </tr>\n",
       "  </tbody>\n",
       "</table>\n",
       "</div>"
      ],
      "text/plain": [
       "                                                name  neighbourhood  latitude  \\\n",
       "0                  *UT/Hyde Park Craftsman Apartment          78705  30.30002   \n",
       "1   Zen-East in the Heart of Austin (monthly rental)          78702  30.27752   \n",
       "2  Eco friendly, Colorful, Clean, Cozy monthly share          78702  30.27614   \n",
       "3          Walk to 6th, Rainey St and Convention Ctr          78702  30.26057   \n",
       "4                                     NW Austin Room          78729  30.45697   \n",
       "\n",
       "   longitude        room_type  price  minimum_nights  number_of_reviews  \\\n",
       "0  -97.73637  Entire home/apt    102               1                232   \n",
       "1  -97.71377  Entire home/apt    179               7                 26   \n",
       "2  -97.71320     Private room    114              30                  9   \n",
       "3  -97.73441  Entire home/apt    104               2                578   \n",
       "4  -97.78422     Private room     39               1                264   \n",
       "\n",
       "   availability_365  \n",
       "0                 0  \n",
       "1                 0  \n",
       "2                 0  \n",
       "3               345  \n",
       "4                 0  "
      ]
     },
     "execution_count": 9,
     "metadata": {},
     "output_type": "execute_result"
    }
   ],
   "source": [
    "AirbnbRentals.head()"
   ]
  },
  {
   "cell_type": "code",
   "execution_count": 10,
   "id": "cb63ac2e",
   "metadata": {},
   "outputs": [],
   "source": [
    "#Removing null data"
   ]
  },
  {
   "cell_type": "code",
   "execution_count": 11,
   "id": "2db52a11",
   "metadata": {
    "scrolled": true
   },
   "outputs": [
    {
     "data": {
      "text/plain": [
       "78704    1902\n",
       "78702    1459\n",
       "78701     757\n",
       "78741     721\n",
       "78745     571\n",
       "78703     523\n",
       "78751     480\n",
       "78705     478\n",
       "78758     439\n",
       "78723     374\n",
       "78746     269\n",
       "78734     263\n",
       "78721     254\n",
       "78744     218\n",
       "78757     215\n",
       "78722     187\n",
       "78748     174\n",
       "78752     168\n",
       "78756     154\n",
       "78759     132\n",
       "78754     131\n",
       "78737     129\n",
       "78731     129\n",
       "78753     116\n",
       "78749     111\n",
       "78729     109\n",
       "78727      95\n",
       "78724      93\n",
       "78735      89\n",
       "78733      75\n",
       "78728      74\n",
       "78732      64\n",
       "78717      59\n",
       "78736      58\n",
       "78747      56\n",
       "78738      54\n",
       "78750      48\n",
       "78725      44\n",
       "78730      43\n",
       "78739      26\n",
       "78726      14\n",
       "78742      11\n",
       "78719       7\n",
       "78712       1\n",
       "Name: neighbourhood, dtype: int64"
      ]
     },
     "execution_count": 11,
     "metadata": {},
     "output_type": "execute_result"
    }
   ],
   "source": [
    "AirbnbRentals['neighbourhood'].value_counts()"
   ]
  },
  {
   "cell_type": "code",
   "execution_count": 12,
   "id": "16f0e2a4",
   "metadata": {},
   "outputs": [
    {
     "data": {
      "text/plain": [
       "name                 0\n",
       "neighbourhood        0\n",
       "latitude             0\n",
       "longitude            0\n",
       "room_type            0\n",
       "price                0\n",
       "minimum_nights       0\n",
       "number_of_reviews    0\n",
       "availability_365     0\n",
       "dtype: int64"
      ]
     },
     "execution_count": 12,
     "metadata": {},
     "output_type": "execute_result"
    }
   ],
   "source": [
    "AirbnbRentals.isnull().sum()"
   ]
  },
  {
   "cell_type": "code",
   "execution_count": 13,
   "id": "5876e9da",
   "metadata": {},
   "outputs": [
    {
     "data": {
      "text/plain": [
       "(11374, 9)"
      ]
     },
     "execution_count": 13,
     "metadata": {},
     "output_type": "execute_result"
    }
   ],
   "source": [
    "AirbnbRentals.shape"
   ]
  },
  {
   "cell_type": "code",
   "execution_count": 14,
   "id": "c49d9e84",
   "metadata": {},
   "outputs": [],
   "source": [
    "AirbnbRentals = AirbnbRentals.dropna()"
   ]
  },
  {
   "cell_type": "code",
   "execution_count": 15,
   "id": "fceeee40",
   "metadata": {},
   "outputs": [
    {
     "data": {
      "text/plain": [
       "(11374, 9)"
      ]
     },
     "execution_count": 15,
     "metadata": {},
     "output_type": "execute_result"
    }
   ],
   "source": [
    "AirbnbRentals.shape"
   ]
  },
  {
   "cell_type": "code",
   "execution_count": 16,
   "id": "39718c35",
   "metadata": {},
   "outputs": [
    {
     "data": {
      "text/plain": [
       "name                 0\n",
       "neighbourhood        0\n",
       "latitude             0\n",
       "longitude            0\n",
       "room_type            0\n",
       "price                0\n",
       "minimum_nights       0\n",
       "number_of_reviews    0\n",
       "availability_365     0\n",
       "dtype: int64"
      ]
     },
     "execution_count": 16,
     "metadata": {},
     "output_type": "execute_result"
    }
   ],
   "source": [
    "AirbnbRentals.isnull().sum()"
   ]
  },
  {
   "cell_type": "code",
   "execution_count": 17,
   "id": "61cd05b1",
   "metadata": {},
   "outputs": [],
   "source": [
    "#Checking data types and names for remaining columns"
   ]
  },
  {
   "cell_type": "code",
   "execution_count": 18,
   "id": "dce511ec",
   "metadata": {},
   "outputs": [
    {
     "name": "stdout",
     "output_type": "stream",
     "text": [
      "name                  object\n",
      "neighbourhood          int64\n",
      "latitude             float64\n",
      "longitude            float64\n",
      "room_type             object\n",
      "price                  int64\n",
      "minimum_nights         int64\n",
      "number_of_reviews      int64\n",
      "availability_365       int64\n",
      "dtype: object\n"
     ]
    }
   ],
   "source": [
    "print(AirbnbRentals.dtypes)"
   ]
  },
  {
   "cell_type": "code",
   "execution_count": 19,
   "id": "646b439e",
   "metadata": {},
   "outputs": [
    {
     "data": {
      "text/plain": [
       "Index(['name', 'neighbourhood', 'latitude', 'longitude', 'room_type', 'price',\n",
       "       'minimum_nights', 'number_of_reviews', 'availability_365'],\n",
       "      dtype='object')"
      ]
     },
     "execution_count": 19,
     "metadata": {},
     "output_type": "execute_result"
    }
   ],
   "source": [
    "AirbnbRentals.columns"
   ]
  },
  {
   "cell_type": "code",
   "execution_count": 20,
   "id": "c545b2ee",
   "metadata": {},
   "outputs": [],
   "source": [
    "#Counting totals of each variable in column"
   ]
  },
  {
   "cell_type": "code",
   "execution_count": 21,
   "id": "fe22a150",
   "metadata": {},
   "outputs": [
    {
     "data": {
      "text/plain": [
       "Entire home/apt    9222\n",
       "Private room       2021\n",
       "Shared room         120\n",
       "Hotel room           11\n",
       "Name: room_type, dtype: int64"
      ]
     },
     "execution_count": 21,
     "metadata": {},
     "output_type": "execute_result"
    }
   ],
   "source": [
    "AirbnbRentals['room_type'].value_counts()"
   ]
  },
  {
   "cell_type": "code",
   "execution_count": 22,
   "id": "015e2faf",
   "metadata": {},
   "outputs": [],
   "source": [
    "#Recoding room_type into integers"
   ]
  },
  {
   "cell_type": "code",
   "execution_count": 23,
   "id": "15f03665",
   "metadata": {},
   "outputs": [],
   "source": [
    "def room (series): \n",
    "\n",
    "    if series == \"Entire home/apt\":\n",
    "\n",
    "        return 0\n",
    "\n",
    "    if series == \"Private room\": \n",
    "\n",
    "        return 1\n",
    "\n",
    "    if series == \"Shared room\": \n",
    "\n",
    "        return 2\n",
    "\n",
    "    if series == \"Hotel room\": \n",
    "\n",
    "        return 3\n",
    "\n",
    "AirbnbRentals['room'] = AirbnbRentals['room_type'].apply(room)"
   ]
  },
  {
   "cell_type": "code",
   "execution_count": 24,
   "id": "fe70ac6a",
   "metadata": {},
   "outputs": [
    {
     "data": {
      "text/html": [
       "<div>\n",
       "<style scoped>\n",
       "    .dataframe tbody tr th:only-of-type {\n",
       "        vertical-align: middle;\n",
       "    }\n",
       "\n",
       "    .dataframe tbody tr th {\n",
       "        vertical-align: top;\n",
       "    }\n",
       "\n",
       "    .dataframe thead th {\n",
       "        text-align: right;\n",
       "    }\n",
       "</style>\n",
       "<table border=\"1\" class=\"dataframe\">\n",
       "  <thead>\n",
       "    <tr style=\"text-align: right;\">\n",
       "      <th></th>\n",
       "      <th>name</th>\n",
       "      <th>neighbourhood</th>\n",
       "      <th>latitude</th>\n",
       "      <th>longitude</th>\n",
       "      <th>room_type</th>\n",
       "      <th>price</th>\n",
       "      <th>minimum_nights</th>\n",
       "      <th>number_of_reviews</th>\n",
       "      <th>availability_365</th>\n",
       "      <th>room</th>\n",
       "    </tr>\n",
       "  </thead>\n",
       "  <tbody>\n",
       "    <tr>\n",
       "      <th>0</th>\n",
       "      <td>*UT/Hyde Park Craftsman Apartment</td>\n",
       "      <td>78705</td>\n",
       "      <td>30.30002</td>\n",
       "      <td>-97.73637</td>\n",
       "      <td>Entire home/apt</td>\n",
       "      <td>102</td>\n",
       "      <td>1</td>\n",
       "      <td>232</td>\n",
       "      <td>0</td>\n",
       "      <td>0</td>\n",
       "    </tr>\n",
       "    <tr>\n",
       "      <th>1</th>\n",
       "      <td>Zen-East in the Heart of Austin (monthly rental)</td>\n",
       "      <td>78702</td>\n",
       "      <td>30.27752</td>\n",
       "      <td>-97.71377</td>\n",
       "      <td>Entire home/apt</td>\n",
       "      <td>179</td>\n",
       "      <td>7</td>\n",
       "      <td>26</td>\n",
       "      <td>0</td>\n",
       "      <td>0</td>\n",
       "    </tr>\n",
       "    <tr>\n",
       "      <th>2</th>\n",
       "      <td>Eco friendly, Colorful, Clean, Cozy monthly share</td>\n",
       "      <td>78702</td>\n",
       "      <td>30.27614</td>\n",
       "      <td>-97.71320</td>\n",
       "      <td>Private room</td>\n",
       "      <td>114</td>\n",
       "      <td>30</td>\n",
       "      <td>9</td>\n",
       "      <td>0</td>\n",
       "      <td>1</td>\n",
       "    </tr>\n",
       "    <tr>\n",
       "      <th>3</th>\n",
       "      <td>Walk to 6th, Rainey St and Convention Ctr</td>\n",
       "      <td>78702</td>\n",
       "      <td>30.26057</td>\n",
       "      <td>-97.73441</td>\n",
       "      <td>Entire home/apt</td>\n",
       "      <td>104</td>\n",
       "      <td>2</td>\n",
       "      <td>578</td>\n",
       "      <td>345</td>\n",
       "      <td>0</td>\n",
       "    </tr>\n",
       "    <tr>\n",
       "      <th>4</th>\n",
       "      <td>NW Austin Room</td>\n",
       "      <td>78729</td>\n",
       "      <td>30.45697</td>\n",
       "      <td>-97.78422</td>\n",
       "      <td>Private room</td>\n",
       "      <td>39</td>\n",
       "      <td>1</td>\n",
       "      <td>264</td>\n",
       "      <td>0</td>\n",
       "      <td>1</td>\n",
       "    </tr>\n",
       "  </tbody>\n",
       "</table>\n",
       "</div>"
      ],
      "text/plain": [
       "                                                name  neighbourhood  latitude  \\\n",
       "0                  *UT/Hyde Park Craftsman Apartment          78705  30.30002   \n",
       "1   Zen-East in the Heart of Austin (monthly rental)          78702  30.27752   \n",
       "2  Eco friendly, Colorful, Clean, Cozy monthly share          78702  30.27614   \n",
       "3          Walk to 6th, Rainey St and Convention Ctr          78702  30.26057   \n",
       "4                                     NW Austin Room          78729  30.45697   \n",
       "\n",
       "   longitude        room_type  price  minimum_nights  number_of_reviews  \\\n",
       "0  -97.73637  Entire home/apt    102               1                232   \n",
       "1  -97.71377  Entire home/apt    179               7                 26   \n",
       "2  -97.71320     Private room    114              30                  9   \n",
       "3  -97.73441  Entire home/apt    104               2                578   \n",
       "4  -97.78422     Private room     39               1                264   \n",
       "\n",
       "   availability_365  room  \n",
       "0                 0     0  \n",
       "1                 0     0  \n",
       "2                 0     1  \n",
       "3               345     0  \n",
       "4                 0     1  "
      ]
     },
     "execution_count": 24,
     "metadata": {},
     "output_type": "execute_result"
    }
   ],
   "source": [
    "AirbnbRentals.head()"
   ]
  },
  {
   "cell_type": "code",
   "execution_count": 25,
   "id": "d93eb016",
   "metadata": {},
   "outputs": [
    {
     "data": {
      "text/plain": [
       "Index(['name', 'neighbourhood', 'latitude', 'longitude', 'room_type', 'price',\n",
       "       'minimum_nights', 'number_of_reviews', 'availability_365', 'room'],\n",
       "      dtype='object')"
      ]
     },
     "execution_count": 25,
     "metadata": {},
     "output_type": "execute_result"
    }
   ],
   "source": [
    "AirbnbRentals.columns"
   ]
  },
  {
   "cell_type": "code",
   "execution_count": 26,
   "id": "7c00160a",
   "metadata": {},
   "outputs": [],
   "source": [
    "AirbnbRentals.to_csv(\"C:/Users/vanch/Desktop/Entity/DSO110/Wrangled Cities 2.0/AustinW.csv\")"
   ]
  },
  {
   "cell_type": "code",
   "execution_count": null,
   "id": "33381360",
   "metadata": {},
   "outputs": [],
   "source": []
  }
 ],
 "metadata": {
  "kernelspec": {
   "display_name": "Python 3",
   "language": "python",
   "name": "python3"
  },
  "language_info": {
   "codemirror_mode": {
    "name": "ipython",
    "version": 3
   },
   "file_extension": ".py",
   "mimetype": "text/x-python",
   "name": "python",
   "nbconvert_exporter": "python",
   "pygments_lexer": "ipython3",
   "version": "3.8.8"
  }
 },
 "nbformat": 4,
 "nbformat_minor": 5
}
