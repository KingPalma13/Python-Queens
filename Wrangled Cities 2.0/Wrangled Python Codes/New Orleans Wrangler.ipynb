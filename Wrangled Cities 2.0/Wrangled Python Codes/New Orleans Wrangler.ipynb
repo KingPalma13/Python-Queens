{
 "cells": [
  {
   "cell_type": "code",
   "execution_count": 1,
   "id": "bf877c23",
   "metadata": {},
   "outputs": [],
   "source": [
    "import pandas as pd\n",
    "import numpy as np"
   ]
  },
  {
   "cell_type": "code",
   "execution_count": 2,
   "id": "95cd65f8",
   "metadata": {},
   "outputs": [],
   "source": [
    "#Loading dataset from folder location"
   ]
  },
  {
   "cell_type": "code",
   "execution_count": 3,
   "id": "92d46352",
   "metadata": {},
   "outputs": [],
   "source": [
    "AirbnbRentals = pd.read_excel(\"C:/Users/vanch/Desktop/Entity/DSO110/Wrangled Cities 2.0/New Orleans.xlsx\")"
   ]
  },
  {
   "cell_type": "code",
   "execution_count": 4,
   "id": "58f6509d",
   "metadata": {
    "scrolled": true
   },
   "outputs": [
    {
     "data": {
      "text/html": [
       "<div>\n",
       "<style scoped>\n",
       "    .dataframe tbody tr th:only-of-type {\n",
       "        vertical-align: middle;\n",
       "    }\n",
       "\n",
       "    .dataframe tbody tr th {\n",
       "        vertical-align: top;\n",
       "    }\n",
       "\n",
       "    .dataframe thead th {\n",
       "        text-align: right;\n",
       "    }\n",
       "</style>\n",
       "<table border=\"1\" class=\"dataframe\">\n",
       "  <thead>\n",
       "    <tr style=\"text-align: right;\">\n",
       "      <th></th>\n",
       "      <th>id</th>\n",
       "      <th>name</th>\n",
       "      <th>host_id</th>\n",
       "      <th>host_name</th>\n",
       "      <th>neighbourhood_group</th>\n",
       "      <th>neighbourhood</th>\n",
       "      <th>latitude</th>\n",
       "      <th>longitude</th>\n",
       "      <th>room_type</th>\n",
       "      <th>price</th>\n",
       "      <th>minimum_nights</th>\n",
       "      <th>number_of_reviews</th>\n",
       "      <th>last_review</th>\n",
       "      <th>reviews_per_month</th>\n",
       "      <th>calculated_host_listings_count</th>\n",
       "      <th>availability_365</th>\n",
       "      <th>number_of_reviews_ltm</th>\n",
       "      <th>license</th>\n",
       "    </tr>\n",
       "  </thead>\n",
       "  <tbody>\n",
       "    <tr>\n",
       "      <th>0</th>\n",
       "      <td>19091</td>\n",
       "      <td>Fully Furnished Cozy Apartment</td>\n",
       "      <td>72880</td>\n",
       "      <td>John</td>\n",
       "      <td>NaN</td>\n",
       "      <td>Leonidas</td>\n",
       "      <td>29.96100</td>\n",
       "      <td>-90.11950</td>\n",
       "      <td>Entire home/apt</td>\n",
       "      <td>60</td>\n",
       "      <td>1</td>\n",
       "      <td>478</td>\n",
       "      <td>2021-12-03</td>\n",
       "      <td>3.37</td>\n",
       "      <td>1</td>\n",
       "      <td>183</td>\n",
       "      <td>11</td>\n",
       "      <td>17STR-08877, 20-OSTR-0105</td>\n",
       "    </tr>\n",
       "    <tr>\n",
       "      <th>1</th>\n",
       "      <td>71624</td>\n",
       "      <td>Ravenwood Manor (Historic Bywater)</td>\n",
       "      <td>367223</td>\n",
       "      <td>Susan</td>\n",
       "      <td>NaN</td>\n",
       "      <td>Bywater</td>\n",
       "      <td>29.96153</td>\n",
       "      <td>-90.04364</td>\n",
       "      <td>Entire home/apt</td>\n",
       "      <td>130</td>\n",
       "      <td>3</td>\n",
       "      <td>245</td>\n",
       "      <td>2021-11-17</td>\n",
       "      <td>1.86</td>\n",
       "      <td>1</td>\n",
       "      <td>332</td>\n",
       "      <td>19</td>\n",
       "      <td>20RSTR-31027, 20-OSTR-31018</td>\n",
       "    </tr>\n",
       "    <tr>\n",
       "      <th>2</th>\n",
       "      <td>74498</td>\n",
       "      <td>Maison Marais 1: Large Local Living</td>\n",
       "      <td>391462</td>\n",
       "      <td>Georgia</td>\n",
       "      <td>NaN</td>\n",
       "      <td>St. Roch</td>\n",
       "      <td>29.96986</td>\n",
       "      <td>-90.05172</td>\n",
       "      <td>Entire home/apt</td>\n",
       "      <td>92</td>\n",
       "      <td>3</td>\n",
       "      <td>521</td>\n",
       "      <td>2021-11-22</td>\n",
       "      <td>3.99</td>\n",
       "      <td>2</td>\n",
       "      <td>238</td>\n",
       "      <td>25</td>\n",
       "      <td>Exempt: This listing is a licensed hotel, mote...</td>\n",
       "    </tr>\n",
       "    <tr>\n",
       "      <th>3</th>\n",
       "      <td>79536</td>\n",
       "      <td>FeelAtHomeInNO PrivateApt</td>\n",
       "      <td>428362</td>\n",
       "      <td>Miriam</td>\n",
       "      <td>NaN</td>\n",
       "      <td>Seventh Ward</td>\n",
       "      <td>29.97803</td>\n",
       "      <td>-90.07450</td>\n",
       "      <td>Entire home/apt</td>\n",
       "      <td>75</td>\n",
       "      <td>4</td>\n",
       "      <td>524</td>\n",
       "      <td>2021-11-30</td>\n",
       "      <td>4.06</td>\n",
       "      <td>1</td>\n",
       "      <td>9</td>\n",
       "      <td>22</td>\n",
       "      <td>20RSTR-32056, 20-OSTR-00016</td>\n",
       "    </tr>\n",
       "    <tr>\n",
       "      <th>4</th>\n",
       "      <td>79542</td>\n",
       "      <td>Beautiful Room Uptown Home - License 17STR-10083</td>\n",
       "      <td>428397</td>\n",
       "      <td>James</td>\n",
       "      <td>NaN</td>\n",
       "      <td>Marlyville - Fontainbleau</td>\n",
       "      <td>29.94470</td>\n",
       "      <td>-90.11289</td>\n",
       "      <td>Private room</td>\n",
       "      <td>89</td>\n",
       "      <td>3</td>\n",
       "      <td>39</td>\n",
       "      <td>2021-11-15</td>\n",
       "      <td>0.33</td>\n",
       "      <td>2</td>\n",
       "      <td>280</td>\n",
       "      <td>3</td>\n",
       "      <td>17str-10083, 20-OSTR-0545</td>\n",
       "    </tr>\n",
       "  </tbody>\n",
       "</table>\n",
       "</div>"
      ],
      "text/plain": [
       "      id                                              name  host_id host_name  \\\n",
       "0  19091                    Fully Furnished Cozy Apartment    72880      John   \n",
       "1  71624                Ravenwood Manor (Historic Bywater)   367223     Susan   \n",
       "2  74498               Maison Marais 1: Large Local Living   391462   Georgia   \n",
       "3  79536                         FeelAtHomeInNO PrivateApt   428362    Miriam   \n",
       "4  79542  Beautiful Room Uptown Home - License 17STR-10083   428397     James   \n",
       "\n",
       "   neighbourhood_group              neighbourhood  latitude  longitude  \\\n",
       "0                  NaN                   Leonidas  29.96100  -90.11950   \n",
       "1                  NaN                    Bywater  29.96153  -90.04364   \n",
       "2                  NaN                   St. Roch  29.96986  -90.05172   \n",
       "3                  NaN               Seventh Ward  29.97803  -90.07450   \n",
       "4                  NaN  Marlyville - Fontainbleau  29.94470  -90.11289   \n",
       "\n",
       "         room_type  price  minimum_nights  number_of_reviews last_review  \\\n",
       "0  Entire home/apt     60               1                478  2021-12-03   \n",
       "1  Entire home/apt    130               3                245  2021-11-17   \n",
       "2  Entire home/apt     92               3                521  2021-11-22   \n",
       "3  Entire home/apt     75               4                524  2021-11-30   \n",
       "4     Private room     89               3                 39  2021-11-15   \n",
       "\n",
       "   reviews_per_month  calculated_host_listings_count  availability_365  \\\n",
       "0               3.37                               1               183   \n",
       "1               1.86                               1               332   \n",
       "2               3.99                               2               238   \n",
       "3               4.06                               1                 9   \n",
       "4               0.33                               2               280   \n",
       "\n",
       "   number_of_reviews_ltm                                            license  \n",
       "0                     11                          17STR-08877, 20-OSTR-0105  \n",
       "1                     19                        20RSTR-31027, 20-OSTR-31018  \n",
       "2                     25  Exempt: This listing is a licensed hotel, mote...  \n",
       "3                     22                        20RSTR-32056, 20-OSTR-00016  \n",
       "4                      3                          17str-10083, 20-OSTR-0545  "
      ]
     },
     "execution_count": 4,
     "metadata": {},
     "output_type": "execute_result"
    }
   ],
   "source": [
    "AirbnbRentals.head()"
   ]
  },
  {
   "cell_type": "code",
   "execution_count": 5,
   "id": "7b2563e4",
   "metadata": {},
   "outputs": [],
   "source": [
    "#Checking for columns and names of columns"
   ]
  },
  {
   "cell_type": "code",
   "execution_count": 6,
   "id": "47113ddf",
   "metadata": {},
   "outputs": [
    {
     "data": {
      "text/plain": [
       "Index(['id', 'name', 'host_id', 'host_name', 'neighbourhood_group',\n",
       "       'neighbourhood', 'latitude', 'longitude', 'room_type', 'price',\n",
       "       'minimum_nights', 'number_of_reviews', 'last_review',\n",
       "       'reviews_per_month', 'calculated_host_listings_count',\n",
       "       'availability_365', 'number_of_reviews_ltm', 'license'],\n",
       "      dtype='object')"
      ]
     },
     "execution_count": 6,
     "metadata": {},
     "output_type": "execute_result"
    }
   ],
   "source": [
    "AirbnbRentals.columns"
   ]
  },
  {
   "cell_type": "code",
   "execution_count": 7,
   "id": "4e872bfe",
   "metadata": {},
   "outputs": [],
   "source": [
    "#Removing columns with irrelevant information"
   ]
  },
  {
   "cell_type": "code",
   "execution_count": 8,
   "id": "5102e5b5",
   "metadata": {},
   "outputs": [],
   "source": [
    "AirbnbRentals.drop(['id', 'host_id', 'host_name', 'neighbourhood_group', 'number_of_reviews_ltm', 'last_review',\n",
    "                    'reviews_per_month', 'calculated_host_listings_count', 'license'],axis=1, inplace=True)"
   ]
  },
  {
   "cell_type": "code",
   "execution_count": 9,
   "id": "a63b44e3",
   "metadata": {},
   "outputs": [
    {
     "data": {
      "text/html": [
       "<div>\n",
       "<style scoped>\n",
       "    .dataframe tbody tr th:only-of-type {\n",
       "        vertical-align: middle;\n",
       "    }\n",
       "\n",
       "    .dataframe tbody tr th {\n",
       "        vertical-align: top;\n",
       "    }\n",
       "\n",
       "    .dataframe thead th {\n",
       "        text-align: right;\n",
       "    }\n",
       "</style>\n",
       "<table border=\"1\" class=\"dataframe\">\n",
       "  <thead>\n",
       "    <tr style=\"text-align: right;\">\n",
       "      <th></th>\n",
       "      <th>name</th>\n",
       "      <th>neighbourhood</th>\n",
       "      <th>latitude</th>\n",
       "      <th>longitude</th>\n",
       "      <th>room_type</th>\n",
       "      <th>price</th>\n",
       "      <th>minimum_nights</th>\n",
       "      <th>number_of_reviews</th>\n",
       "      <th>availability_365</th>\n",
       "    </tr>\n",
       "  </thead>\n",
       "  <tbody>\n",
       "    <tr>\n",
       "      <th>0</th>\n",
       "      <td>Fully Furnished Cozy Apartment</td>\n",
       "      <td>Leonidas</td>\n",
       "      <td>29.96100</td>\n",
       "      <td>-90.11950</td>\n",
       "      <td>Entire home/apt</td>\n",
       "      <td>60</td>\n",
       "      <td>1</td>\n",
       "      <td>478</td>\n",
       "      <td>183</td>\n",
       "    </tr>\n",
       "    <tr>\n",
       "      <th>1</th>\n",
       "      <td>Ravenwood Manor (Historic Bywater)</td>\n",
       "      <td>Bywater</td>\n",
       "      <td>29.96153</td>\n",
       "      <td>-90.04364</td>\n",
       "      <td>Entire home/apt</td>\n",
       "      <td>130</td>\n",
       "      <td>3</td>\n",
       "      <td>245</td>\n",
       "      <td>332</td>\n",
       "    </tr>\n",
       "    <tr>\n",
       "      <th>2</th>\n",
       "      <td>Maison Marais 1: Large Local Living</td>\n",
       "      <td>St. Roch</td>\n",
       "      <td>29.96986</td>\n",
       "      <td>-90.05172</td>\n",
       "      <td>Entire home/apt</td>\n",
       "      <td>92</td>\n",
       "      <td>3</td>\n",
       "      <td>521</td>\n",
       "      <td>238</td>\n",
       "    </tr>\n",
       "    <tr>\n",
       "      <th>3</th>\n",
       "      <td>FeelAtHomeInNO PrivateApt</td>\n",
       "      <td>Seventh Ward</td>\n",
       "      <td>29.97803</td>\n",
       "      <td>-90.07450</td>\n",
       "      <td>Entire home/apt</td>\n",
       "      <td>75</td>\n",
       "      <td>4</td>\n",
       "      <td>524</td>\n",
       "      <td>9</td>\n",
       "    </tr>\n",
       "    <tr>\n",
       "      <th>4</th>\n",
       "      <td>Beautiful Room Uptown Home - License 17STR-10083</td>\n",
       "      <td>Marlyville - Fontainbleau</td>\n",
       "      <td>29.94470</td>\n",
       "      <td>-90.11289</td>\n",
       "      <td>Private room</td>\n",
       "      <td>89</td>\n",
       "      <td>3</td>\n",
       "      <td>39</td>\n",
       "      <td>280</td>\n",
       "    </tr>\n",
       "  </tbody>\n",
       "</table>\n",
       "</div>"
      ],
      "text/plain": [
       "                                               name  \\\n",
       "0                    Fully Furnished Cozy Apartment   \n",
       "1                Ravenwood Manor (Historic Bywater)   \n",
       "2               Maison Marais 1: Large Local Living   \n",
       "3                         FeelAtHomeInNO PrivateApt   \n",
       "4  Beautiful Room Uptown Home - License 17STR-10083   \n",
       "\n",
       "               neighbourhood  latitude  longitude        room_type  price  \\\n",
       "0                   Leonidas  29.96100  -90.11950  Entire home/apt     60   \n",
       "1                    Bywater  29.96153  -90.04364  Entire home/apt    130   \n",
       "2                   St. Roch  29.96986  -90.05172  Entire home/apt     92   \n",
       "3               Seventh Ward  29.97803  -90.07450  Entire home/apt     75   \n",
       "4  Marlyville - Fontainbleau  29.94470  -90.11289     Private room     89   \n",
       "\n",
       "   minimum_nights  number_of_reviews  availability_365  \n",
       "0               1                478               183  \n",
       "1               3                245               332  \n",
       "2               3                521               238  \n",
       "3               4                524                 9  \n",
       "4               3                 39               280  "
      ]
     },
     "execution_count": 9,
     "metadata": {},
     "output_type": "execute_result"
    }
   ],
   "source": [
    "AirbnbRentals.head()"
   ]
  },
  {
   "cell_type": "code",
   "execution_count": 10,
   "id": "cb63ac2e",
   "metadata": {},
   "outputs": [],
   "source": [
    "#Checking district counts"
   ]
  },
  {
   "cell_type": "code",
   "execution_count": 11,
   "id": "2db52a11",
   "metadata": {
    "scrolled": true
   },
   "outputs": [
    {
     "data": {
      "text/plain": [
       "Central Business District    851\n",
       "Central City                 510\n",
       "Marigny                      385\n",
       "Seventh Ward                 383\n",
       "Treme - Lafitte              376\n",
       "                            ... \n",
       "West Lake Forest               4\n",
       "Dixon                          3\n",
       "New Aurora - English Turn      3\n",
       "B. W. Cooper                   2\n",
       "Read Blvd West                 2\n",
       "Name: neighbourhood, Length: 67, dtype: int64"
      ]
     },
     "execution_count": 11,
     "metadata": {},
     "output_type": "execute_result"
    }
   ],
   "source": [
    "AirbnbRentals['neighbourhood'].value_counts()"
   ]
  },
  {
   "cell_type": "code",
   "execution_count": 12,
   "id": "08fed0a6",
   "metadata": {},
   "outputs": [],
   "source": [
    "#Checking for null data"
   ]
  },
  {
   "cell_type": "code",
   "execution_count": 13,
   "id": "16f0e2a4",
   "metadata": {},
   "outputs": [
    {
     "data": {
      "text/plain": [
       "name                 0\n",
       "neighbourhood        0\n",
       "latitude             0\n",
       "longitude            0\n",
       "room_type            0\n",
       "price                0\n",
       "minimum_nights       0\n",
       "number_of_reviews    0\n",
       "availability_365     0\n",
       "dtype: int64"
      ]
     },
     "execution_count": 13,
     "metadata": {},
     "output_type": "execute_result"
    }
   ],
   "source": [
    "AirbnbRentals.isnull().sum()"
   ]
  },
  {
   "cell_type": "code",
   "execution_count": 14,
   "id": "5876e9da",
   "metadata": {},
   "outputs": [
    {
     "data": {
      "text/plain": [
       "(6038, 9)"
      ]
     },
     "execution_count": 14,
     "metadata": {},
     "output_type": "execute_result"
    }
   ],
   "source": [
    "AirbnbRentals.shape"
   ]
  },
  {
   "cell_type": "code",
   "execution_count": 15,
   "id": "61cd05b1",
   "metadata": {},
   "outputs": [],
   "source": [
    "#Checking data types and names for remaining columns"
   ]
  },
  {
   "cell_type": "code",
   "execution_count": 16,
   "id": "dce511ec",
   "metadata": {},
   "outputs": [
    {
     "name": "stdout",
     "output_type": "stream",
     "text": [
      "name                  object\n",
      "neighbourhood         object\n",
      "latitude             float64\n",
      "longitude            float64\n",
      "room_type             object\n",
      "price                  int64\n",
      "minimum_nights         int64\n",
      "number_of_reviews      int64\n",
      "availability_365       int64\n",
      "dtype: object\n"
     ]
    }
   ],
   "source": [
    "print(AirbnbRentals.dtypes)"
   ]
  },
  {
   "cell_type": "code",
   "execution_count": 17,
   "id": "646b439e",
   "metadata": {},
   "outputs": [
    {
     "data": {
      "text/plain": [
       "Index(['name', 'neighbourhood', 'latitude', 'longitude', 'room_type', 'price',\n",
       "       'minimum_nights', 'number_of_reviews', 'availability_365'],\n",
       "      dtype='object')"
      ]
     },
     "execution_count": 17,
     "metadata": {},
     "output_type": "execute_result"
    }
   ],
   "source": [
    "AirbnbRentals.columns"
   ]
  },
  {
   "cell_type": "code",
   "execution_count": 18,
   "id": "c545b2ee",
   "metadata": {},
   "outputs": [],
   "source": [
    "#Counting totals of each variable in column"
   ]
  },
  {
   "cell_type": "code",
   "execution_count": 19,
   "id": "fe22a150",
   "metadata": {},
   "outputs": [
    {
     "data": {
      "text/plain": [
       "Entire home/apt    5124\n",
       "Private room        810\n",
       "Hotel room           70\n",
       "Shared room          34\n",
       "Name: room_type, dtype: int64"
      ]
     },
     "execution_count": 19,
     "metadata": {},
     "output_type": "execute_result"
    }
   ],
   "source": [
    "AirbnbRentals['room_type'].value_counts()"
   ]
  },
  {
   "cell_type": "code",
   "execution_count": 20,
   "id": "015e2faf",
   "metadata": {},
   "outputs": [],
   "source": [
    "#Recoding room_type into integers"
   ]
  },
  {
   "cell_type": "code",
   "execution_count": 21,
   "id": "15f03665",
   "metadata": {},
   "outputs": [],
   "source": [
    "def room (series): \n",
    "\n",
    "    if series == \"Entire home/apt\":\n",
    "\n",
    "        return 0\n",
    "\n",
    "    if series == \"Private room\": \n",
    "\n",
    "        return 1\n",
    "\n",
    "    if series == \"Shared room\": \n",
    "\n",
    "        return 2\n",
    "\n",
    "    if series == \"Hotel room\": \n",
    "\n",
    "        return 3\n",
    "\n",
    "AirbnbRentals['room'] = AirbnbRentals['room_type'].apply(room)"
   ]
  },
  {
   "cell_type": "code",
   "execution_count": 22,
   "id": "fe70ac6a",
   "metadata": {
    "scrolled": true
   },
   "outputs": [
    {
     "data": {
      "text/html": [
       "<div>\n",
       "<style scoped>\n",
       "    .dataframe tbody tr th:only-of-type {\n",
       "        vertical-align: middle;\n",
       "    }\n",
       "\n",
       "    .dataframe tbody tr th {\n",
       "        vertical-align: top;\n",
       "    }\n",
       "\n",
       "    .dataframe thead th {\n",
       "        text-align: right;\n",
       "    }\n",
       "</style>\n",
       "<table border=\"1\" class=\"dataframe\">\n",
       "  <thead>\n",
       "    <tr style=\"text-align: right;\">\n",
       "      <th></th>\n",
       "      <th>name</th>\n",
       "      <th>neighbourhood</th>\n",
       "      <th>latitude</th>\n",
       "      <th>longitude</th>\n",
       "      <th>room_type</th>\n",
       "      <th>price</th>\n",
       "      <th>minimum_nights</th>\n",
       "      <th>number_of_reviews</th>\n",
       "      <th>availability_365</th>\n",
       "      <th>room</th>\n",
       "    </tr>\n",
       "  </thead>\n",
       "  <tbody>\n",
       "    <tr>\n",
       "      <th>0</th>\n",
       "      <td>Fully Furnished Cozy Apartment</td>\n",
       "      <td>Leonidas</td>\n",
       "      <td>29.96100</td>\n",
       "      <td>-90.11950</td>\n",
       "      <td>Entire home/apt</td>\n",
       "      <td>60</td>\n",
       "      <td>1</td>\n",
       "      <td>478</td>\n",
       "      <td>183</td>\n",
       "      <td>0</td>\n",
       "    </tr>\n",
       "    <tr>\n",
       "      <th>1</th>\n",
       "      <td>Ravenwood Manor (Historic Bywater)</td>\n",
       "      <td>Bywater</td>\n",
       "      <td>29.96153</td>\n",
       "      <td>-90.04364</td>\n",
       "      <td>Entire home/apt</td>\n",
       "      <td>130</td>\n",
       "      <td>3</td>\n",
       "      <td>245</td>\n",
       "      <td>332</td>\n",
       "      <td>0</td>\n",
       "    </tr>\n",
       "    <tr>\n",
       "      <th>2</th>\n",
       "      <td>Maison Marais 1: Large Local Living</td>\n",
       "      <td>St. Roch</td>\n",
       "      <td>29.96986</td>\n",
       "      <td>-90.05172</td>\n",
       "      <td>Entire home/apt</td>\n",
       "      <td>92</td>\n",
       "      <td>3</td>\n",
       "      <td>521</td>\n",
       "      <td>238</td>\n",
       "      <td>0</td>\n",
       "    </tr>\n",
       "    <tr>\n",
       "      <th>3</th>\n",
       "      <td>FeelAtHomeInNO PrivateApt</td>\n",
       "      <td>Seventh Ward</td>\n",
       "      <td>29.97803</td>\n",
       "      <td>-90.07450</td>\n",
       "      <td>Entire home/apt</td>\n",
       "      <td>75</td>\n",
       "      <td>4</td>\n",
       "      <td>524</td>\n",
       "      <td>9</td>\n",
       "      <td>0</td>\n",
       "    </tr>\n",
       "    <tr>\n",
       "      <th>4</th>\n",
       "      <td>Beautiful Room Uptown Home - License 17STR-10083</td>\n",
       "      <td>Marlyville - Fontainbleau</td>\n",
       "      <td>29.94470</td>\n",
       "      <td>-90.11289</td>\n",
       "      <td>Private room</td>\n",
       "      <td>89</td>\n",
       "      <td>3</td>\n",
       "      <td>39</td>\n",
       "      <td>280</td>\n",
       "      <td>1</td>\n",
       "    </tr>\n",
       "  </tbody>\n",
       "</table>\n",
       "</div>"
      ],
      "text/plain": [
       "                                               name  \\\n",
       "0                    Fully Furnished Cozy Apartment   \n",
       "1                Ravenwood Manor (Historic Bywater)   \n",
       "2               Maison Marais 1: Large Local Living   \n",
       "3                         FeelAtHomeInNO PrivateApt   \n",
       "4  Beautiful Room Uptown Home - License 17STR-10083   \n",
       "\n",
       "               neighbourhood  latitude  longitude        room_type  price  \\\n",
       "0                   Leonidas  29.96100  -90.11950  Entire home/apt     60   \n",
       "1                    Bywater  29.96153  -90.04364  Entire home/apt    130   \n",
       "2                   St. Roch  29.96986  -90.05172  Entire home/apt     92   \n",
       "3               Seventh Ward  29.97803  -90.07450  Entire home/apt     75   \n",
       "4  Marlyville - Fontainbleau  29.94470  -90.11289     Private room     89   \n",
       "\n",
       "   minimum_nights  number_of_reviews  availability_365  room  \n",
       "0               1                478               183     0  \n",
       "1               3                245               332     0  \n",
       "2               3                521               238     0  \n",
       "3               4                524                 9     0  \n",
       "4               3                 39               280     1  "
      ]
     },
     "execution_count": 22,
     "metadata": {},
     "output_type": "execute_result"
    }
   ],
   "source": [
    "AirbnbRentals.head()"
   ]
  },
  {
   "cell_type": "code",
   "execution_count": 23,
   "id": "d93eb016",
   "metadata": {},
   "outputs": [
    {
     "data": {
      "text/plain": [
       "Index(['name', 'neighbourhood', 'latitude', 'longitude', 'room_type', 'price',\n",
       "       'minimum_nights', 'number_of_reviews', 'availability_365', 'room'],\n",
       "      dtype='object')"
      ]
     },
     "execution_count": 23,
     "metadata": {},
     "output_type": "execute_result"
    }
   ],
   "source": [
    "AirbnbRentals.columns"
   ]
  },
  {
   "cell_type": "code",
   "execution_count": 24,
   "id": "7c00160a",
   "metadata": {},
   "outputs": [],
   "source": [
    "AirbnbRentals.to_csv(\"C:/Users/vanch/Desktop/Entity/DSO110/Wrangled Cities 2.0/NO.csv\")"
   ]
  },
  {
   "cell_type": "code",
   "execution_count": null,
   "id": "33381360",
   "metadata": {},
   "outputs": [],
   "source": []
  }
 ],
 "metadata": {
  "kernelspec": {
   "display_name": "Python 3",
   "language": "python",
   "name": "python3"
  },
  "language_info": {
   "codemirror_mode": {
    "name": "ipython",
    "version": 3
   },
   "file_extension": ".py",
   "mimetype": "text/x-python",
   "name": "python",
   "nbconvert_exporter": "python",
   "pygments_lexer": "ipython3",
   "version": "3.8.8"
  }
 },
 "nbformat": 4,
 "nbformat_minor": 5
}
