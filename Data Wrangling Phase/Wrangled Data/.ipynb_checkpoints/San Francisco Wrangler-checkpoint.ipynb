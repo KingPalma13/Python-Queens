{
 "cells": [
  {
   "cell_type": "code",
   "execution_count": 1,
   "id": "bf877c23",
   "metadata": {},
   "outputs": [],
   "source": [
    "import pandas as pd\n",
    "import numpy as np"
   ]
  },
  {
   "cell_type": "code",
   "execution_count": 2,
   "id": "95cd65f8",
   "metadata": {},
   "outputs": [],
   "source": [
    "#Loading dataset from folder location"
   ]
  },
  {
   "cell_type": "code",
   "execution_count": 3,
   "id": "92d46352",
   "metadata": {},
   "outputs": [],
   "source": [
    "AirbnbRentals = pd.read_csv(\"C:/Users/vanch/Desktop/Entity/DSO110/Wrangled Cities 2.0/San Francisco.csv\")"
   ]
  },
  {
   "cell_type": "code",
   "execution_count": 4,
   "id": "58f6509d",
   "metadata": {
    "scrolled": true
   },
   "outputs": [
    {
     "data": {
      "text/html": [
       "<div>\n",
       "<style scoped>\n",
       "    .dataframe tbody tr th:only-of-type {\n",
       "        vertical-align: middle;\n",
       "    }\n",
       "\n",
       "    .dataframe tbody tr th {\n",
       "        vertical-align: top;\n",
       "    }\n",
       "\n",
       "    .dataframe thead th {\n",
       "        text-align: right;\n",
       "    }\n",
       "</style>\n",
       "<table border=\"1\" class=\"dataframe\">\n",
       "  <thead>\n",
       "    <tr style=\"text-align: right;\">\n",
       "      <th></th>\n",
       "      <th>id</th>\n",
       "      <th>name</th>\n",
       "      <th>host_id</th>\n",
       "      <th>host_name</th>\n",
       "      <th>neighbourhood_group</th>\n",
       "      <th>neighbourhood</th>\n",
       "      <th>latitude</th>\n",
       "      <th>longitude</th>\n",
       "      <th>room_type</th>\n",
       "      <th>price</th>\n",
       "      <th>minimum_nights</th>\n",
       "      <th>number_of_reviews</th>\n",
       "      <th>last_review</th>\n",
       "      <th>reviews_per_month</th>\n",
       "      <th>calculated_host_listings_count</th>\n",
       "      <th>availability_365</th>\n",
       "      <th>number_of_reviews_ltm</th>\n",
       "      <th>license</th>\n",
       "    </tr>\n",
       "  </thead>\n",
       "  <tbody>\n",
       "    <tr>\n",
       "      <th>0</th>\n",
       "      <td>2318</td>\n",
       "      <td>Casa Madrona - Urban Oasis 1 block from the park!</td>\n",
       "      <td>2536</td>\n",
       "      <td>Megan</td>\n",
       "      <td>Central Area</td>\n",
       "      <td>Madrona</td>\n",
       "      <td>47.61094</td>\n",
       "      <td>-122.29286</td>\n",
       "      <td>Entire home/apt</td>\n",
       "      <td>333</td>\n",
       "      <td>7</td>\n",
       "      <td>36</td>\n",
       "      <td>2021-11-30</td>\n",
       "      <td>0.22</td>\n",
       "      <td>1</td>\n",
       "      <td>332</td>\n",
       "      <td>4</td>\n",
       "      <td>STR-OPLI-19-002837</td>\n",
       "    </tr>\n",
       "    <tr>\n",
       "      <th>1</th>\n",
       "      <td>6606</td>\n",
       "      <td>Fab, private seattle urban cottage!</td>\n",
       "      <td>14942</td>\n",
       "      <td>Joyce</td>\n",
       "      <td>Other neighborhoods</td>\n",
       "      <td>Wallingford</td>\n",
       "      <td>47.65444</td>\n",
       "      <td>-122.33629</td>\n",
       "      <td>Entire home/apt</td>\n",
       "      <td>99</td>\n",
       "      <td>3</td>\n",
       "      <td>157</td>\n",
       "      <td>2021-09-14</td>\n",
       "      <td>1.04</td>\n",
       "      <td>2</td>\n",
       "      <td>0</td>\n",
       "      <td>8</td>\n",
       "      <td>str-opli-19-002622</td>\n",
       "    </tr>\n",
       "    <tr>\n",
       "      <th>2</th>\n",
       "      <td>9419</td>\n",
       "      <td>Glorious sun room w/ memory foambed</td>\n",
       "      <td>30559</td>\n",
       "      <td>Angielena</td>\n",
       "      <td>Other neighborhoods</td>\n",
       "      <td>Georgetown</td>\n",
       "      <td>47.55017</td>\n",
       "      <td>-122.31937</td>\n",
       "      <td>Private room</td>\n",
       "      <td>62</td>\n",
       "      <td>2</td>\n",
       "      <td>154</td>\n",
       "      <td>2021-10-16</td>\n",
       "      <td>1.11</td>\n",
       "      <td>8</td>\n",
       "      <td>365</td>\n",
       "      <td>6</td>\n",
       "      <td>STR-OPLI-19-003039</td>\n",
       "    </tr>\n",
       "    <tr>\n",
       "      <th>3</th>\n",
       "      <td>9531</td>\n",
       "      <td>The Adorable Sweet Orange Craftsman</td>\n",
       "      <td>31481</td>\n",
       "      <td>Cassie</td>\n",
       "      <td>West Seattle</td>\n",
       "      <td>Fairmount Park</td>\n",
       "      <td>47.55495</td>\n",
       "      <td>-122.38663</td>\n",
       "      <td>Entire home/apt</td>\n",
       "      <td>185</td>\n",
       "      <td>2</td>\n",
       "      <td>54</td>\n",
       "      <td>2021-12-07</td>\n",
       "      <td>0.45</td>\n",
       "      <td>2</td>\n",
       "      <td>269</td>\n",
       "      <td>13</td>\n",
       "      <td>STR-OPLI-19-002182</td>\n",
       "    </tr>\n",
       "    <tr>\n",
       "      <th>4</th>\n",
       "      <td>9534</td>\n",
       "      <td>The Coolest Tangerine Dream MIL!</td>\n",
       "      <td>31481</td>\n",
       "      <td>Cassie</td>\n",
       "      <td>West Seattle</td>\n",
       "      <td>Fairmount Park</td>\n",
       "      <td>47.55627</td>\n",
       "      <td>-122.38607</td>\n",
       "      <td>Entire home/apt</td>\n",
       "      <td>145</td>\n",
       "      <td>5</td>\n",
       "      <td>59</td>\n",
       "      <td>2021-10-15</td>\n",
       "      <td>0.49</td>\n",
       "      <td>2</td>\n",
       "      <td>202</td>\n",
       "      <td>5</td>\n",
       "      <td>STR-OPLI-19-002182</td>\n",
       "    </tr>\n",
       "  </tbody>\n",
       "</table>\n",
       "</div>"
      ],
      "text/plain": [
       "     id                                               name  host_id  \\\n",
       "0  2318  Casa Madrona - Urban Oasis 1 block from the park!     2536   \n",
       "1  6606                Fab, private seattle urban cottage!    14942   \n",
       "2  9419                Glorious sun room w/ memory foambed    30559   \n",
       "3  9531                The Adorable Sweet Orange Craftsman    31481   \n",
       "4  9534                   The Coolest Tangerine Dream MIL!    31481   \n",
       "\n",
       "   host_name  neighbourhood_group   neighbourhood  latitude  longitude  \\\n",
       "0      Megan         Central Area         Madrona  47.61094 -122.29286   \n",
       "1      Joyce  Other neighborhoods     Wallingford  47.65444 -122.33629   \n",
       "2  Angielena  Other neighborhoods      Georgetown  47.55017 -122.31937   \n",
       "3     Cassie         West Seattle  Fairmount Park  47.55495 -122.38663   \n",
       "4     Cassie         West Seattle  Fairmount Park  47.55627 -122.38607   \n",
       "\n",
       "         room_type  price  minimum_nights  number_of_reviews last_review  \\\n",
       "0  Entire home/apt    333               7                 36  2021-11-30   \n",
       "1  Entire home/apt     99               3                157  2021-09-14   \n",
       "2     Private room     62               2                154  2021-10-16   \n",
       "3  Entire home/apt    185               2                 54  2021-12-07   \n",
       "4  Entire home/apt    145               5                 59  2021-10-15   \n",
       "\n",
       "   reviews_per_month  calculated_host_listings_count  availability_365  \\\n",
       "0               0.22                               1               332   \n",
       "1               1.04                               2                 0   \n",
       "2               1.11                               8               365   \n",
       "3               0.45                               2               269   \n",
       "4               0.49                               2               202   \n",
       "\n",
       "   number_of_reviews_ltm             license  \n",
       "0                      4  STR-OPLI-19-002837  \n",
       "1                      8  str-opli-19-002622  \n",
       "2                      6  STR-OPLI-19-003039  \n",
       "3                     13  STR-OPLI-19-002182  \n",
       "4                      5  STR-OPLI-19-002182  "
      ]
     },
     "execution_count": 4,
     "metadata": {},
     "output_type": "execute_result"
    }
   ],
   "source": [
    "AirbnbRentals.head()"
   ]
  },
  {
   "cell_type": "code",
   "execution_count": 5,
   "id": "7b2563e4",
   "metadata": {},
   "outputs": [],
   "source": [
    "#Checking for columns and names of columns"
   ]
  },
  {
   "cell_type": "code",
   "execution_count": 6,
   "id": "47113ddf",
   "metadata": {},
   "outputs": [
    {
     "data": {
      "text/plain": [
       "Index(['id', 'name', 'host_id', 'host_name', 'neighbourhood_group',\n",
       "       'neighbourhood', 'latitude', 'longitude', 'room_type', 'price',\n",
       "       'minimum_nights', 'number_of_reviews', 'last_review',\n",
       "       'reviews_per_month', 'calculated_host_listings_count',\n",
       "       'availability_365', 'number_of_reviews_ltm', 'license'],\n",
       "      dtype='object')"
      ]
     },
     "execution_count": 6,
     "metadata": {},
     "output_type": "execute_result"
    }
   ],
   "source": [
    "AirbnbRentals.columns"
   ]
  },
  {
   "cell_type": "code",
   "execution_count": 7,
   "id": "4e872bfe",
   "metadata": {},
   "outputs": [],
   "source": [
    "#Removing columns with irrelevant information"
   ]
  },
  {
   "cell_type": "code",
   "execution_count": 8,
   "id": "5102e5b5",
   "metadata": {},
   "outputs": [],
   "source": [
    "AirbnbRentals.drop(['id', 'host_id', 'host_name', 'neighbourhood_group', 'number_of_reviews_ltm', 'last_review',\n",
    "                    'reviews_per_month', 'calculated_host_listings_count', 'license'],axis=1, inplace=True)"
   ]
  },
  {
   "cell_type": "code",
   "execution_count": 9,
   "id": "a63b44e3",
   "metadata": {},
   "outputs": [
    {
     "data": {
      "text/html": [
       "<div>\n",
       "<style scoped>\n",
       "    .dataframe tbody tr th:only-of-type {\n",
       "        vertical-align: middle;\n",
       "    }\n",
       "\n",
       "    .dataframe tbody tr th {\n",
       "        vertical-align: top;\n",
       "    }\n",
       "\n",
       "    .dataframe thead th {\n",
       "        text-align: right;\n",
       "    }\n",
       "</style>\n",
       "<table border=\"1\" class=\"dataframe\">\n",
       "  <thead>\n",
       "    <tr style=\"text-align: right;\">\n",
       "      <th></th>\n",
       "      <th>name</th>\n",
       "      <th>neighbourhood</th>\n",
       "      <th>latitude</th>\n",
       "      <th>longitude</th>\n",
       "      <th>room_type</th>\n",
       "      <th>price</th>\n",
       "      <th>minimum_nights</th>\n",
       "      <th>number_of_reviews</th>\n",
       "      <th>availability_365</th>\n",
       "    </tr>\n",
       "  </thead>\n",
       "  <tbody>\n",
       "    <tr>\n",
       "      <th>0</th>\n",
       "      <td>Casa Madrona - Urban Oasis 1 block from the park!</td>\n",
       "      <td>Madrona</td>\n",
       "      <td>47.61094</td>\n",
       "      <td>-122.29286</td>\n",
       "      <td>Entire home/apt</td>\n",
       "      <td>333</td>\n",
       "      <td>7</td>\n",
       "      <td>36</td>\n",
       "      <td>332</td>\n",
       "    </tr>\n",
       "    <tr>\n",
       "      <th>1</th>\n",
       "      <td>Fab, private seattle urban cottage!</td>\n",
       "      <td>Wallingford</td>\n",
       "      <td>47.65444</td>\n",
       "      <td>-122.33629</td>\n",
       "      <td>Entire home/apt</td>\n",
       "      <td>99</td>\n",
       "      <td>3</td>\n",
       "      <td>157</td>\n",
       "      <td>0</td>\n",
       "    </tr>\n",
       "    <tr>\n",
       "      <th>2</th>\n",
       "      <td>Glorious sun room w/ memory foambed</td>\n",
       "      <td>Georgetown</td>\n",
       "      <td>47.55017</td>\n",
       "      <td>-122.31937</td>\n",
       "      <td>Private room</td>\n",
       "      <td>62</td>\n",
       "      <td>2</td>\n",
       "      <td>154</td>\n",
       "      <td>365</td>\n",
       "    </tr>\n",
       "    <tr>\n",
       "      <th>3</th>\n",
       "      <td>The Adorable Sweet Orange Craftsman</td>\n",
       "      <td>Fairmount Park</td>\n",
       "      <td>47.55495</td>\n",
       "      <td>-122.38663</td>\n",
       "      <td>Entire home/apt</td>\n",
       "      <td>185</td>\n",
       "      <td>2</td>\n",
       "      <td>54</td>\n",
       "      <td>269</td>\n",
       "    </tr>\n",
       "    <tr>\n",
       "      <th>4</th>\n",
       "      <td>The Coolest Tangerine Dream MIL!</td>\n",
       "      <td>Fairmount Park</td>\n",
       "      <td>47.55627</td>\n",
       "      <td>-122.38607</td>\n",
       "      <td>Entire home/apt</td>\n",
       "      <td>145</td>\n",
       "      <td>5</td>\n",
       "      <td>59</td>\n",
       "      <td>202</td>\n",
       "    </tr>\n",
       "  </tbody>\n",
       "</table>\n",
       "</div>"
      ],
      "text/plain": [
       "                                                name   neighbourhood  \\\n",
       "0  Casa Madrona - Urban Oasis 1 block from the park!         Madrona   \n",
       "1                Fab, private seattle urban cottage!     Wallingford   \n",
       "2                Glorious sun room w/ memory foambed      Georgetown   \n",
       "3                The Adorable Sweet Orange Craftsman  Fairmount Park   \n",
       "4                   The Coolest Tangerine Dream MIL!  Fairmount Park   \n",
       "\n",
       "   latitude  longitude        room_type  price  minimum_nights  \\\n",
       "0  47.61094 -122.29286  Entire home/apt    333               7   \n",
       "1  47.65444 -122.33629  Entire home/apt     99               3   \n",
       "2  47.55017 -122.31937     Private room     62               2   \n",
       "3  47.55495 -122.38663  Entire home/apt    185               2   \n",
       "4  47.55627 -122.38607  Entire home/apt    145               5   \n",
       "\n",
       "   number_of_reviews  availability_365  \n",
       "0                 36               332  \n",
       "1                157                 0  \n",
       "2                154               365  \n",
       "3                 54               269  \n",
       "4                 59               202  "
      ]
     },
     "execution_count": 9,
     "metadata": {},
     "output_type": "execute_result"
    }
   ],
   "source": [
    "AirbnbRentals.head()"
   ]
  },
  {
   "cell_type": "code",
   "execution_count": 10,
   "id": "cb63ac2e",
   "metadata": {},
   "outputs": [],
   "source": [
    "#Checking district counts"
   ]
  },
  {
   "cell_type": "code",
   "execution_count": 11,
   "id": "2db52a11",
   "metadata": {
    "scrolled": true
   },
   "outputs": [
    {
     "data": {
      "text/plain": [
       "Belltown               286\n",
       "Broadway               285\n",
       "University District    180\n",
       "Fremont                167\n",
       "Wallingford            154\n",
       "                      ... \n",
       "Windermere               7\n",
       "Holly Park               5\n",
       "Meadowbrook              5\n",
       "Harbor Island            1\n",
       "Industrial District      1\n",
       "Name: neighbourhood, Length: 89, dtype: int64"
      ]
     },
     "execution_count": 11,
     "metadata": {},
     "output_type": "execute_result"
    }
   ],
   "source": [
    "AirbnbRentals['neighbourhood'].value_counts()"
   ]
  },
  {
   "cell_type": "code",
   "execution_count": 12,
   "id": "4130ced4",
   "metadata": {},
   "outputs": [],
   "source": [
    "#Checking for null data"
   ]
  },
  {
   "cell_type": "code",
   "execution_count": 13,
   "id": "16f0e2a4",
   "metadata": {},
   "outputs": [
    {
     "data": {
      "text/plain": [
       "name                 0\n",
       "neighbourhood        0\n",
       "latitude             0\n",
       "longitude            0\n",
       "room_type            0\n",
       "price                0\n",
       "minimum_nights       0\n",
       "number_of_reviews    0\n",
       "availability_365     0\n",
       "dtype: int64"
      ]
     },
     "execution_count": 13,
     "metadata": {},
     "output_type": "execute_result"
    }
   ],
   "source": [
    "AirbnbRentals.isnull().sum()"
   ]
  },
  {
   "cell_type": "code",
   "execution_count": 14,
   "id": "5876e9da",
   "metadata": {},
   "outputs": [
    {
     "data": {
      "text/plain": [
       "(4686, 9)"
      ]
     },
     "execution_count": 14,
     "metadata": {},
     "output_type": "execute_result"
    }
   ],
   "source": [
    "AirbnbRentals.shape"
   ]
  },
  {
   "cell_type": "code",
   "execution_count": 15,
   "id": "61cd05b1",
   "metadata": {},
   "outputs": [],
   "source": [
    "#Checking data types and names for remaining columns"
   ]
  },
  {
   "cell_type": "code",
   "execution_count": 16,
   "id": "dce511ec",
   "metadata": {},
   "outputs": [
    {
     "name": "stdout",
     "output_type": "stream",
     "text": [
      "name                  object\n",
      "neighbourhood         object\n",
      "latitude             float64\n",
      "longitude            float64\n",
      "room_type             object\n",
      "price                  int64\n",
      "minimum_nights         int64\n",
      "number_of_reviews      int64\n",
      "availability_365       int64\n",
      "dtype: object\n"
     ]
    }
   ],
   "source": [
    "print(AirbnbRentals.dtypes)"
   ]
  },
  {
   "cell_type": "code",
   "execution_count": 17,
   "id": "646b439e",
   "metadata": {},
   "outputs": [
    {
     "data": {
      "text/plain": [
       "Index(['name', 'neighbourhood', 'latitude', 'longitude', 'room_type', 'price',\n",
       "       'minimum_nights', 'number_of_reviews', 'availability_365'],\n",
       "      dtype='object')"
      ]
     },
     "execution_count": 17,
     "metadata": {},
     "output_type": "execute_result"
    }
   ],
   "source": [
    "AirbnbRentals.columns"
   ]
  },
  {
   "cell_type": "code",
   "execution_count": 18,
   "id": "c545b2ee",
   "metadata": {},
   "outputs": [],
   "source": [
    "#Counting totals of each variable in column"
   ]
  },
  {
   "cell_type": "code",
   "execution_count": 19,
   "id": "fe22a150",
   "metadata": {},
   "outputs": [
    {
     "data": {
      "text/plain": [
       "Entire home/apt    3882\n",
       "Private room        750\n",
       "Shared room          51\n",
       "Hotel room            3\n",
       "Name: room_type, dtype: int64"
      ]
     },
     "execution_count": 19,
     "metadata": {},
     "output_type": "execute_result"
    }
   ],
   "source": [
    "AirbnbRentals['room_type'].value_counts()"
   ]
  },
  {
   "cell_type": "code",
   "execution_count": 20,
   "id": "015e2faf",
   "metadata": {},
   "outputs": [],
   "source": [
    "#Recoding room_type into integers"
   ]
  },
  {
   "cell_type": "code",
   "execution_count": 21,
   "id": "15f03665",
   "metadata": {},
   "outputs": [],
   "source": [
    "def room (series): \n",
    "\n",
    "    if series == \"Entire home/apt\":\n",
    "\n",
    "        return 0\n",
    "\n",
    "    if series == \"Private room\": \n",
    "\n",
    "        return 1\n",
    "\n",
    "    if series == \"Shared room\": \n",
    "\n",
    "        return 2\n",
    "\n",
    "    if series == \"Hotel room\": \n",
    "\n",
    "        return 3\n",
    "\n",
    "AirbnbRentals['room'] = AirbnbRentals['room_type'].apply(room)"
   ]
  },
  {
   "cell_type": "code",
   "execution_count": 22,
   "id": "fe70ac6a",
   "metadata": {
    "scrolled": true
   },
   "outputs": [
    {
     "data": {
      "text/html": [
       "<div>\n",
       "<style scoped>\n",
       "    .dataframe tbody tr th:only-of-type {\n",
       "        vertical-align: middle;\n",
       "    }\n",
       "\n",
       "    .dataframe tbody tr th {\n",
       "        vertical-align: top;\n",
       "    }\n",
       "\n",
       "    .dataframe thead th {\n",
       "        text-align: right;\n",
       "    }\n",
       "</style>\n",
       "<table border=\"1\" class=\"dataframe\">\n",
       "  <thead>\n",
       "    <tr style=\"text-align: right;\">\n",
       "      <th></th>\n",
       "      <th>name</th>\n",
       "      <th>neighbourhood</th>\n",
       "      <th>latitude</th>\n",
       "      <th>longitude</th>\n",
       "      <th>room_type</th>\n",
       "      <th>price</th>\n",
       "      <th>minimum_nights</th>\n",
       "      <th>number_of_reviews</th>\n",
       "      <th>availability_365</th>\n",
       "      <th>room</th>\n",
       "    </tr>\n",
       "  </thead>\n",
       "  <tbody>\n",
       "    <tr>\n",
       "      <th>0</th>\n",
       "      <td>Casa Madrona - Urban Oasis 1 block from the park!</td>\n",
       "      <td>Madrona</td>\n",
       "      <td>47.61094</td>\n",
       "      <td>-122.29286</td>\n",
       "      <td>Entire home/apt</td>\n",
       "      <td>333</td>\n",
       "      <td>7</td>\n",
       "      <td>36</td>\n",
       "      <td>332</td>\n",
       "      <td>0</td>\n",
       "    </tr>\n",
       "    <tr>\n",
       "      <th>1</th>\n",
       "      <td>Fab, private seattle urban cottage!</td>\n",
       "      <td>Wallingford</td>\n",
       "      <td>47.65444</td>\n",
       "      <td>-122.33629</td>\n",
       "      <td>Entire home/apt</td>\n",
       "      <td>99</td>\n",
       "      <td>3</td>\n",
       "      <td>157</td>\n",
       "      <td>0</td>\n",
       "      <td>0</td>\n",
       "    </tr>\n",
       "    <tr>\n",
       "      <th>2</th>\n",
       "      <td>Glorious sun room w/ memory foambed</td>\n",
       "      <td>Georgetown</td>\n",
       "      <td>47.55017</td>\n",
       "      <td>-122.31937</td>\n",
       "      <td>Private room</td>\n",
       "      <td>62</td>\n",
       "      <td>2</td>\n",
       "      <td>154</td>\n",
       "      <td>365</td>\n",
       "      <td>1</td>\n",
       "    </tr>\n",
       "    <tr>\n",
       "      <th>3</th>\n",
       "      <td>The Adorable Sweet Orange Craftsman</td>\n",
       "      <td>Fairmount Park</td>\n",
       "      <td>47.55495</td>\n",
       "      <td>-122.38663</td>\n",
       "      <td>Entire home/apt</td>\n",
       "      <td>185</td>\n",
       "      <td>2</td>\n",
       "      <td>54</td>\n",
       "      <td>269</td>\n",
       "      <td>0</td>\n",
       "    </tr>\n",
       "    <tr>\n",
       "      <th>4</th>\n",
       "      <td>The Coolest Tangerine Dream MIL!</td>\n",
       "      <td>Fairmount Park</td>\n",
       "      <td>47.55627</td>\n",
       "      <td>-122.38607</td>\n",
       "      <td>Entire home/apt</td>\n",
       "      <td>145</td>\n",
       "      <td>5</td>\n",
       "      <td>59</td>\n",
       "      <td>202</td>\n",
       "      <td>0</td>\n",
       "    </tr>\n",
       "  </tbody>\n",
       "</table>\n",
       "</div>"
      ],
      "text/plain": [
       "                                                name   neighbourhood  \\\n",
       "0  Casa Madrona - Urban Oasis 1 block from the park!         Madrona   \n",
       "1                Fab, private seattle urban cottage!     Wallingford   \n",
       "2                Glorious sun room w/ memory foambed      Georgetown   \n",
       "3                The Adorable Sweet Orange Craftsman  Fairmount Park   \n",
       "4                   The Coolest Tangerine Dream MIL!  Fairmount Park   \n",
       "\n",
       "   latitude  longitude        room_type  price  minimum_nights  \\\n",
       "0  47.61094 -122.29286  Entire home/apt    333               7   \n",
       "1  47.65444 -122.33629  Entire home/apt     99               3   \n",
       "2  47.55017 -122.31937     Private room     62               2   \n",
       "3  47.55495 -122.38663  Entire home/apt    185               2   \n",
       "4  47.55627 -122.38607  Entire home/apt    145               5   \n",
       "\n",
       "   number_of_reviews  availability_365  room  \n",
       "0                 36               332     0  \n",
       "1                157                 0     0  \n",
       "2                154               365     1  \n",
       "3                 54               269     0  \n",
       "4                 59               202     0  "
      ]
     },
     "execution_count": 22,
     "metadata": {},
     "output_type": "execute_result"
    }
   ],
   "source": [
    "AirbnbRentals.head()"
   ]
  },
  {
   "cell_type": "code",
   "execution_count": 23,
   "id": "d93eb016",
   "metadata": {},
   "outputs": [
    {
     "data": {
      "text/plain": [
       "Index(['name', 'neighbourhood', 'latitude', 'longitude', 'room_type', 'price',\n",
       "       'minimum_nights', 'number_of_reviews', 'availability_365', 'room'],\n",
       "      dtype='object')"
      ]
     },
     "execution_count": 23,
     "metadata": {},
     "output_type": "execute_result"
    }
   ],
   "source": [
    "AirbnbRentals.columns"
   ]
  },
  {
   "cell_type": "code",
   "execution_count": 24,
   "id": "7c00160a",
   "metadata": {},
   "outputs": [],
   "source": [
    "AirbnbRentals.to_csv(\"C:/Users/vanch/Desktop/Entity/DSO110/Wrangled Cities 2.0/SFW.csv\")"
   ]
  },
  {
   "cell_type": "code",
   "execution_count": null,
   "id": "33381360",
   "metadata": {},
   "outputs": [],
   "source": []
  }
 ],
 "metadata": {
  "kernelspec": {
   "display_name": "Python 3",
   "language": "python",
   "name": "python3"
  },
  "language_info": {
   "codemirror_mode": {
    "name": "ipython",
    "version": 3
   },
   "file_extension": ".py",
   "mimetype": "text/x-python",
   "name": "python",
   "nbconvert_exporter": "python",
   "pygments_lexer": "ipython3",
   "version": "3.8.8"
  }
 },
 "nbformat": 4,
 "nbformat_minor": 5
}
