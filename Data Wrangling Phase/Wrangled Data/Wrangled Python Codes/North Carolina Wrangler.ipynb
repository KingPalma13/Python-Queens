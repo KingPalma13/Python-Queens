{
 "cells": [
  {
   "cell_type": "code",
   "execution_count": 1,
   "id": "bf877c23",
   "metadata": {},
   "outputs": [],
   "source": [
    "import pandas as pd\n",
    "import numpy as np"
   ]
  },
  {
   "cell_type": "code",
   "execution_count": 2,
   "id": "95cd65f8",
   "metadata": {},
   "outputs": [],
   "source": [
    "#Loading dataset from folder location"
   ]
  },
  {
   "cell_type": "code",
   "execution_count": 3,
   "id": "92d46352",
   "metadata": {},
   "outputs": [],
   "source": [
    "AirbnbRentals = pd.read_excel(\"C:/Users/vanch/Desktop/Entity/DSO110/Wrangled Cities 2.0/North Carolina.xlsx\")"
   ]
  },
  {
   "cell_type": "code",
   "execution_count": 4,
   "id": "58f6509d",
   "metadata": {
    "scrolled": true
   },
   "outputs": [
    {
     "data": {
      "text/html": [
       "<div>\n",
       "<style scoped>\n",
       "    .dataframe tbody tr th:only-of-type {\n",
       "        vertical-align: middle;\n",
       "    }\n",
       "\n",
       "    .dataframe tbody tr th {\n",
       "        vertical-align: top;\n",
       "    }\n",
       "\n",
       "    .dataframe thead th {\n",
       "        text-align: right;\n",
       "    }\n",
       "</style>\n",
       "<table border=\"1\" class=\"dataframe\">\n",
       "  <thead>\n",
       "    <tr style=\"text-align: right;\">\n",
       "      <th></th>\n",
       "      <th>id</th>\n",
       "      <th>name</th>\n",
       "      <th>host_id</th>\n",
       "      <th>host_name</th>\n",
       "      <th>neighbourhood_group</th>\n",
       "      <th>neighbourhood</th>\n",
       "      <th>latitude</th>\n",
       "      <th>longitude</th>\n",
       "      <th>room_type</th>\n",
       "      <th>price</th>\n",
       "      <th>minimum_nights</th>\n",
       "      <th>number_of_reviews</th>\n",
       "      <th>last_review</th>\n",
       "      <th>reviews_per_month</th>\n",
       "      <th>calculated_host_listings_count</th>\n",
       "      <th>availability_365</th>\n",
       "      <th>number_of_reviews_ltm</th>\n",
       "      <th>license</th>\n",
       "    </tr>\n",
       "  </thead>\n",
       "  <tbody>\n",
       "    <tr>\n",
       "      <th>0</th>\n",
       "      <td>108061</td>\n",
       "      <td>Walk to stores/parks/downtown. Fenced yard/Pet...</td>\n",
       "      <td>320564</td>\n",
       "      <td>Lisa</td>\n",
       "      <td>NaN</td>\n",
       "      <td>28801</td>\n",
       "      <td>35.60670</td>\n",
       "      <td>-82.55563</td>\n",
       "      <td>Entire home/apt</td>\n",
       "      <td>120</td>\n",
       "      <td>30</td>\n",
       "      <td>89</td>\n",
       "      <td>2019-11-30</td>\n",
       "      <td>0.71</td>\n",
       "      <td>2</td>\n",
       "      <td>344</td>\n",
       "      <td>0</td>\n",
       "      <td>NaN</td>\n",
       "    </tr>\n",
       "    <tr>\n",
       "      <th>1</th>\n",
       "      <td>155305</td>\n",
       "      <td>Cottage! BonPaul + Sharky's Hostel</td>\n",
       "      <td>746673</td>\n",
       "      <td>BonPaul</td>\n",
       "      <td>NaN</td>\n",
       "      <td>28806</td>\n",
       "      <td>35.57864</td>\n",
       "      <td>-82.59578</td>\n",
       "      <td>Entire home/apt</td>\n",
       "      <td>90</td>\n",
       "      <td>1</td>\n",
       "      <td>347</td>\n",
       "      <td>2021-12-05</td>\n",
       "      <td>2.75</td>\n",
       "      <td>7</td>\n",
       "      <td>244</td>\n",
       "      <td>68</td>\n",
       "      <td>NaN</td>\n",
       "    </tr>\n",
       "    <tr>\n",
       "      <th>2</th>\n",
       "      <td>156805</td>\n",
       "      <td>Private Room \"Ader\" at BPS Hostel</td>\n",
       "      <td>746673</td>\n",
       "      <td>BonPaul</td>\n",
       "      <td>NaN</td>\n",
       "      <td>28806</td>\n",
       "      <td>35.57864</td>\n",
       "      <td>-82.59578</td>\n",
       "      <td>Private room</td>\n",
       "      <td>66</td>\n",
       "      <td>1</td>\n",
       "      <td>67</td>\n",
       "      <td>2020-01-01</td>\n",
       "      <td>0.54</td>\n",
       "      <td>7</td>\n",
       "      <td>0</td>\n",
       "      <td>0</td>\n",
       "      <td>NaN</td>\n",
       "    </tr>\n",
       "    <tr>\n",
       "      <th>3</th>\n",
       "      <td>156926</td>\n",
       "      <td>Mixed Dorm \"Top Bunk #1\" at BPS Hostel</td>\n",
       "      <td>746673</td>\n",
       "      <td>BonPaul</td>\n",
       "      <td>NaN</td>\n",
       "      <td>28806</td>\n",
       "      <td>35.57864</td>\n",
       "      <td>-82.59578</td>\n",
       "      <td>Shared room</td>\n",
       "      <td>33</td>\n",
       "      <td>1</td>\n",
       "      <td>296</td>\n",
       "      <td>2021-11-14</td>\n",
       "      <td>2.36</td>\n",
       "      <td>7</td>\n",
       "      <td>262</td>\n",
       "      <td>15</td>\n",
       "      <td>NaN</td>\n",
       "    </tr>\n",
       "    <tr>\n",
       "      <th>4</th>\n",
       "      <td>160594</td>\n",
       "      <td>Historic Grove Park</td>\n",
       "      <td>769252</td>\n",
       "      <td>Elizabeth</td>\n",
       "      <td>NaN</td>\n",
       "      <td>28801</td>\n",
       "      <td>35.61442</td>\n",
       "      <td>-82.54127</td>\n",
       "      <td>Private room</td>\n",
       "      <td>125</td>\n",
       "      <td>30</td>\n",
       "      <td>58</td>\n",
       "      <td>2015-10-19</td>\n",
       "      <td>0.46</td>\n",
       "      <td>1</td>\n",
       "      <td>0</td>\n",
       "      <td>0</td>\n",
       "      <td>NaN</td>\n",
       "    </tr>\n",
       "  </tbody>\n",
       "</table>\n",
       "</div>"
      ],
      "text/plain": [
       "       id                                               name  host_id  \\\n",
       "0  108061  Walk to stores/parks/downtown. Fenced yard/Pet...   320564   \n",
       "1  155305                 Cottage! BonPaul + Sharky's Hostel   746673   \n",
       "2  156805                  Private Room \"Ader\" at BPS Hostel   746673   \n",
       "3  156926             Mixed Dorm \"Top Bunk #1\" at BPS Hostel   746673   \n",
       "4  160594                                Historic Grove Park   769252   \n",
       "\n",
       "   host_name  neighbourhood_group  neighbourhood  latitude  longitude  \\\n",
       "0       Lisa                  NaN          28801  35.60670  -82.55563   \n",
       "1    BonPaul                  NaN          28806  35.57864  -82.59578   \n",
       "2    BonPaul                  NaN          28806  35.57864  -82.59578   \n",
       "3    BonPaul                  NaN          28806  35.57864  -82.59578   \n",
       "4  Elizabeth                  NaN          28801  35.61442  -82.54127   \n",
       "\n",
       "         room_type  price  minimum_nights  number_of_reviews last_review  \\\n",
       "0  Entire home/apt    120              30                 89  2019-11-30   \n",
       "1  Entire home/apt     90               1                347  2021-12-05   \n",
       "2     Private room     66               1                 67  2020-01-01   \n",
       "3      Shared room     33               1                296  2021-11-14   \n",
       "4     Private room    125              30                 58  2015-10-19   \n",
       "\n",
       "   reviews_per_month  calculated_host_listings_count  availability_365  \\\n",
       "0               0.71                               2               344   \n",
       "1               2.75                               7               244   \n",
       "2               0.54                               7                 0   \n",
       "3               2.36                               7               262   \n",
       "4               0.46                               1                 0   \n",
       "\n",
       "   number_of_reviews_ltm  license  \n",
       "0                      0      NaN  \n",
       "1                     68      NaN  \n",
       "2                      0      NaN  \n",
       "3                     15      NaN  \n",
       "4                      0      NaN  "
      ]
     },
     "execution_count": 4,
     "metadata": {},
     "output_type": "execute_result"
    }
   ],
   "source": [
    "AirbnbRentals.head()"
   ]
  },
  {
   "cell_type": "code",
   "execution_count": 5,
   "id": "7b2563e4",
   "metadata": {},
   "outputs": [],
   "source": [
    "#Checking for columns and names of columns"
   ]
  },
  {
   "cell_type": "code",
   "execution_count": 6,
   "id": "47113ddf",
   "metadata": {},
   "outputs": [
    {
     "data": {
      "text/plain": [
       "Index(['id', 'name', 'host_id', 'host_name', 'neighbourhood_group',\n",
       "       'neighbourhood', 'latitude', 'longitude', 'room_type', 'price',\n",
       "       'minimum_nights', 'number_of_reviews', 'last_review',\n",
       "       'reviews_per_month', 'calculated_host_listings_count',\n",
       "       'availability_365', 'number_of_reviews_ltm', 'license'],\n",
       "      dtype='object')"
      ]
     },
     "execution_count": 6,
     "metadata": {},
     "output_type": "execute_result"
    }
   ],
   "source": [
    "AirbnbRentals.columns"
   ]
  },
  {
   "cell_type": "code",
   "execution_count": 7,
   "id": "4e872bfe",
   "metadata": {},
   "outputs": [],
   "source": [
    "#Removing columns with irrelevant information"
   ]
  },
  {
   "cell_type": "code",
   "execution_count": 8,
   "id": "5102e5b5",
   "metadata": {},
   "outputs": [],
   "source": [
    "AirbnbRentals.drop(['id', 'host_id', 'host_name', 'neighbourhood_group', 'number_of_reviews_ltm', 'last_review',\n",
    "                    'reviews_per_month', 'calculated_host_listings_count', 'license'],axis=1, inplace=True)"
   ]
  },
  {
   "cell_type": "code",
   "execution_count": 9,
   "id": "a63b44e3",
   "metadata": {},
   "outputs": [
    {
     "data": {
      "text/html": [
       "<div>\n",
       "<style scoped>\n",
       "    .dataframe tbody tr th:only-of-type {\n",
       "        vertical-align: middle;\n",
       "    }\n",
       "\n",
       "    .dataframe tbody tr th {\n",
       "        vertical-align: top;\n",
       "    }\n",
       "\n",
       "    .dataframe thead th {\n",
       "        text-align: right;\n",
       "    }\n",
       "</style>\n",
       "<table border=\"1\" class=\"dataframe\">\n",
       "  <thead>\n",
       "    <tr style=\"text-align: right;\">\n",
       "      <th></th>\n",
       "      <th>name</th>\n",
       "      <th>neighbourhood</th>\n",
       "      <th>latitude</th>\n",
       "      <th>longitude</th>\n",
       "      <th>room_type</th>\n",
       "      <th>price</th>\n",
       "      <th>minimum_nights</th>\n",
       "      <th>number_of_reviews</th>\n",
       "      <th>availability_365</th>\n",
       "    </tr>\n",
       "  </thead>\n",
       "  <tbody>\n",
       "    <tr>\n",
       "      <th>0</th>\n",
       "      <td>Walk to stores/parks/downtown. Fenced yard/Pet...</td>\n",
       "      <td>28801</td>\n",
       "      <td>35.60670</td>\n",
       "      <td>-82.55563</td>\n",
       "      <td>Entire home/apt</td>\n",
       "      <td>120</td>\n",
       "      <td>30</td>\n",
       "      <td>89</td>\n",
       "      <td>344</td>\n",
       "    </tr>\n",
       "    <tr>\n",
       "      <th>1</th>\n",
       "      <td>Cottage! BonPaul + Sharky's Hostel</td>\n",
       "      <td>28806</td>\n",
       "      <td>35.57864</td>\n",
       "      <td>-82.59578</td>\n",
       "      <td>Entire home/apt</td>\n",
       "      <td>90</td>\n",
       "      <td>1</td>\n",
       "      <td>347</td>\n",
       "      <td>244</td>\n",
       "    </tr>\n",
       "    <tr>\n",
       "      <th>2</th>\n",
       "      <td>Private Room \"Ader\" at BPS Hostel</td>\n",
       "      <td>28806</td>\n",
       "      <td>35.57864</td>\n",
       "      <td>-82.59578</td>\n",
       "      <td>Private room</td>\n",
       "      <td>66</td>\n",
       "      <td>1</td>\n",
       "      <td>67</td>\n",
       "      <td>0</td>\n",
       "    </tr>\n",
       "    <tr>\n",
       "      <th>3</th>\n",
       "      <td>Mixed Dorm \"Top Bunk #1\" at BPS Hostel</td>\n",
       "      <td>28806</td>\n",
       "      <td>35.57864</td>\n",
       "      <td>-82.59578</td>\n",
       "      <td>Shared room</td>\n",
       "      <td>33</td>\n",
       "      <td>1</td>\n",
       "      <td>296</td>\n",
       "      <td>262</td>\n",
       "    </tr>\n",
       "    <tr>\n",
       "      <th>4</th>\n",
       "      <td>Historic Grove Park</td>\n",
       "      <td>28801</td>\n",
       "      <td>35.61442</td>\n",
       "      <td>-82.54127</td>\n",
       "      <td>Private room</td>\n",
       "      <td>125</td>\n",
       "      <td>30</td>\n",
       "      <td>58</td>\n",
       "      <td>0</td>\n",
       "    </tr>\n",
       "  </tbody>\n",
       "</table>\n",
       "</div>"
      ],
      "text/plain": [
       "                                                name  neighbourhood  latitude  \\\n",
       "0  Walk to stores/parks/downtown. Fenced yard/Pet...          28801  35.60670   \n",
       "1                 Cottage! BonPaul + Sharky's Hostel          28806  35.57864   \n",
       "2                  Private Room \"Ader\" at BPS Hostel          28806  35.57864   \n",
       "3             Mixed Dorm \"Top Bunk #1\" at BPS Hostel          28806  35.57864   \n",
       "4                                Historic Grove Park          28801  35.61442   \n",
       "\n",
       "   longitude        room_type  price  minimum_nights  number_of_reviews  \\\n",
       "0  -82.55563  Entire home/apt    120              30                 89   \n",
       "1  -82.59578  Entire home/apt     90               1                347   \n",
       "2  -82.59578     Private room     66               1                 67   \n",
       "3  -82.59578      Shared room     33               1                296   \n",
       "4  -82.54127     Private room    125              30                 58   \n",
       "\n",
       "   availability_365  \n",
       "0               344  \n",
       "1               244  \n",
       "2                 0  \n",
       "3               262  \n",
       "4                 0  "
      ]
     },
     "execution_count": 9,
     "metadata": {},
     "output_type": "execute_result"
    }
   ],
   "source": [
    "AirbnbRentals.head()"
   ]
  },
  {
   "cell_type": "code",
   "execution_count": 10,
   "id": "cb63ac2e",
   "metadata": {},
   "outputs": [],
   "source": [
    "#Checking district counts"
   ]
  },
  {
   "cell_type": "code",
   "execution_count": 11,
   "id": "2db52a11",
   "metadata": {
    "scrolled": true
   },
   "outputs": [
    {
     "data": {
      "text/plain": [
       "28806    752\n",
       "28801    619\n",
       "28803    358\n",
       "28804    331\n",
       "28805    259\n",
       "28704    167\n",
       "28715     78\n",
       "28732     62\n",
       "Name: neighbourhood, dtype: int64"
      ]
     },
     "execution_count": 11,
     "metadata": {},
     "output_type": "execute_result"
    }
   ],
   "source": [
    "AirbnbRentals['neighbourhood'].value_counts()"
   ]
  },
  {
   "cell_type": "code",
   "execution_count": 12,
   "id": "b14d2c53",
   "metadata": {},
   "outputs": [],
   "source": [
    "#Checking for null data"
   ]
  },
  {
   "cell_type": "code",
   "execution_count": 13,
   "id": "16f0e2a4",
   "metadata": {},
   "outputs": [
    {
     "data": {
      "text/plain": [
       "name                 0\n",
       "neighbourhood        0\n",
       "latitude             0\n",
       "longitude            0\n",
       "room_type            0\n",
       "price                0\n",
       "minimum_nights       0\n",
       "number_of_reviews    0\n",
       "availability_365     0\n",
       "dtype: int64"
      ]
     },
     "execution_count": 13,
     "metadata": {},
     "output_type": "execute_result"
    }
   ],
   "source": [
    "AirbnbRentals.isnull().sum()"
   ]
  },
  {
   "cell_type": "code",
   "execution_count": 14,
   "id": "5876e9da",
   "metadata": {},
   "outputs": [
    {
     "data": {
      "text/plain": [
       "(2626, 9)"
      ]
     },
     "execution_count": 14,
     "metadata": {},
     "output_type": "execute_result"
    }
   ],
   "source": [
    "AirbnbRentals.shape"
   ]
  },
  {
   "cell_type": "code",
   "execution_count": 15,
   "id": "61cd05b1",
   "metadata": {},
   "outputs": [],
   "source": [
    "#Checking data types and names for remaining columns"
   ]
  },
  {
   "cell_type": "code",
   "execution_count": 16,
   "id": "dce511ec",
   "metadata": {},
   "outputs": [
    {
     "name": "stdout",
     "output_type": "stream",
     "text": [
      "name                  object\n",
      "neighbourhood          int64\n",
      "latitude             float64\n",
      "longitude            float64\n",
      "room_type             object\n",
      "price                  int64\n",
      "minimum_nights         int64\n",
      "number_of_reviews      int64\n",
      "availability_365       int64\n",
      "dtype: object\n"
     ]
    }
   ],
   "source": [
    "print(AirbnbRentals.dtypes)"
   ]
  },
  {
   "cell_type": "code",
   "execution_count": 17,
   "id": "646b439e",
   "metadata": {},
   "outputs": [
    {
     "data": {
      "text/plain": [
       "Index(['name', 'neighbourhood', 'latitude', 'longitude', 'room_type', 'price',\n",
       "       'minimum_nights', 'number_of_reviews', 'availability_365'],\n",
       "      dtype='object')"
      ]
     },
     "execution_count": 17,
     "metadata": {},
     "output_type": "execute_result"
    }
   ],
   "source": [
    "AirbnbRentals.columns"
   ]
  },
  {
   "cell_type": "code",
   "execution_count": 18,
   "id": "c545b2ee",
   "metadata": {},
   "outputs": [],
   "source": [
    "#Counting totals of each variable in column"
   ]
  },
  {
   "cell_type": "code",
   "execution_count": 19,
   "id": "fe22a150",
   "metadata": {},
   "outputs": [
    {
     "data": {
      "text/plain": [
       "Entire home/apt    2211\n",
       "Private room        390\n",
       "Hotel room           17\n",
       "Shared room           8\n",
       "Name: room_type, dtype: int64"
      ]
     },
     "execution_count": 19,
     "metadata": {},
     "output_type": "execute_result"
    }
   ],
   "source": [
    "AirbnbRentals['room_type'].value_counts()"
   ]
  },
  {
   "cell_type": "code",
   "execution_count": 20,
   "id": "015e2faf",
   "metadata": {},
   "outputs": [],
   "source": [
    "#Recoding room_type into integers"
   ]
  },
  {
   "cell_type": "code",
   "execution_count": 21,
   "id": "15f03665",
   "metadata": {},
   "outputs": [],
   "source": [
    "def room (series): \n",
    "\n",
    "    if series == \"Entire home/apt\":\n",
    "\n",
    "        return 0\n",
    "\n",
    "    if series == \"Private room\": \n",
    "\n",
    "        return 1\n",
    "\n",
    "    if series == \"Shared room\": \n",
    "\n",
    "        return 2\n",
    "\n",
    "    if series == \"Hotel room\": \n",
    "\n",
    "        return 3\n",
    "\n",
    "AirbnbRentals['room'] = AirbnbRentals['room_type'].apply(room)"
   ]
  },
  {
   "cell_type": "code",
   "execution_count": 22,
   "id": "fe70ac6a",
   "metadata": {
    "scrolled": true
   },
   "outputs": [
    {
     "data": {
      "text/html": [
       "<div>\n",
       "<style scoped>\n",
       "    .dataframe tbody tr th:only-of-type {\n",
       "        vertical-align: middle;\n",
       "    }\n",
       "\n",
       "    .dataframe tbody tr th {\n",
       "        vertical-align: top;\n",
       "    }\n",
       "\n",
       "    .dataframe thead th {\n",
       "        text-align: right;\n",
       "    }\n",
       "</style>\n",
       "<table border=\"1\" class=\"dataframe\">\n",
       "  <thead>\n",
       "    <tr style=\"text-align: right;\">\n",
       "      <th></th>\n",
       "      <th>name</th>\n",
       "      <th>neighbourhood</th>\n",
       "      <th>latitude</th>\n",
       "      <th>longitude</th>\n",
       "      <th>room_type</th>\n",
       "      <th>price</th>\n",
       "      <th>minimum_nights</th>\n",
       "      <th>number_of_reviews</th>\n",
       "      <th>availability_365</th>\n",
       "      <th>room</th>\n",
       "    </tr>\n",
       "  </thead>\n",
       "  <tbody>\n",
       "    <tr>\n",
       "      <th>0</th>\n",
       "      <td>Walk to stores/parks/downtown. Fenced yard/Pet...</td>\n",
       "      <td>28801</td>\n",
       "      <td>35.60670</td>\n",
       "      <td>-82.55563</td>\n",
       "      <td>Entire home/apt</td>\n",
       "      <td>120</td>\n",
       "      <td>30</td>\n",
       "      <td>89</td>\n",
       "      <td>344</td>\n",
       "      <td>0</td>\n",
       "    </tr>\n",
       "    <tr>\n",
       "      <th>1</th>\n",
       "      <td>Cottage! BonPaul + Sharky's Hostel</td>\n",
       "      <td>28806</td>\n",
       "      <td>35.57864</td>\n",
       "      <td>-82.59578</td>\n",
       "      <td>Entire home/apt</td>\n",
       "      <td>90</td>\n",
       "      <td>1</td>\n",
       "      <td>347</td>\n",
       "      <td>244</td>\n",
       "      <td>0</td>\n",
       "    </tr>\n",
       "    <tr>\n",
       "      <th>2</th>\n",
       "      <td>Private Room \"Ader\" at BPS Hostel</td>\n",
       "      <td>28806</td>\n",
       "      <td>35.57864</td>\n",
       "      <td>-82.59578</td>\n",
       "      <td>Private room</td>\n",
       "      <td>66</td>\n",
       "      <td>1</td>\n",
       "      <td>67</td>\n",
       "      <td>0</td>\n",
       "      <td>1</td>\n",
       "    </tr>\n",
       "    <tr>\n",
       "      <th>3</th>\n",
       "      <td>Mixed Dorm \"Top Bunk #1\" at BPS Hostel</td>\n",
       "      <td>28806</td>\n",
       "      <td>35.57864</td>\n",
       "      <td>-82.59578</td>\n",
       "      <td>Shared room</td>\n",
       "      <td>33</td>\n",
       "      <td>1</td>\n",
       "      <td>296</td>\n",
       "      <td>262</td>\n",
       "      <td>2</td>\n",
       "    </tr>\n",
       "    <tr>\n",
       "      <th>4</th>\n",
       "      <td>Historic Grove Park</td>\n",
       "      <td>28801</td>\n",
       "      <td>35.61442</td>\n",
       "      <td>-82.54127</td>\n",
       "      <td>Private room</td>\n",
       "      <td>125</td>\n",
       "      <td>30</td>\n",
       "      <td>58</td>\n",
       "      <td>0</td>\n",
       "      <td>1</td>\n",
       "    </tr>\n",
       "  </tbody>\n",
       "</table>\n",
       "</div>"
      ],
      "text/plain": [
       "                                                name  neighbourhood  latitude  \\\n",
       "0  Walk to stores/parks/downtown. Fenced yard/Pet...          28801  35.60670   \n",
       "1                 Cottage! BonPaul + Sharky's Hostel          28806  35.57864   \n",
       "2                  Private Room \"Ader\" at BPS Hostel          28806  35.57864   \n",
       "3             Mixed Dorm \"Top Bunk #1\" at BPS Hostel          28806  35.57864   \n",
       "4                                Historic Grove Park          28801  35.61442   \n",
       "\n",
       "   longitude        room_type  price  minimum_nights  number_of_reviews  \\\n",
       "0  -82.55563  Entire home/apt    120              30                 89   \n",
       "1  -82.59578  Entire home/apt     90               1                347   \n",
       "2  -82.59578     Private room     66               1                 67   \n",
       "3  -82.59578      Shared room     33               1                296   \n",
       "4  -82.54127     Private room    125              30                 58   \n",
       "\n",
       "   availability_365  room  \n",
       "0               344     0  \n",
       "1               244     0  \n",
       "2                 0     1  \n",
       "3               262     2  \n",
       "4                 0     1  "
      ]
     },
     "execution_count": 22,
     "metadata": {},
     "output_type": "execute_result"
    }
   ],
   "source": [
    "AirbnbRentals.head()"
   ]
  },
  {
   "cell_type": "code",
   "execution_count": 23,
   "id": "d93eb016",
   "metadata": {},
   "outputs": [
    {
     "data": {
      "text/plain": [
       "Index(['name', 'neighbourhood', 'latitude', 'longitude', 'room_type', 'price',\n",
       "       'minimum_nights', 'number_of_reviews', 'availability_365', 'room'],\n",
       "      dtype='object')"
      ]
     },
     "execution_count": 23,
     "metadata": {},
     "output_type": "execute_result"
    }
   ],
   "source": [
    "AirbnbRentals.columns"
   ]
  },
  {
   "cell_type": "code",
   "execution_count": 24,
   "id": "7c00160a",
   "metadata": {},
   "outputs": [],
   "source": [
    "AirbnbRentals.to_csv(\"C:/Users/vanch/Desktop/Entity/DSO110/Wrangled Cities 2.0/NC.csv\")"
   ]
  },
  {
   "cell_type": "code",
   "execution_count": null,
   "id": "33381360",
   "metadata": {},
   "outputs": [],
   "source": []
  }
 ],
 "metadata": {
  "kernelspec": {
   "display_name": "Python 3",
   "language": "python",
   "name": "python3"
  },
  "language_info": {
   "codemirror_mode": {
    "name": "ipython",
    "version": 3
   },
   "file_extension": ".py",
   "mimetype": "text/x-python",
   "name": "python",
   "nbconvert_exporter": "python",
   "pygments_lexer": "ipython3",
   "version": "3.8.8"
  }
 },
 "nbformat": 4,
 "nbformat_minor": 5
}
