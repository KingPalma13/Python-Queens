{
 "cells": [
  {
   "cell_type": "code",
   "execution_count": 1,
   "id": "bf877c23",
   "metadata": {},
   "outputs": [],
   "source": [
    "import pandas as pd\n",
    "import numpy as np"
   ]
  },
  {
   "cell_type": "code",
   "execution_count": 2,
   "id": "95cd65f8",
   "metadata": {},
   "outputs": [],
   "source": [
    "#Loading datasets from folder location"
   ]
  },
  {
   "cell_type": "code",
   "execution_count": 3,
   "id": "92d46352",
   "metadata": {},
   "outputs": [],
   "source": [
    "Austin = pd.read_csv(\"C:/Users/vanch/Desktop/Entity/DSO110/Reina's Wrangled Cities/listingsaustin.csv\")\n",
    "Chicago = pd.read_csv(\"C:/Users/vanch/Desktop/Entity/DSO110/Reina's Wrangled Cities/listingschicago.csv\")\n",
    "Nashville = pd.read_csv(\"C:/Users/vanch/Desktop/Entity/DSO110/Reina's Wrangled Cities/listingsnashville.csv\")\n",
    "Portland = pd.read_csv(\"C:/Users/vanch/Desktop/Entity/DSO110/Reina's Wrangled Cities/listingsportland.csv\")"
   ]
  },
  {
   "cell_type": "code",
   "execution_count": 4,
   "id": "53291a11",
   "metadata": {},
   "outputs": [],
   "source": [
    "#Merging all datasets together into new AirbnbRentals dataset"
   ]
  },
  {
   "cell_type": "code",
   "execution_count": 5,
   "id": "42a1c76d",
   "metadata": {},
   "outputs": [],
   "source": [
    "AirbnbRentals = Austin.append(Chicago)"
   ]
  },
  {
   "cell_type": "code",
   "execution_count": 6,
   "id": "6efeef1b",
   "metadata": {},
   "outputs": [],
   "source": [
    "AirbnbRentals = AirbnbRentals.append(Nashville)"
   ]
  },
  {
   "cell_type": "code",
   "execution_count": 7,
   "id": "536d95d6",
   "metadata": {},
   "outputs": [],
   "source": [
    "AirbnbRentals = AirbnbRentals.append(Portland)"
   ]
  },
  {
   "cell_type": "code",
   "execution_count": 8,
   "id": "3dea820b",
   "metadata": {},
   "outputs": [],
   "source": [
    "#Checking end of dataset to ensure merge went through"
   ]
  },
  {
   "cell_type": "code",
   "execution_count": 9,
   "id": "58f6509d",
   "metadata": {},
   "outputs": [
    {
     "data": {
      "text/html": [
       "<div>\n",
       "<style scoped>\n",
       "    .dataframe tbody tr th:only-of-type {\n",
       "        vertical-align: middle;\n",
       "    }\n",
       "\n",
       "    .dataframe tbody tr th {\n",
       "        vertical-align: top;\n",
       "    }\n",
       "\n",
       "    .dataframe thead th {\n",
       "        text-align: right;\n",
       "    }\n",
       "</style>\n",
       "<table border=\"1\" class=\"dataframe\">\n",
       "  <thead>\n",
       "    <tr style=\"text-align: right;\">\n",
       "      <th></th>\n",
       "      <th>id</th>\n",
       "      <th>name</th>\n",
       "      <th>host_id</th>\n",
       "      <th>host_name</th>\n",
       "      <th>neighbourhood_group</th>\n",
       "      <th>neighbourhood</th>\n",
       "      <th>latitude</th>\n",
       "      <th>longitude</th>\n",
       "      <th>room_type</th>\n",
       "      <th>price</th>\n",
       "      <th>minimum_nights</th>\n",
       "      <th>number_of_reviews</th>\n",
       "      <th>last_review</th>\n",
       "      <th>reviews_per_month</th>\n",
       "      <th>calculated_host_listings_count</th>\n",
       "      <th>availability_365</th>\n",
       "      <th>number_of_reviews_ltm</th>\n",
       "      <th>license</th>\n",
       "    </tr>\n",
       "  </thead>\n",
       "  <tbody>\n",
       "    <tr>\n",
       "      <th>3729</th>\n",
       "      <td>53829293</td>\n",
       "      <td>Everything you need | Studio in Portland</td>\n",
       "      <td>359069961</td>\n",
       "      <td>Casey</td>\n",
       "      <td>NaN</td>\n",
       "      <td>Northwest District</td>\n",
       "      <td>45.531189</td>\n",
       "      <td>-122.690158</td>\n",
       "      <td>Entire home/apt</td>\n",
       "      <td>154</td>\n",
       "      <td>120</td>\n",
       "      <td>0</td>\n",
       "      <td>NaN</td>\n",
       "      <td>NaN</td>\n",
       "      <td>39</td>\n",
       "      <td>365</td>\n",
       "      <td>0</td>\n",
       "      <td>NaN</td>\n",
       "    </tr>\n",
       "    <tr>\n",
       "      <th>3730</th>\n",
       "      <td>53879278</td>\n",
       "      <td>Relax in comfort | 1BR in Portland</td>\n",
       "      <td>359069961</td>\n",
       "      <td>Casey</td>\n",
       "      <td>NaN</td>\n",
       "      <td>Hayhurst</td>\n",
       "      <td>45.484074</td>\n",
       "      <td>-122.747648</td>\n",
       "      <td>Entire home/apt</td>\n",
       "      <td>173</td>\n",
       "      <td>365</td>\n",
       "      <td>0</td>\n",
       "      <td>NaN</td>\n",
       "      <td>NaN</td>\n",
       "      <td>39</td>\n",
       "      <td>365</td>\n",
       "      <td>0</td>\n",
       "      <td>NaN</td>\n",
       "    </tr>\n",
       "    <tr>\n",
       "      <th>3731</th>\n",
       "      <td>53880025</td>\n",
       "      <td>The Câlin &amp; Magnifique Suite ~ NW 23rd Wonder</td>\n",
       "      <td>33606696</td>\n",
       "      <td>Hayden</td>\n",
       "      <td>NaN</td>\n",
       "      <td>Northwest District</td>\n",
       "      <td>45.534796</td>\n",
       "      <td>-122.697880</td>\n",
       "      <td>Entire home/apt</td>\n",
       "      <td>234</td>\n",
       "      <td>1</td>\n",
       "      <td>0</td>\n",
       "      <td>NaN</td>\n",
       "      <td>NaN</td>\n",
       "      <td>7</td>\n",
       "      <td>319</td>\n",
       "      <td>0</td>\n",
       "      <td>Exempt</td>\n",
       "    </tr>\n",
       "    <tr>\n",
       "      <th>3732</th>\n",
       "      <td>53891208</td>\n",
       "      <td>Modern 2 BR Home Walkable to Alberta and more</td>\n",
       "      <td>374074476</td>\n",
       "      <td>Kaiya</td>\n",
       "      <td>NaN</td>\n",
       "      <td>King</td>\n",
       "      <td>45.561982</td>\n",
       "      <td>-122.661731</td>\n",
       "      <td>Entire home/apt</td>\n",
       "      <td>87</td>\n",
       "      <td>2</td>\n",
       "      <td>0</td>\n",
       "      <td>NaN</td>\n",
       "      <td>NaN</td>\n",
       "      <td>2</td>\n",
       "      <td>354</td>\n",
       "      <td>0</td>\n",
       "      <td>Exempt</td>\n",
       "    </tr>\n",
       "    <tr>\n",
       "      <th>3733</th>\n",
       "      <td>53895940</td>\n",
       "      <td>Modern Stylish Apt in Alphabet District / Slab...</td>\n",
       "      <td>339414830</td>\n",
       "      <td>Campbell | Skye</td>\n",
       "      <td>NaN</td>\n",
       "      <td>Northwest District</td>\n",
       "      <td>45.532956</td>\n",
       "      <td>-122.690237</td>\n",
       "      <td>Entire home/apt</td>\n",
       "      <td>182</td>\n",
       "      <td>2</td>\n",
       "      <td>0</td>\n",
       "      <td>NaN</td>\n",
       "      <td>NaN</td>\n",
       "      <td>7</td>\n",
       "      <td>269</td>\n",
       "      <td>0</td>\n",
       "      <td>City registration pending</td>\n",
       "    </tr>\n",
       "  </tbody>\n",
       "</table>\n",
       "</div>"
      ],
      "text/plain": [
       "            id                                               name    host_id  \\\n",
       "3729  53829293           Everything you need | Studio in Portland  359069961   \n",
       "3730  53879278                 Relax in comfort | 1BR in Portland  359069961   \n",
       "3731  53880025      The Câlin & Magnifique Suite ~ NW 23rd Wonder   33606696   \n",
       "3732  53891208      Modern 2 BR Home Walkable to Alberta and more  374074476   \n",
       "3733  53895940  Modern Stylish Apt in Alphabet District / Slab...  339414830   \n",
       "\n",
       "            host_name  neighbourhood_group       neighbourhood   latitude  \\\n",
       "3729            Casey                  NaN  Northwest District  45.531189   \n",
       "3730            Casey                  NaN            Hayhurst  45.484074   \n",
       "3731           Hayden                  NaN  Northwest District  45.534796   \n",
       "3732            Kaiya                  NaN                King  45.561982   \n",
       "3733  Campbell | Skye                  NaN  Northwest District  45.532956   \n",
       "\n",
       "       longitude        room_type  price  minimum_nights  number_of_reviews  \\\n",
       "3729 -122.690158  Entire home/apt    154             120                  0   \n",
       "3730 -122.747648  Entire home/apt    173             365                  0   \n",
       "3731 -122.697880  Entire home/apt    234               1                  0   \n",
       "3732 -122.661731  Entire home/apt     87               2                  0   \n",
       "3733 -122.690237  Entire home/apt    182               2                  0   \n",
       "\n",
       "     last_review  reviews_per_month  calculated_host_listings_count  \\\n",
       "3729         NaN                NaN                              39   \n",
       "3730         NaN                NaN                              39   \n",
       "3731         NaN                NaN                               7   \n",
       "3732         NaN                NaN                               2   \n",
       "3733         NaN                NaN                               7   \n",
       "\n",
       "      availability_365  number_of_reviews_ltm                    license  \n",
       "3729               365                      0                        NaN  \n",
       "3730               365                      0                        NaN  \n",
       "3731               319                      0                     Exempt  \n",
       "3732               354                      0                     Exempt  \n",
       "3733               269                      0  City registration pending  "
      ]
     },
     "execution_count": 9,
     "metadata": {},
     "output_type": "execute_result"
    }
   ],
   "source": [
    "AirbnbRentals.tail()"
   ]
  },
  {
   "cell_type": "code",
   "execution_count": 10,
   "id": "7b2563e4",
   "metadata": {},
   "outputs": [],
   "source": [
    "#Checking for columns and names of columns"
   ]
  },
  {
   "cell_type": "code",
   "execution_count": 11,
   "id": "47113ddf",
   "metadata": {},
   "outputs": [
    {
     "data": {
      "text/plain": [
       "Index(['id', 'name', 'host_id', 'host_name', 'neighbourhood_group',\n",
       "       'neighbourhood', 'latitude', 'longitude', 'room_type', 'price',\n",
       "       'minimum_nights', 'number_of_reviews', 'last_review',\n",
       "       'reviews_per_month', 'calculated_host_listings_count',\n",
       "       'availability_365', 'number_of_reviews_ltm', 'license'],\n",
       "      dtype='object')"
      ]
     },
     "execution_count": 11,
     "metadata": {},
     "output_type": "execute_result"
    }
   ],
   "source": [
    "AirbnbRentals.columns"
   ]
  },
  {
   "cell_type": "code",
   "execution_count": 12,
   "id": "4e872bfe",
   "metadata": {},
   "outputs": [],
   "source": [
    "#Removing columns with irrelevant information"
   ]
  },
  {
   "cell_type": "code",
   "execution_count": 13,
   "id": "5102e5b5",
   "metadata": {},
   "outputs": [],
   "source": [
    "AirbnbRentals.drop(['id', 'host_id', 'host_name', 'neighbourhood_group', 'longitude', 'latitude',\n",
    "                    'number_of_reviews_ltm', 'last_review', 'reviews_per_month', 'calculated_host_listings_count',\n",
    "                    'license'],axis=1, inplace=True)"
   ]
  },
  {
   "cell_type": "code",
   "execution_count": 14,
   "id": "a63b44e3",
   "metadata": {},
   "outputs": [
    {
     "data": {
      "text/html": [
       "<div>\n",
       "<style scoped>\n",
       "    .dataframe tbody tr th:only-of-type {\n",
       "        vertical-align: middle;\n",
       "    }\n",
       "\n",
       "    .dataframe tbody tr th {\n",
       "        vertical-align: top;\n",
       "    }\n",
       "\n",
       "    .dataframe thead th {\n",
       "        text-align: right;\n",
       "    }\n",
       "</style>\n",
       "<table border=\"1\" class=\"dataframe\">\n",
       "  <thead>\n",
       "    <tr style=\"text-align: right;\">\n",
       "      <th></th>\n",
       "      <th>name</th>\n",
       "      <th>neighbourhood</th>\n",
       "      <th>room_type</th>\n",
       "      <th>price</th>\n",
       "      <th>minimum_nights</th>\n",
       "      <th>number_of_reviews</th>\n",
       "      <th>availability_365</th>\n",
       "    </tr>\n",
       "  </thead>\n",
       "  <tbody>\n",
       "    <tr>\n",
       "      <th>0</th>\n",
       "      <td>*UT/Hyde Park Craftsman Apartment</td>\n",
       "      <td>78705</td>\n",
       "      <td>Entire home/apt</td>\n",
       "      <td>102</td>\n",
       "      <td>1</td>\n",
       "      <td>232</td>\n",
       "      <td>0</td>\n",
       "    </tr>\n",
       "    <tr>\n",
       "      <th>1</th>\n",
       "      <td>Zen-East in the Heart of Austin (monthly rental)</td>\n",
       "      <td>78702</td>\n",
       "      <td>Entire home/apt</td>\n",
       "      <td>179</td>\n",
       "      <td>7</td>\n",
       "      <td>26</td>\n",
       "      <td>0</td>\n",
       "    </tr>\n",
       "    <tr>\n",
       "      <th>2</th>\n",
       "      <td>Eco friendly, Colorful, Clean, Cozy monthly share</td>\n",
       "      <td>78702</td>\n",
       "      <td>Private room</td>\n",
       "      <td>114</td>\n",
       "      <td>30</td>\n",
       "      <td>9</td>\n",
       "      <td>0</td>\n",
       "    </tr>\n",
       "    <tr>\n",
       "      <th>3</th>\n",
       "      <td>Walk to 6th, Rainey St and Convention Ctr</td>\n",
       "      <td>78702</td>\n",
       "      <td>Entire home/apt</td>\n",
       "      <td>104</td>\n",
       "      <td>2</td>\n",
       "      <td>578</td>\n",
       "      <td>345</td>\n",
       "    </tr>\n",
       "    <tr>\n",
       "      <th>4</th>\n",
       "      <td>NW Austin Room</td>\n",
       "      <td>78729</td>\n",
       "      <td>Private room</td>\n",
       "      <td>39</td>\n",
       "      <td>1</td>\n",
       "      <td>264</td>\n",
       "      <td>0</td>\n",
       "    </tr>\n",
       "  </tbody>\n",
       "</table>\n",
       "</div>"
      ],
      "text/plain": [
       "                                                name neighbourhood  \\\n",
       "0                  *UT/Hyde Park Craftsman Apartment         78705   \n",
       "1   Zen-East in the Heart of Austin (monthly rental)         78702   \n",
       "2  Eco friendly, Colorful, Clean, Cozy monthly share         78702   \n",
       "3          Walk to 6th, Rainey St and Convention Ctr         78702   \n",
       "4                                     NW Austin Room         78729   \n",
       "\n",
       "         room_type  price  minimum_nights  number_of_reviews  availability_365  \n",
       "0  Entire home/apt    102               1                232                 0  \n",
       "1  Entire home/apt    179               7                 26                 0  \n",
       "2     Private room    114              30                  9                 0  \n",
       "3  Entire home/apt    104               2                578               345  \n",
       "4     Private room     39               1                264                 0  "
      ]
     },
     "execution_count": 14,
     "metadata": {},
     "output_type": "execute_result"
    }
   ],
   "source": [
    "AirbnbRentals.head()"
   ]
  },
  {
   "cell_type": "code",
   "execution_count": 15,
   "id": "2db52a11",
   "metadata": {},
   "outputs": [
    {
     "data": {
      "text/plain": [
       "78704              1902\n",
       "78702              1459\n",
       "District 19        1435\n",
       "District 17         808\n",
       "Near North Side     760\n",
       "                   ... \n",
       "78712                 1\n",
       "Burnside              1\n",
       "West Elsdon           1\n",
       "Edison Park           1\n",
       "Avalon Park           1\n",
       "Name: neighbourhood, Length: 247, dtype: int64"
      ]
     },
     "execution_count": 15,
     "metadata": {},
     "output_type": "execute_result"
    }
   ],
   "source": [
    "AirbnbRentals['neighbourhood'].value_counts()"
   ]
  },
  {
   "cell_type": "code",
   "execution_count": 16,
   "id": "16f0e2a4",
   "metadata": {},
   "outputs": [
    {
     "data": {
      "text/plain": [
       "name                 1\n",
       "neighbourhood        0\n",
       "room_type            0\n",
       "price                0\n",
       "minimum_nights       0\n",
       "number_of_reviews    0\n",
       "availability_365     0\n",
       "dtype: int64"
      ]
     },
     "execution_count": 16,
     "metadata": {},
     "output_type": "execute_result"
    }
   ],
   "source": [
    "AirbnbRentals.isnull().sum()"
   ]
  },
  {
   "cell_type": "code",
   "execution_count": 17,
   "id": "5876e9da",
   "metadata": {},
   "outputs": [
    {
     "data": {
      "text/plain": [
       "(28012, 7)"
      ]
     },
     "execution_count": 17,
     "metadata": {},
     "output_type": "execute_result"
    }
   ],
   "source": [
    "AirbnbRentals.shape"
   ]
  },
  {
   "cell_type": "code",
   "execution_count": 18,
   "id": "c49d9e84",
   "metadata": {},
   "outputs": [],
   "source": [
    "AirbnbRentals = AirbnbRentals.dropna()"
   ]
  },
  {
   "cell_type": "code",
   "execution_count": 19,
   "id": "fceeee40",
   "metadata": {},
   "outputs": [
    {
     "data": {
      "text/plain": [
       "(28011, 7)"
      ]
     },
     "execution_count": 19,
     "metadata": {},
     "output_type": "execute_result"
    }
   ],
   "source": [
    "AirbnbRentals.shape"
   ]
  },
  {
   "cell_type": "code",
   "execution_count": 20,
   "id": "39718c35",
   "metadata": {},
   "outputs": [
    {
     "data": {
      "text/plain": [
       "name                 0\n",
       "neighbourhood        0\n",
       "room_type            0\n",
       "price                0\n",
       "minimum_nights       0\n",
       "number_of_reviews    0\n",
       "availability_365     0\n",
       "dtype: int64"
      ]
     },
     "execution_count": 20,
     "metadata": {},
     "output_type": "execute_result"
    }
   ],
   "source": [
    "AirbnbRentals.isnull().sum()"
   ]
  },
  {
   "cell_type": "code",
   "execution_count": 21,
   "id": "61cd05b1",
   "metadata": {},
   "outputs": [],
   "source": [
    "#Checking data types and names for remaining columns"
   ]
  },
  {
   "cell_type": "code",
   "execution_count": 22,
   "id": "dce511ec",
   "metadata": {},
   "outputs": [
    {
     "name": "stdout",
     "output_type": "stream",
     "text": [
      "name                 object\n",
      "neighbourhood        object\n",
      "room_type            object\n",
      "price                 int64\n",
      "minimum_nights        int64\n",
      "number_of_reviews     int64\n",
      "availability_365      int64\n",
      "dtype: object\n"
     ]
    }
   ],
   "source": [
    "print(AirbnbRentals.dtypes)"
   ]
  },
  {
   "cell_type": "code",
   "execution_count": 23,
   "id": "646b439e",
   "metadata": {},
   "outputs": [
    {
     "data": {
      "text/plain": [
       "Index(['name', 'neighbourhood', 'room_type', 'price', 'minimum_nights',\n",
       "       'number_of_reviews', 'availability_365'],\n",
       "      dtype='object')"
      ]
     },
     "execution_count": 23,
     "metadata": {},
     "output_type": "execute_result"
    }
   ],
   "source": [
    "AirbnbRentals.columns"
   ]
  },
  {
   "cell_type": "code",
   "execution_count": 24,
   "id": "c545b2ee",
   "metadata": {},
   "outputs": [],
   "source": [
    "#Counting totals of each variable in column"
   ]
  },
  {
   "cell_type": "code",
   "execution_count": 25,
   "id": "fe22a150",
   "metadata": {},
   "outputs": [
    {
     "data": {
      "text/plain": [
       "Entire home/apt    22607\n",
       "Private room        5005\n",
       "Shared room          246\n",
       "Hotel room           153\n",
       "Name: room_type, dtype: int64"
      ]
     },
     "execution_count": 25,
     "metadata": {},
     "output_type": "execute_result"
    }
   ],
   "source": [
    "AirbnbRentals['room_type'].value_counts()"
   ]
  },
  {
   "cell_type": "code",
   "execution_count": 26,
   "id": "015e2faf",
   "metadata": {},
   "outputs": [],
   "source": [
    "#Recoding room_type into integers"
   ]
  },
  {
   "cell_type": "code",
   "execution_count": 27,
   "id": "15f03665",
   "metadata": {},
   "outputs": [],
   "source": [
    "def room (series): \n",
    "\n",
    "    if series == \"Entire home/apt\":\n",
    "\n",
    "        return 0\n",
    "\n",
    "    if series == \"Private room\": \n",
    "\n",
    "        return 1\n",
    "\n",
    "    if series == \"Shared room\": \n",
    "\n",
    "        return 2\n",
    "\n",
    "    if series == \"Hotel room\": \n",
    "\n",
    "        return 3\n",
    "\n",
    "AirbnbRentals['room_type'] = AirbnbRentals['room_type'].apply(room)"
   ]
  },
  {
   "cell_type": "code",
   "execution_count": 28,
   "id": "9d8c8ebc",
   "metadata": {},
   "outputs": [],
   "source": [
    "#AirbnbRentals['room_type'] = AirbnbRentals['room_type'].str.split().len()\n",
    "#AirbnbRentals['room_type'].str.split(' ', n=-1, expand=True)\n",
    "#dummies = pd.get_dummies(AirbnbRentals['room_type']).mul(AirbnbRentals.ActualValueColumn,0)\n",
    "\n",
    "#Adding dummy coding"
   ]
  },
  {
   "cell_type": "code",
   "execution_count": 29,
   "id": "fe70ac6a",
   "metadata": {},
   "outputs": [
    {
     "data": {
      "text/html": [
       "<div>\n",
       "<style scoped>\n",
       "    .dataframe tbody tr th:only-of-type {\n",
       "        vertical-align: middle;\n",
       "    }\n",
       "\n",
       "    .dataframe tbody tr th {\n",
       "        vertical-align: top;\n",
       "    }\n",
       "\n",
       "    .dataframe thead th {\n",
       "        text-align: right;\n",
       "    }\n",
       "</style>\n",
       "<table border=\"1\" class=\"dataframe\">\n",
       "  <thead>\n",
       "    <tr style=\"text-align: right;\">\n",
       "      <th></th>\n",
       "      <th>name</th>\n",
       "      <th>neighbourhood</th>\n",
       "      <th>room_type</th>\n",
       "      <th>price</th>\n",
       "      <th>minimum_nights</th>\n",
       "      <th>number_of_reviews</th>\n",
       "      <th>availability_365</th>\n",
       "    </tr>\n",
       "  </thead>\n",
       "  <tbody>\n",
       "    <tr>\n",
       "      <th>0</th>\n",
       "      <td>*UT/Hyde Park Craftsman Apartment</td>\n",
       "      <td>78705</td>\n",
       "      <td>0</td>\n",
       "      <td>102</td>\n",
       "      <td>1</td>\n",
       "      <td>232</td>\n",
       "      <td>0</td>\n",
       "    </tr>\n",
       "    <tr>\n",
       "      <th>1</th>\n",
       "      <td>Zen-East in the Heart of Austin (monthly rental)</td>\n",
       "      <td>78702</td>\n",
       "      <td>0</td>\n",
       "      <td>179</td>\n",
       "      <td>7</td>\n",
       "      <td>26</td>\n",
       "      <td>0</td>\n",
       "    </tr>\n",
       "    <tr>\n",
       "      <th>2</th>\n",
       "      <td>Eco friendly, Colorful, Clean, Cozy monthly share</td>\n",
       "      <td>78702</td>\n",
       "      <td>1</td>\n",
       "      <td>114</td>\n",
       "      <td>30</td>\n",
       "      <td>9</td>\n",
       "      <td>0</td>\n",
       "    </tr>\n",
       "    <tr>\n",
       "      <th>3</th>\n",
       "      <td>Walk to 6th, Rainey St and Convention Ctr</td>\n",
       "      <td>78702</td>\n",
       "      <td>0</td>\n",
       "      <td>104</td>\n",
       "      <td>2</td>\n",
       "      <td>578</td>\n",
       "      <td>345</td>\n",
       "    </tr>\n",
       "    <tr>\n",
       "      <th>4</th>\n",
       "      <td>NW Austin Room</td>\n",
       "      <td>78729</td>\n",
       "      <td>1</td>\n",
       "      <td>39</td>\n",
       "      <td>1</td>\n",
       "      <td>264</td>\n",
       "      <td>0</td>\n",
       "    </tr>\n",
       "  </tbody>\n",
       "</table>\n",
       "</div>"
      ],
      "text/plain": [
       "                                                name neighbourhood  room_type  \\\n",
       "0                  *UT/Hyde Park Craftsman Apartment         78705          0   \n",
       "1   Zen-East in the Heart of Austin (monthly rental)         78702          0   \n",
       "2  Eco friendly, Colorful, Clean, Cozy monthly share         78702          1   \n",
       "3          Walk to 6th, Rainey St and Convention Ctr         78702          0   \n",
       "4                                     NW Austin Room         78729          1   \n",
       "\n",
       "   price  minimum_nights  number_of_reviews  availability_365  \n",
       "0    102               1                232                 0  \n",
       "1    179               7                 26                 0  \n",
       "2    114              30                  9                 0  \n",
       "3    104               2                578               345  \n",
       "4     39               1                264                 0  "
      ]
     },
     "execution_count": 29,
     "metadata": {},
     "output_type": "execute_result"
    }
   ],
   "source": [
    "AirbnbRentals.head()"
   ]
  },
  {
   "cell_type": "code",
   "execution_count": 30,
   "id": "d93eb016",
   "metadata": {},
   "outputs": [
    {
     "data": {
      "text/plain": [
       "Index(['name', 'neighbourhood', 'room_type', 'price', 'minimum_nights',\n",
       "       'number_of_reviews', 'availability_365'],\n",
       "      dtype='object')"
      ]
     },
     "execution_count": 30,
     "metadata": {},
     "output_type": "execute_result"
    }
   ],
   "source": [
    "AirbnbRentals.columns"
   ]
  },
  {
   "cell_type": "code",
   "execution_count": 31,
   "id": "7c00160a",
   "metadata": {},
   "outputs": [],
   "source": [
    "AirbnbRentals.to_csv(\"C:/Users/vanch/Desktop/Entity/DSO110/Reina's Wrangled Cities/AirbnbRentals.csv\")"
   ]
  },
  {
   "cell_type": "code",
   "execution_count": null,
   "id": "33381360",
   "metadata": {},
   "outputs": [],
   "source": []
  }
 ],
 "metadata": {
  "kernelspec": {
   "display_name": "Python 3",
   "language": "python",
   "name": "python3"
  },
  "language_info": {
   "codemirror_mode": {
    "name": "ipython",
    "version": 3
   },
   "file_extension": ".py",
   "mimetype": "text/x-python",
   "name": "python",
   "nbconvert_exporter": "python",
   "pygments_lexer": "ipython3",
   "version": "3.8.8"
  }
 },
 "nbformat": 4,
 "nbformat_minor": 5
}
