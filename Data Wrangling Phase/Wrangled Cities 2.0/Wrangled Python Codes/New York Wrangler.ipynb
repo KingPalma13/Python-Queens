{
 "cells": [
  {
   "cell_type": "code",
   "execution_count": 1,
   "id": "bf877c23",
   "metadata": {},
   "outputs": [],
   "source": [
    "import pandas as pd\n",
    "import numpy as np"
   ]
  },
  {
   "cell_type": "code",
   "execution_count": 2,
   "id": "95cd65f8",
   "metadata": {},
   "outputs": [],
   "source": [
    "#Loading dataset from folder location"
   ]
  },
  {
   "cell_type": "code",
   "execution_count": 3,
   "id": "92d46352",
   "metadata": {},
   "outputs": [],
   "source": [
    "AirbnbRentals = pd.read_excel(\"C:/Users/vanch/Desktop/Entity/DSO110/Wrangled Cities 2.0/New York.xlsx\")"
   ]
  },
  {
   "cell_type": "code",
   "execution_count": 4,
   "id": "58f6509d",
   "metadata": {
    "scrolled": true
   },
   "outputs": [
    {
     "data": {
      "text/html": [
       "<div>\n",
       "<style scoped>\n",
       "    .dataframe tbody tr th:only-of-type {\n",
       "        vertical-align: middle;\n",
       "    }\n",
       "\n",
       "    .dataframe tbody tr th {\n",
       "        vertical-align: top;\n",
       "    }\n",
       "\n",
       "    .dataframe thead th {\n",
       "        text-align: right;\n",
       "    }\n",
       "</style>\n",
       "<table border=\"1\" class=\"dataframe\">\n",
       "  <thead>\n",
       "    <tr style=\"text-align: right;\">\n",
       "      <th></th>\n",
       "      <th>id</th>\n",
       "      <th>name</th>\n",
       "      <th>host_id</th>\n",
       "      <th>host_name</th>\n",
       "      <th>neighbourhood_group</th>\n",
       "      <th>neighbourhood</th>\n",
       "      <th>latitude</th>\n",
       "      <th>longitude</th>\n",
       "      <th>room_type</th>\n",
       "      <th>price</th>\n",
       "      <th>minimum_nights</th>\n",
       "      <th>number_of_reviews</th>\n",
       "      <th>last_review</th>\n",
       "      <th>reviews_per_month</th>\n",
       "      <th>calculated_host_listings_count</th>\n",
       "      <th>availability_365</th>\n",
       "      <th>number_of_reviews_ltm</th>\n",
       "      <th>license</th>\n",
       "    </tr>\n",
       "  </thead>\n",
       "  <tbody>\n",
       "    <tr>\n",
       "      <th>0</th>\n",
       "      <td>2595</td>\n",
       "      <td>Skylit Midtown Castle</td>\n",
       "      <td>2845</td>\n",
       "      <td>Jennifer</td>\n",
       "      <td>Manhattan</td>\n",
       "      <td>Midtown</td>\n",
       "      <td>40.75356</td>\n",
       "      <td>-73.98559</td>\n",
       "      <td>Entire home/apt</td>\n",
       "      <td>150</td>\n",
       "      <td>30</td>\n",
       "      <td>48</td>\n",
       "      <td>2019-11-04</td>\n",
       "      <td>0.33</td>\n",
       "      <td>3</td>\n",
       "      <td>338</td>\n",
       "      <td>0</td>\n",
       "      <td>NaN</td>\n",
       "    </tr>\n",
       "    <tr>\n",
       "      <th>1</th>\n",
       "      <td>3831</td>\n",
       "      <td>Whole flr w/private bdrm, bath &amp; kitchen(pls r...</td>\n",
       "      <td>4869</td>\n",
       "      <td>LisaRoxanne</td>\n",
       "      <td>Brooklyn</td>\n",
       "      <td>Bedford-Stuyvesant</td>\n",
       "      <td>40.68494</td>\n",
       "      <td>-73.95765</td>\n",
       "      <td>Entire home/apt</td>\n",
       "      <td>75</td>\n",
       "      <td>1</td>\n",
       "      <td>409</td>\n",
       "      <td>2021-10-22</td>\n",
       "      <td>4.86</td>\n",
       "      <td>1</td>\n",
       "      <td>194</td>\n",
       "      <td>32</td>\n",
       "      <td>NaN</td>\n",
       "    </tr>\n",
       "    <tr>\n",
       "      <th>2</th>\n",
       "      <td>5121</td>\n",
       "      <td>BlissArtsSpace!</td>\n",
       "      <td>7356</td>\n",
       "      <td>Garon</td>\n",
       "      <td>Brooklyn</td>\n",
       "      <td>Bedford-Stuyvesant</td>\n",
       "      <td>40.68535</td>\n",
       "      <td>-73.95512</td>\n",
       "      <td>Private room</td>\n",
       "      <td>60</td>\n",
       "      <td>30</td>\n",
       "      <td>50</td>\n",
       "      <td>2016-06-05</td>\n",
       "      <td>0.52</td>\n",
       "      <td>2</td>\n",
       "      <td>365</td>\n",
       "      <td>0</td>\n",
       "      <td>NaN</td>\n",
       "    </tr>\n",
       "    <tr>\n",
       "      <th>3</th>\n",
       "      <td>5136</td>\n",
       "      <td>Spacious Brooklyn Duplex, Patio + Garden</td>\n",
       "      <td>7378</td>\n",
       "      <td>Rebecca</td>\n",
       "      <td>Brooklyn</td>\n",
       "      <td>Sunset Park</td>\n",
       "      <td>40.66265</td>\n",
       "      <td>-73.99454</td>\n",
       "      <td>Entire home/apt</td>\n",
       "      <td>275</td>\n",
       "      <td>5</td>\n",
       "      <td>2</td>\n",
       "      <td>2021-08-08</td>\n",
       "      <td>0.02</td>\n",
       "      <td>1</td>\n",
       "      <td>123</td>\n",
       "      <td>1</td>\n",
       "      <td>NaN</td>\n",
       "    </tr>\n",
       "    <tr>\n",
       "      <th>4</th>\n",
       "      <td>5178</td>\n",
       "      <td>Large Furnished Room Near B'wayã€€</td>\n",
       "      <td>8967</td>\n",
       "      <td>Shunichi</td>\n",
       "      <td>Manhattan</td>\n",
       "      <td>Midtown</td>\n",
       "      <td>40.76457</td>\n",
       "      <td>-73.98317</td>\n",
       "      <td>Private room</td>\n",
       "      <td>68</td>\n",
       "      <td>2</td>\n",
       "      <td>507</td>\n",
       "      <td>2021-11-08</td>\n",
       "      <td>3.68</td>\n",
       "      <td>1</td>\n",
       "      <td>192</td>\n",
       "      <td>33</td>\n",
       "      <td>NaN</td>\n",
       "    </tr>\n",
       "  </tbody>\n",
       "</table>\n",
       "</div>"
      ],
      "text/plain": [
       "     id                                               name  host_id  \\\n",
       "0  2595                              Skylit Midtown Castle     2845   \n",
       "1  3831  Whole flr w/private bdrm, bath & kitchen(pls r...     4869   \n",
       "2  5121                                    BlissArtsSpace!     7356   \n",
       "3  5136           Spacious Brooklyn Duplex, Patio + Garden     7378   \n",
       "4  5178                 Large Furnished Room Near B'wayã€€     8967   \n",
       "\n",
       "     host_name neighbourhood_group       neighbourhood  latitude  longitude  \\\n",
       "0     Jennifer           Manhattan             Midtown  40.75356  -73.98559   \n",
       "1  LisaRoxanne            Brooklyn  Bedford-Stuyvesant  40.68494  -73.95765   \n",
       "2        Garon            Brooklyn  Bedford-Stuyvesant  40.68535  -73.95512   \n",
       "3      Rebecca            Brooklyn         Sunset Park  40.66265  -73.99454   \n",
       "4     Shunichi           Manhattan             Midtown  40.76457  -73.98317   \n",
       "\n",
       "         room_type  price  minimum_nights  number_of_reviews last_review  \\\n",
       "0  Entire home/apt    150              30                 48  2019-11-04   \n",
       "1  Entire home/apt     75               1                409  2021-10-22   \n",
       "2     Private room     60              30                 50  2016-06-05   \n",
       "3  Entire home/apt    275               5                  2  2021-08-08   \n",
       "4     Private room     68               2                507  2021-11-08   \n",
       "\n",
       "   reviews_per_month  calculated_host_listings_count  availability_365  \\\n",
       "0               0.33                               3               338   \n",
       "1               4.86                               1               194   \n",
       "2               0.52                               2               365   \n",
       "3               0.02                               1               123   \n",
       "4               3.68                               1               192   \n",
       "\n",
       "   number_of_reviews_ltm license  \n",
       "0                      0     NaN  \n",
       "1                     32     NaN  \n",
       "2                      0     NaN  \n",
       "3                      1     NaN  \n",
       "4                     33     NaN  "
      ]
     },
     "execution_count": 4,
     "metadata": {},
     "output_type": "execute_result"
    }
   ],
   "source": [
    "AirbnbRentals.head()"
   ]
  },
  {
   "cell_type": "code",
   "execution_count": 5,
   "id": "7b2563e4",
   "metadata": {},
   "outputs": [],
   "source": [
    "#Checking for columns and names of columns"
   ]
  },
  {
   "cell_type": "code",
   "execution_count": 6,
   "id": "47113ddf",
   "metadata": {},
   "outputs": [
    {
     "data": {
      "text/plain": [
       "Index(['id', 'name', 'host_id', 'host_name', 'neighbourhood_group',\n",
       "       'neighbourhood', 'latitude', 'longitude', 'room_type', 'price',\n",
       "       'minimum_nights', 'number_of_reviews', 'last_review',\n",
       "       'reviews_per_month', 'calculated_host_listings_count',\n",
       "       'availability_365', 'number_of_reviews_ltm', 'license'],\n",
       "      dtype='object')"
      ]
     },
     "execution_count": 6,
     "metadata": {},
     "output_type": "execute_result"
    }
   ],
   "source": [
    "AirbnbRentals.columns"
   ]
  },
  {
   "cell_type": "code",
   "execution_count": 7,
   "id": "4e872bfe",
   "metadata": {},
   "outputs": [],
   "source": [
    "#Removing columns with irrelevant information"
   ]
  },
  {
   "cell_type": "code",
   "execution_count": 8,
   "id": "5102e5b5",
   "metadata": {},
   "outputs": [],
   "source": [
    "AirbnbRentals.drop(['id', 'host_id', 'host_name', 'neighbourhood_group', 'number_of_reviews_ltm', 'last_review',\n",
    "                    'reviews_per_month', 'calculated_host_listings_count', 'license'],axis=1, inplace=True)"
   ]
  },
  {
   "cell_type": "code",
   "execution_count": 9,
   "id": "a63b44e3",
   "metadata": {},
   "outputs": [
    {
     "data": {
      "text/html": [
       "<div>\n",
       "<style scoped>\n",
       "    .dataframe tbody tr th:only-of-type {\n",
       "        vertical-align: middle;\n",
       "    }\n",
       "\n",
       "    .dataframe tbody tr th {\n",
       "        vertical-align: top;\n",
       "    }\n",
       "\n",
       "    .dataframe thead th {\n",
       "        text-align: right;\n",
       "    }\n",
       "</style>\n",
       "<table border=\"1\" class=\"dataframe\">\n",
       "  <thead>\n",
       "    <tr style=\"text-align: right;\">\n",
       "      <th></th>\n",
       "      <th>name</th>\n",
       "      <th>neighbourhood</th>\n",
       "      <th>latitude</th>\n",
       "      <th>longitude</th>\n",
       "      <th>room_type</th>\n",
       "      <th>price</th>\n",
       "      <th>minimum_nights</th>\n",
       "      <th>number_of_reviews</th>\n",
       "      <th>availability_365</th>\n",
       "    </tr>\n",
       "  </thead>\n",
       "  <tbody>\n",
       "    <tr>\n",
       "      <th>0</th>\n",
       "      <td>Skylit Midtown Castle</td>\n",
       "      <td>Midtown</td>\n",
       "      <td>40.75356</td>\n",
       "      <td>-73.98559</td>\n",
       "      <td>Entire home/apt</td>\n",
       "      <td>150</td>\n",
       "      <td>30</td>\n",
       "      <td>48</td>\n",
       "      <td>338</td>\n",
       "    </tr>\n",
       "    <tr>\n",
       "      <th>1</th>\n",
       "      <td>Whole flr w/private bdrm, bath &amp; kitchen(pls r...</td>\n",
       "      <td>Bedford-Stuyvesant</td>\n",
       "      <td>40.68494</td>\n",
       "      <td>-73.95765</td>\n",
       "      <td>Entire home/apt</td>\n",
       "      <td>75</td>\n",
       "      <td>1</td>\n",
       "      <td>409</td>\n",
       "      <td>194</td>\n",
       "    </tr>\n",
       "    <tr>\n",
       "      <th>2</th>\n",
       "      <td>BlissArtsSpace!</td>\n",
       "      <td>Bedford-Stuyvesant</td>\n",
       "      <td>40.68535</td>\n",
       "      <td>-73.95512</td>\n",
       "      <td>Private room</td>\n",
       "      <td>60</td>\n",
       "      <td>30</td>\n",
       "      <td>50</td>\n",
       "      <td>365</td>\n",
       "    </tr>\n",
       "    <tr>\n",
       "      <th>3</th>\n",
       "      <td>Spacious Brooklyn Duplex, Patio + Garden</td>\n",
       "      <td>Sunset Park</td>\n",
       "      <td>40.66265</td>\n",
       "      <td>-73.99454</td>\n",
       "      <td>Entire home/apt</td>\n",
       "      <td>275</td>\n",
       "      <td>5</td>\n",
       "      <td>2</td>\n",
       "      <td>123</td>\n",
       "    </tr>\n",
       "    <tr>\n",
       "      <th>4</th>\n",
       "      <td>Large Furnished Room Near B'wayã€€</td>\n",
       "      <td>Midtown</td>\n",
       "      <td>40.76457</td>\n",
       "      <td>-73.98317</td>\n",
       "      <td>Private room</td>\n",
       "      <td>68</td>\n",
       "      <td>2</td>\n",
       "      <td>507</td>\n",
       "      <td>192</td>\n",
       "    </tr>\n",
       "  </tbody>\n",
       "</table>\n",
       "</div>"
      ],
      "text/plain": [
       "                                                name       neighbourhood  \\\n",
       "0                              Skylit Midtown Castle             Midtown   \n",
       "1  Whole flr w/private bdrm, bath & kitchen(pls r...  Bedford-Stuyvesant   \n",
       "2                                    BlissArtsSpace!  Bedford-Stuyvesant   \n",
       "3           Spacious Brooklyn Duplex, Patio + Garden         Sunset Park   \n",
       "4                 Large Furnished Room Near B'wayã€€             Midtown   \n",
       "\n",
       "   latitude  longitude        room_type  price  minimum_nights  \\\n",
       "0  40.75356  -73.98559  Entire home/apt    150              30   \n",
       "1  40.68494  -73.95765  Entire home/apt     75               1   \n",
       "2  40.68535  -73.95512     Private room     60              30   \n",
       "3  40.66265  -73.99454  Entire home/apt    275               5   \n",
       "4  40.76457  -73.98317     Private room     68               2   \n",
       "\n",
       "   number_of_reviews  availability_365  \n",
       "0                 48               338  \n",
       "1                409               194  \n",
       "2                 50               365  \n",
       "3                  2               123  \n",
       "4                507               192  "
      ]
     },
     "execution_count": 9,
     "metadata": {},
     "output_type": "execute_result"
    }
   ],
   "source": [
    "AirbnbRentals.head()"
   ]
  },
  {
   "cell_type": "code",
   "execution_count": 10,
   "id": "cb63ac2e",
   "metadata": {},
   "outputs": [],
   "source": [
    "#Checking district counts"
   ]
  },
  {
   "cell_type": "code",
   "execution_count": 11,
   "id": "2db52a11",
   "metadata": {
    "scrolled": true
   },
   "outputs": [
    {
     "data": {
      "text/plain": [
       "Bedford-Stuyvesant    2821\n",
       "Williamsburg          2603\n",
       "Harlem                1971\n",
       "Hell's Kitchen        1702\n",
       "Bushwick              1693\n",
       "                      ... \n",
       "Woodrow                  1\n",
       "Country Club             1\n",
       "Castle Hill              1\n",
       "Neponsit                 1\n",
       "Fort Wadsworth           1\n",
       "Name: neighbourhood, Length: 222, dtype: int64"
      ]
     },
     "execution_count": 11,
     "metadata": {},
     "output_type": "execute_result"
    }
   ],
   "source": [
    "AirbnbRentals['neighbourhood'].value_counts()"
   ]
  },
  {
   "cell_type": "code",
   "execution_count": 12,
   "id": "21ea15fc",
   "metadata": {},
   "outputs": [],
   "source": [
    "#Checking for null data"
   ]
  },
  {
   "cell_type": "code",
   "execution_count": 13,
   "id": "16f0e2a4",
   "metadata": {},
   "outputs": [
    {
     "data": {
      "text/plain": [
       "name                 15\n",
       "neighbourhood         0\n",
       "latitude              0\n",
       "longitude             0\n",
       "room_type             0\n",
       "price                 0\n",
       "minimum_nights        0\n",
       "number_of_reviews     0\n",
       "availability_365      0\n",
       "dtype: int64"
      ]
     },
     "execution_count": 13,
     "metadata": {},
     "output_type": "execute_result"
    }
   ],
   "source": [
    "AirbnbRentals.isnull().sum()"
   ]
  },
  {
   "cell_type": "code",
   "execution_count": 14,
   "id": "5876e9da",
   "metadata": {},
   "outputs": [
    {
     "data": {
      "text/plain": [
       "(38277, 9)"
      ]
     },
     "execution_count": 14,
     "metadata": {},
     "output_type": "execute_result"
    }
   ],
   "source": [
    "AirbnbRentals.shape"
   ]
  },
  {
   "cell_type": "code",
   "execution_count": 15,
   "id": "d93d476b",
   "metadata": {},
   "outputs": [],
   "source": [
    "AirbnbRentals.dropna(inplace=True)"
   ]
  },
  {
   "cell_type": "code",
   "execution_count": 16,
   "id": "628742b0",
   "metadata": {},
   "outputs": [
    {
     "data": {
      "text/plain": [
       "name                 0\n",
       "neighbourhood        0\n",
       "latitude             0\n",
       "longitude            0\n",
       "room_type            0\n",
       "price                0\n",
       "minimum_nights       0\n",
       "number_of_reviews    0\n",
       "availability_365     0\n",
       "dtype: int64"
      ]
     },
     "execution_count": 16,
     "metadata": {},
     "output_type": "execute_result"
    }
   ],
   "source": [
    "AirbnbRentals.isnull().sum()"
   ]
  },
  {
   "cell_type": "code",
   "execution_count": 17,
   "id": "6db3b7d6",
   "metadata": {},
   "outputs": [
    {
     "data": {
      "text/plain": [
       "(38262, 9)"
      ]
     },
     "execution_count": 17,
     "metadata": {},
     "output_type": "execute_result"
    }
   ],
   "source": [
    "AirbnbRentals.shape"
   ]
  },
  {
   "cell_type": "code",
   "execution_count": 18,
   "id": "61cd05b1",
   "metadata": {},
   "outputs": [],
   "source": [
    "#Checking data types and names for remaining columns"
   ]
  },
  {
   "cell_type": "code",
   "execution_count": 19,
   "id": "dce511ec",
   "metadata": {},
   "outputs": [
    {
     "name": "stdout",
     "output_type": "stream",
     "text": [
      "name                  object\n",
      "neighbourhood         object\n",
      "latitude             float64\n",
      "longitude            float64\n",
      "room_type             object\n",
      "price                  int64\n",
      "minimum_nights         int64\n",
      "number_of_reviews      int64\n",
      "availability_365       int64\n",
      "dtype: object\n"
     ]
    }
   ],
   "source": [
    "print(AirbnbRentals.dtypes)"
   ]
  },
  {
   "cell_type": "code",
   "execution_count": 20,
   "id": "646b439e",
   "metadata": {},
   "outputs": [
    {
     "data": {
      "text/plain": [
       "Index(['name', 'neighbourhood', 'latitude', 'longitude', 'room_type', 'price',\n",
       "       'minimum_nights', 'number_of_reviews', 'availability_365'],\n",
       "      dtype='object')"
      ]
     },
     "execution_count": 20,
     "metadata": {},
     "output_type": "execute_result"
    }
   ],
   "source": [
    "AirbnbRentals.columns"
   ]
  },
  {
   "cell_type": "code",
   "execution_count": 21,
   "id": "c545b2ee",
   "metadata": {},
   "outputs": [],
   "source": [
    "#Counting totals of each variable in column"
   ]
  },
  {
   "cell_type": "code",
   "execution_count": 22,
   "id": "fe22a150",
   "metadata": {},
   "outputs": [
    {
     "data": {
      "text/plain": [
       "Entire home/apt    20392\n",
       "Private room       17089\n",
       "Shared room          571\n",
       "Hotel room           210\n",
       "Name: room_type, dtype: int64"
      ]
     },
     "execution_count": 22,
     "metadata": {},
     "output_type": "execute_result"
    }
   ],
   "source": [
    "AirbnbRentals['room_type'].value_counts()"
   ]
  },
  {
   "cell_type": "code",
   "execution_count": 23,
   "id": "015e2faf",
   "metadata": {},
   "outputs": [],
   "source": [
    "#Recoding room_type into integers"
   ]
  },
  {
   "cell_type": "code",
   "execution_count": 24,
   "id": "15f03665",
   "metadata": {},
   "outputs": [],
   "source": [
    "def room (series): \n",
    "\n",
    "    if series == \"Entire home/apt\":\n",
    "\n",
    "        return 0\n",
    "\n",
    "    if series == \"Private room\": \n",
    "\n",
    "        return 1\n",
    "\n",
    "    if series == \"Shared room\": \n",
    "\n",
    "        return 2\n",
    "\n",
    "    if series == \"Hotel room\": \n",
    "\n",
    "        return 3\n",
    "\n",
    "AirbnbRentals['room'] = AirbnbRentals['room_type'].apply(room)"
   ]
  },
  {
   "cell_type": "code",
   "execution_count": 25,
   "id": "fe70ac6a",
   "metadata": {
    "scrolled": true
   },
   "outputs": [
    {
     "data": {
      "text/html": [
       "<div>\n",
       "<style scoped>\n",
       "    .dataframe tbody tr th:only-of-type {\n",
       "        vertical-align: middle;\n",
       "    }\n",
       "\n",
       "    .dataframe tbody tr th {\n",
       "        vertical-align: top;\n",
       "    }\n",
       "\n",
       "    .dataframe thead th {\n",
       "        text-align: right;\n",
       "    }\n",
       "</style>\n",
       "<table border=\"1\" class=\"dataframe\">\n",
       "  <thead>\n",
       "    <tr style=\"text-align: right;\">\n",
       "      <th></th>\n",
       "      <th>name</th>\n",
       "      <th>neighbourhood</th>\n",
       "      <th>latitude</th>\n",
       "      <th>longitude</th>\n",
       "      <th>room_type</th>\n",
       "      <th>price</th>\n",
       "      <th>minimum_nights</th>\n",
       "      <th>number_of_reviews</th>\n",
       "      <th>availability_365</th>\n",
       "      <th>room</th>\n",
       "    </tr>\n",
       "  </thead>\n",
       "  <tbody>\n",
       "    <tr>\n",
       "      <th>0</th>\n",
       "      <td>Skylit Midtown Castle</td>\n",
       "      <td>Midtown</td>\n",
       "      <td>40.75356</td>\n",
       "      <td>-73.98559</td>\n",
       "      <td>Entire home/apt</td>\n",
       "      <td>150</td>\n",
       "      <td>30</td>\n",
       "      <td>48</td>\n",
       "      <td>338</td>\n",
       "      <td>0</td>\n",
       "    </tr>\n",
       "    <tr>\n",
       "      <th>1</th>\n",
       "      <td>Whole flr w/private bdrm, bath &amp; kitchen(pls r...</td>\n",
       "      <td>Bedford-Stuyvesant</td>\n",
       "      <td>40.68494</td>\n",
       "      <td>-73.95765</td>\n",
       "      <td>Entire home/apt</td>\n",
       "      <td>75</td>\n",
       "      <td>1</td>\n",
       "      <td>409</td>\n",
       "      <td>194</td>\n",
       "      <td>0</td>\n",
       "    </tr>\n",
       "    <tr>\n",
       "      <th>2</th>\n",
       "      <td>BlissArtsSpace!</td>\n",
       "      <td>Bedford-Stuyvesant</td>\n",
       "      <td>40.68535</td>\n",
       "      <td>-73.95512</td>\n",
       "      <td>Private room</td>\n",
       "      <td>60</td>\n",
       "      <td>30</td>\n",
       "      <td>50</td>\n",
       "      <td>365</td>\n",
       "      <td>1</td>\n",
       "    </tr>\n",
       "    <tr>\n",
       "      <th>3</th>\n",
       "      <td>Spacious Brooklyn Duplex, Patio + Garden</td>\n",
       "      <td>Sunset Park</td>\n",
       "      <td>40.66265</td>\n",
       "      <td>-73.99454</td>\n",
       "      <td>Entire home/apt</td>\n",
       "      <td>275</td>\n",
       "      <td>5</td>\n",
       "      <td>2</td>\n",
       "      <td>123</td>\n",
       "      <td>0</td>\n",
       "    </tr>\n",
       "    <tr>\n",
       "      <th>4</th>\n",
       "      <td>Large Furnished Room Near B'wayã€€</td>\n",
       "      <td>Midtown</td>\n",
       "      <td>40.76457</td>\n",
       "      <td>-73.98317</td>\n",
       "      <td>Private room</td>\n",
       "      <td>68</td>\n",
       "      <td>2</td>\n",
       "      <td>507</td>\n",
       "      <td>192</td>\n",
       "      <td>1</td>\n",
       "    </tr>\n",
       "  </tbody>\n",
       "</table>\n",
       "</div>"
      ],
      "text/plain": [
       "                                                name       neighbourhood  \\\n",
       "0                              Skylit Midtown Castle             Midtown   \n",
       "1  Whole flr w/private bdrm, bath & kitchen(pls r...  Bedford-Stuyvesant   \n",
       "2                                    BlissArtsSpace!  Bedford-Stuyvesant   \n",
       "3           Spacious Brooklyn Duplex, Patio + Garden         Sunset Park   \n",
       "4                 Large Furnished Room Near B'wayã€€             Midtown   \n",
       "\n",
       "   latitude  longitude        room_type  price  minimum_nights  \\\n",
       "0  40.75356  -73.98559  Entire home/apt    150              30   \n",
       "1  40.68494  -73.95765  Entire home/apt     75               1   \n",
       "2  40.68535  -73.95512     Private room     60              30   \n",
       "3  40.66265  -73.99454  Entire home/apt    275               5   \n",
       "4  40.76457  -73.98317     Private room     68               2   \n",
       "\n",
       "   number_of_reviews  availability_365  room  \n",
       "0                 48               338     0  \n",
       "1                409               194     0  \n",
       "2                 50               365     1  \n",
       "3                  2               123     0  \n",
       "4                507               192     1  "
      ]
     },
     "execution_count": 25,
     "metadata": {},
     "output_type": "execute_result"
    }
   ],
   "source": [
    "AirbnbRentals.head()"
   ]
  },
  {
   "cell_type": "code",
   "execution_count": 26,
   "id": "d93eb016",
   "metadata": {},
   "outputs": [
    {
     "data": {
      "text/plain": [
       "Index(['name', 'neighbourhood', 'latitude', 'longitude', 'room_type', 'price',\n",
       "       'minimum_nights', 'number_of_reviews', 'availability_365', 'room'],\n",
       "      dtype='object')"
      ]
     },
     "execution_count": 26,
     "metadata": {},
     "output_type": "execute_result"
    }
   ],
   "source": [
    "AirbnbRentals.columns"
   ]
  },
  {
   "cell_type": "code",
   "execution_count": 27,
   "id": "7c00160a",
   "metadata": {},
   "outputs": [],
   "source": [
    "AirbnbRentals.to_csv(\"C:/Users/vanch/Desktop/Entity/DSO110/Wrangled Cities 2.0/NY.csv\")"
   ]
  },
  {
   "cell_type": "code",
   "execution_count": null,
   "id": "33381360",
   "metadata": {},
   "outputs": [],
   "source": []
  }
 ],
 "metadata": {
  "kernelspec": {
   "display_name": "Python 3",
   "language": "python",
   "name": "python3"
  },
  "language_info": {
   "codemirror_mode": {
    "name": "ipython",
    "version": 3
   },
   "file_extension": ".py",
   "mimetype": "text/x-python",
   "name": "python",
   "nbconvert_exporter": "python",
   "pygments_lexer": "ipython3",
   "version": "3.8.8"
  }
 },
 "nbformat": 4,
 "nbformat_minor": 5
}
