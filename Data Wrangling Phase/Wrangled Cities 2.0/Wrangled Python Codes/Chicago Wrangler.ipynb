{
 "cells": [
  {
   "cell_type": "code",
   "execution_count": 1,
   "id": "bf877c23",
   "metadata": {},
   "outputs": [],
   "source": [
    "import pandas as pd\n",
    "import numpy as np"
   ]
  },
  {
   "cell_type": "code",
   "execution_count": 2,
   "id": "95cd65f8",
   "metadata": {},
   "outputs": [],
   "source": [
    "#Loading dataset from folder location"
   ]
  },
  {
   "cell_type": "code",
   "execution_count": 3,
   "id": "92d46352",
   "metadata": {},
   "outputs": [],
   "source": [
    "AirbnbRentals = pd.read_csv(\"C:/Users/vanch/Desktop/Entity/DSO110/Wrangled Cities 2.0/Denver.csv\")"
   ]
  },
  {
   "cell_type": "code",
   "execution_count": 4,
   "id": "58f6509d",
   "metadata": {
    "scrolled": true
   },
   "outputs": [
    {
     "data": {
      "text/html": [
       "<div>\n",
       "<style scoped>\n",
       "    .dataframe tbody tr th:only-of-type {\n",
       "        vertical-align: middle;\n",
       "    }\n",
       "\n",
       "    .dataframe tbody tr th {\n",
       "        vertical-align: top;\n",
       "    }\n",
       "\n",
       "    .dataframe thead th {\n",
       "        text-align: right;\n",
       "    }\n",
       "</style>\n",
       "<table border=\"1\" class=\"dataframe\">\n",
       "  <thead>\n",
       "    <tr style=\"text-align: right;\">\n",
       "      <th></th>\n",
       "      <th>id</th>\n",
       "      <th>name</th>\n",
       "      <th>host_id</th>\n",
       "      <th>host_name</th>\n",
       "      <th>neighbourhood_group</th>\n",
       "      <th>neighbourhood</th>\n",
       "      <th>latitude</th>\n",
       "      <th>longitude</th>\n",
       "      <th>room_type</th>\n",
       "      <th>price</th>\n",
       "      <th>minimum_nights</th>\n",
       "      <th>number_of_reviews</th>\n",
       "      <th>last_review</th>\n",
       "      <th>reviews_per_month</th>\n",
       "      <th>calculated_host_listings_count</th>\n",
       "      <th>availability_365</th>\n",
       "      <th>number_of_reviews_ltm</th>\n",
       "      <th>license</th>\n",
       "    </tr>\n",
       "  </thead>\n",
       "  <tbody>\n",
       "    <tr>\n",
       "      <th>0</th>\n",
       "      <td>2384</td>\n",
       "      <td>Hyde Park - Walk to University of Chicago</td>\n",
       "      <td>2613</td>\n",
       "      <td>Rebecca</td>\n",
       "      <td>NaN</td>\n",
       "      <td>Hyde Park</td>\n",
       "      <td>41.78790</td>\n",
       "      <td>-87.58780</td>\n",
       "      <td>Private room</td>\n",
       "      <td>95</td>\n",
       "      <td>3</td>\n",
       "      <td>192</td>\n",
       "      <td>2021-11-07</td>\n",
       "      <td>2.27</td>\n",
       "      <td>1</td>\n",
       "      <td>355</td>\n",
       "      <td>11</td>\n",
       "      <td>R17000015609</td>\n",
       "    </tr>\n",
       "    <tr>\n",
       "      <th>1</th>\n",
       "      <td>7126</td>\n",
       "      <td>Tiny Studio Apartment 94 Walk Score</td>\n",
       "      <td>17928</td>\n",
       "      <td>Sarah</td>\n",
       "      <td>NaN</td>\n",
       "      <td>West Town</td>\n",
       "      <td>41.90166</td>\n",
       "      <td>-87.68021</td>\n",
       "      <td>Entire home/apt</td>\n",
       "      <td>65</td>\n",
       "      <td>2</td>\n",
       "      <td>425</td>\n",
       "      <td>2021-11-28</td>\n",
       "      <td>2.80</td>\n",
       "      <td>1</td>\n",
       "      <td>165</td>\n",
       "      <td>38</td>\n",
       "      <td>R18000034991</td>\n",
       "    </tr>\n",
       "    <tr>\n",
       "      <th>2</th>\n",
       "      <td>10945</td>\n",
       "      <td>The Biddle House (#1)</td>\n",
       "      <td>33004</td>\n",
       "      <td>At Home Inn</td>\n",
       "      <td>NaN</td>\n",
       "      <td>Lincoln Park</td>\n",
       "      <td>41.91196</td>\n",
       "      <td>-87.63981</td>\n",
       "      <td>Entire home/apt</td>\n",
       "      <td>127</td>\n",
       "      <td>4</td>\n",
       "      <td>39</td>\n",
       "      <td>2021-11-14</td>\n",
       "      <td>0.42</td>\n",
       "      <td>8</td>\n",
       "      <td>98</td>\n",
       "      <td>18</td>\n",
       "      <td>2120297</td>\n",
       "    </tr>\n",
       "    <tr>\n",
       "      <th>3</th>\n",
       "      <td>12140</td>\n",
       "      <td>Lincoln Park Guest House</td>\n",
       "      <td>46734</td>\n",
       "      <td>Sharon And Robert</td>\n",
       "      <td>NaN</td>\n",
       "      <td>Lincoln Park</td>\n",
       "      <td>41.92357</td>\n",
       "      <td>-87.64947</td>\n",
       "      <td>Private room</td>\n",
       "      <td>329</td>\n",
       "      <td>2</td>\n",
       "      <td>7</td>\n",
       "      <td>2021-07-06</td>\n",
       "      <td>0.09</td>\n",
       "      <td>1</td>\n",
       "      <td>179</td>\n",
       "      <td>3</td>\n",
       "      <td>R20000055258</td>\n",
       "    </tr>\n",
       "    <tr>\n",
       "      <th>4</th>\n",
       "      <td>22362</td>\n",
       "      <td>Luxury in Chicago! 2BR/ 2Ba / Parking / BBQ</td>\n",
       "      <td>85811</td>\n",
       "      <td>Craig</td>\n",
       "      <td>NaN</td>\n",
       "      <td>West Town</td>\n",
       "      <td>41.89730</td>\n",
       "      <td>-87.65889</td>\n",
       "      <td>Entire home/apt</td>\n",
       "      <td>105</td>\n",
       "      <td>121</td>\n",
       "      <td>9</td>\n",
       "      <td>2014-10-12</td>\n",
       "      <td>0.09</td>\n",
       "      <td>2</td>\n",
       "      <td>365</td>\n",
       "      <td>0</td>\n",
       "      <td>R17000018689</td>\n",
       "    </tr>\n",
       "  </tbody>\n",
       "</table>\n",
       "</div>"
      ],
      "text/plain": [
       "      id                                         name  host_id  \\\n",
       "0   2384    Hyde Park - Walk to University of Chicago     2613   \n",
       "1   7126          Tiny Studio Apartment 94 Walk Score    17928   \n",
       "2  10945                        The Biddle House (#1)    33004   \n",
       "3  12140                     Lincoln Park Guest House    46734   \n",
       "4  22362  Luxury in Chicago! 2BR/ 2Ba / Parking / BBQ    85811   \n",
       "\n",
       "           host_name  neighbourhood_group neighbourhood  latitude  longitude  \\\n",
       "0            Rebecca                  NaN     Hyde Park  41.78790  -87.58780   \n",
       "1              Sarah                  NaN     West Town  41.90166  -87.68021   \n",
       "2        At Home Inn                  NaN  Lincoln Park  41.91196  -87.63981   \n",
       "3  Sharon And Robert                  NaN  Lincoln Park  41.92357  -87.64947   \n",
       "4              Craig                  NaN     West Town  41.89730  -87.65889   \n",
       "\n",
       "         room_type  price  minimum_nights  number_of_reviews last_review  \\\n",
       "0     Private room     95               3                192  2021-11-07   \n",
       "1  Entire home/apt     65               2                425  2021-11-28   \n",
       "2  Entire home/apt    127               4                 39  2021-11-14   \n",
       "3     Private room    329               2                  7  2021-07-06   \n",
       "4  Entire home/apt    105             121                  9  2014-10-12   \n",
       "\n",
       "   reviews_per_month  calculated_host_listings_count  availability_365  \\\n",
       "0               2.27                               1               355   \n",
       "1               2.80                               1               165   \n",
       "2               0.42                               8                98   \n",
       "3               0.09                               1               179   \n",
       "4               0.09                               2               365   \n",
       "\n",
       "   number_of_reviews_ltm       license  \n",
       "0                     11  R17000015609  \n",
       "1                     38  R18000034991  \n",
       "2                     18       2120297  \n",
       "3                      3  R20000055258  \n",
       "4                      0  R17000018689  "
      ]
     },
     "execution_count": 4,
     "metadata": {},
     "output_type": "execute_result"
    }
   ],
   "source": [
    "AirbnbRentals.head()"
   ]
  },
  {
   "cell_type": "code",
   "execution_count": 5,
   "id": "7b2563e4",
   "metadata": {},
   "outputs": [],
   "source": [
    "#Checking for columns and names of columns"
   ]
  },
  {
   "cell_type": "code",
   "execution_count": 6,
   "id": "47113ddf",
   "metadata": {},
   "outputs": [
    {
     "data": {
      "text/plain": [
       "Index(['id', 'name', 'host_id', 'host_name', 'neighbourhood_group',\n",
       "       'neighbourhood', 'latitude', 'longitude', 'room_type', 'price',\n",
       "       'minimum_nights', 'number_of_reviews', 'last_review',\n",
       "       'reviews_per_month', 'calculated_host_listings_count',\n",
       "       'availability_365', 'number_of_reviews_ltm', 'license'],\n",
       "      dtype='object')"
      ]
     },
     "execution_count": 6,
     "metadata": {},
     "output_type": "execute_result"
    }
   ],
   "source": [
    "AirbnbRentals.columns"
   ]
  },
  {
   "cell_type": "code",
   "execution_count": 7,
   "id": "4e872bfe",
   "metadata": {},
   "outputs": [],
   "source": [
    "#Removing columns with irrelevant information"
   ]
  },
  {
   "cell_type": "code",
   "execution_count": 8,
   "id": "5102e5b5",
   "metadata": {},
   "outputs": [],
   "source": [
    "AirbnbRentals.drop(['id', 'host_id', 'host_name', 'neighbourhood_group', 'number_of_reviews_ltm', 'last_review',\n",
    "                    'reviews_per_month', 'calculated_host_listings_count', 'license'],axis=1, inplace=True)"
   ]
  },
  {
   "cell_type": "code",
   "execution_count": 9,
   "id": "a63b44e3",
   "metadata": {},
   "outputs": [
    {
     "data": {
      "text/html": [
       "<div>\n",
       "<style scoped>\n",
       "    .dataframe tbody tr th:only-of-type {\n",
       "        vertical-align: middle;\n",
       "    }\n",
       "\n",
       "    .dataframe tbody tr th {\n",
       "        vertical-align: top;\n",
       "    }\n",
       "\n",
       "    .dataframe thead th {\n",
       "        text-align: right;\n",
       "    }\n",
       "</style>\n",
       "<table border=\"1\" class=\"dataframe\">\n",
       "  <thead>\n",
       "    <tr style=\"text-align: right;\">\n",
       "      <th></th>\n",
       "      <th>name</th>\n",
       "      <th>neighbourhood</th>\n",
       "      <th>latitude</th>\n",
       "      <th>longitude</th>\n",
       "      <th>room_type</th>\n",
       "      <th>price</th>\n",
       "      <th>minimum_nights</th>\n",
       "      <th>number_of_reviews</th>\n",
       "      <th>availability_365</th>\n",
       "    </tr>\n",
       "  </thead>\n",
       "  <tbody>\n",
       "    <tr>\n",
       "      <th>0</th>\n",
       "      <td>Hyde Park - Walk to University of Chicago</td>\n",
       "      <td>Hyde Park</td>\n",
       "      <td>41.78790</td>\n",
       "      <td>-87.58780</td>\n",
       "      <td>Private room</td>\n",
       "      <td>95</td>\n",
       "      <td>3</td>\n",
       "      <td>192</td>\n",
       "      <td>355</td>\n",
       "    </tr>\n",
       "    <tr>\n",
       "      <th>1</th>\n",
       "      <td>Tiny Studio Apartment 94 Walk Score</td>\n",
       "      <td>West Town</td>\n",
       "      <td>41.90166</td>\n",
       "      <td>-87.68021</td>\n",
       "      <td>Entire home/apt</td>\n",
       "      <td>65</td>\n",
       "      <td>2</td>\n",
       "      <td>425</td>\n",
       "      <td>165</td>\n",
       "    </tr>\n",
       "    <tr>\n",
       "      <th>2</th>\n",
       "      <td>The Biddle House (#1)</td>\n",
       "      <td>Lincoln Park</td>\n",
       "      <td>41.91196</td>\n",
       "      <td>-87.63981</td>\n",
       "      <td>Entire home/apt</td>\n",
       "      <td>127</td>\n",
       "      <td>4</td>\n",
       "      <td>39</td>\n",
       "      <td>98</td>\n",
       "    </tr>\n",
       "    <tr>\n",
       "      <th>3</th>\n",
       "      <td>Lincoln Park Guest House</td>\n",
       "      <td>Lincoln Park</td>\n",
       "      <td>41.92357</td>\n",
       "      <td>-87.64947</td>\n",
       "      <td>Private room</td>\n",
       "      <td>329</td>\n",
       "      <td>2</td>\n",
       "      <td>7</td>\n",
       "      <td>179</td>\n",
       "    </tr>\n",
       "    <tr>\n",
       "      <th>4</th>\n",
       "      <td>Luxury in Chicago! 2BR/ 2Ba / Parking / BBQ</td>\n",
       "      <td>West Town</td>\n",
       "      <td>41.89730</td>\n",
       "      <td>-87.65889</td>\n",
       "      <td>Entire home/apt</td>\n",
       "      <td>105</td>\n",
       "      <td>121</td>\n",
       "      <td>9</td>\n",
       "      <td>365</td>\n",
       "    </tr>\n",
       "  </tbody>\n",
       "</table>\n",
       "</div>"
      ],
      "text/plain": [
       "                                          name neighbourhood  latitude  \\\n",
       "0    Hyde Park - Walk to University of Chicago     Hyde Park  41.78790   \n",
       "1          Tiny Studio Apartment 94 Walk Score     West Town  41.90166   \n",
       "2                        The Biddle House (#1)  Lincoln Park  41.91196   \n",
       "3                     Lincoln Park Guest House  Lincoln Park  41.92357   \n",
       "4  Luxury in Chicago! 2BR/ 2Ba / Parking / BBQ     West Town  41.89730   \n",
       "\n",
       "   longitude        room_type  price  minimum_nights  number_of_reviews  \\\n",
       "0  -87.58780     Private room     95               3                192   \n",
       "1  -87.68021  Entire home/apt     65               2                425   \n",
       "2  -87.63981  Entire home/apt    127               4                 39   \n",
       "3  -87.64947     Private room    329               2                  7   \n",
       "4  -87.65889  Entire home/apt    105             121                  9   \n",
       "\n",
       "   availability_365  \n",
       "0               355  \n",
       "1               165  \n",
       "2                98  \n",
       "3               179  \n",
       "4               365  "
      ]
     },
     "execution_count": 9,
     "metadata": {},
     "output_type": "execute_result"
    }
   ],
   "source": [
    "AirbnbRentals.head()"
   ]
  },
  {
   "cell_type": "code",
   "execution_count": 10,
   "id": "cb63ac2e",
   "metadata": {},
   "outputs": [],
   "source": [
    "#Removing null data"
   ]
  },
  {
   "cell_type": "code",
   "execution_count": 11,
   "id": "2db52a11",
   "metadata": {
    "scrolled": true
   },
   "outputs": [
    {
     "data": {
      "text/plain": [
       "Near North Side    760\n",
       "West Town          709\n",
       "Lake View          561\n",
       "Near West Side     407\n",
       "Logan Square       398\n",
       "                  ... \n",
       "Gage Park            1\n",
       "West Elsdon          1\n",
       "Avalon Park          1\n",
       "Burnside             1\n",
       "Edison Park          1\n",
       "Name: neighbourhood, Length: 76, dtype: int64"
      ]
     },
     "execution_count": 11,
     "metadata": {},
     "output_type": "execute_result"
    }
   ],
   "source": [
    "AirbnbRentals['neighbourhood'].value_counts()"
   ]
  },
  {
   "cell_type": "code",
   "execution_count": 12,
   "id": "16f0e2a4",
   "metadata": {},
   "outputs": [
    {
     "data": {
      "text/plain": [
       "name                 0\n",
       "neighbourhood        0\n",
       "latitude             0\n",
       "longitude            0\n",
       "room_type            0\n",
       "price                0\n",
       "minimum_nights       0\n",
       "number_of_reviews    0\n",
       "availability_365     0\n",
       "dtype: int64"
      ]
     },
     "execution_count": 12,
     "metadata": {},
     "output_type": "execute_result"
    }
   ],
   "source": [
    "AirbnbRentals.isnull().sum()"
   ]
  },
  {
   "cell_type": "code",
   "execution_count": 13,
   "id": "5876e9da",
   "metadata": {},
   "outputs": [
    {
     "data": {
      "text/plain": [
       "(6544, 9)"
      ]
     },
     "execution_count": 13,
     "metadata": {},
     "output_type": "execute_result"
    }
   ],
   "source": [
    "AirbnbRentals.shape"
   ]
  },
  {
   "cell_type": "code",
   "execution_count": 14,
   "id": "c49d9e84",
   "metadata": {},
   "outputs": [],
   "source": [
    "AirbnbRentals = AirbnbRentals.dropna()"
   ]
  },
  {
   "cell_type": "code",
   "execution_count": 15,
   "id": "fceeee40",
   "metadata": {},
   "outputs": [
    {
     "data": {
      "text/plain": [
       "(6544, 9)"
      ]
     },
     "execution_count": 15,
     "metadata": {},
     "output_type": "execute_result"
    }
   ],
   "source": [
    "AirbnbRentals.shape"
   ]
  },
  {
   "cell_type": "code",
   "execution_count": 16,
   "id": "39718c35",
   "metadata": {},
   "outputs": [
    {
     "data": {
      "text/plain": [
       "name                 0\n",
       "neighbourhood        0\n",
       "latitude             0\n",
       "longitude            0\n",
       "room_type            0\n",
       "price                0\n",
       "minimum_nights       0\n",
       "number_of_reviews    0\n",
       "availability_365     0\n",
       "dtype: int64"
      ]
     },
     "execution_count": 16,
     "metadata": {},
     "output_type": "execute_result"
    }
   ],
   "source": [
    "AirbnbRentals.isnull().sum()"
   ]
  },
  {
   "cell_type": "code",
   "execution_count": 17,
   "id": "61cd05b1",
   "metadata": {},
   "outputs": [],
   "source": [
    "#Checking data types and names for remaining columns"
   ]
  },
  {
   "cell_type": "code",
   "execution_count": 18,
   "id": "dce511ec",
   "metadata": {},
   "outputs": [
    {
     "name": "stdout",
     "output_type": "stream",
     "text": [
      "name                  object\n",
      "neighbourhood         object\n",
      "latitude             float64\n",
      "longitude            float64\n",
      "room_type             object\n",
      "price                  int64\n",
      "minimum_nights         int64\n",
      "number_of_reviews      int64\n",
      "availability_365       int64\n",
      "dtype: object\n"
     ]
    }
   ],
   "source": [
    "print(AirbnbRentals.dtypes)"
   ]
  },
  {
   "cell_type": "code",
   "execution_count": 19,
   "id": "646b439e",
   "metadata": {},
   "outputs": [
    {
     "data": {
      "text/plain": [
       "Index(['name', 'neighbourhood', 'latitude', 'longitude', 'room_type', 'price',\n",
       "       'minimum_nights', 'number_of_reviews', 'availability_365'],\n",
       "      dtype='object')"
      ]
     },
     "execution_count": 19,
     "metadata": {},
     "output_type": "execute_result"
    }
   ],
   "source": [
    "AirbnbRentals.columns"
   ]
  },
  {
   "cell_type": "code",
   "execution_count": 20,
   "id": "c545b2ee",
   "metadata": {},
   "outputs": [],
   "source": [
    "#Counting totals of each variable in column"
   ]
  },
  {
   "cell_type": "code",
   "execution_count": 21,
   "id": "fe22a150",
   "metadata": {},
   "outputs": [
    {
     "data": {
      "text/plain": [
       "Entire home/apt    4763\n",
       "Private room       1631\n",
       "Shared room          89\n",
       "Hotel room           61\n",
       "Name: room_type, dtype: int64"
      ]
     },
     "execution_count": 21,
     "metadata": {},
     "output_type": "execute_result"
    }
   ],
   "source": [
    "AirbnbRentals['room_type'].value_counts()"
   ]
  },
  {
   "cell_type": "code",
   "execution_count": 22,
   "id": "015e2faf",
   "metadata": {},
   "outputs": [],
   "source": [
    "#Recoding room_type into integers"
   ]
  },
  {
   "cell_type": "code",
   "execution_count": 23,
   "id": "15f03665",
   "metadata": {},
   "outputs": [],
   "source": [
    "def room (series): \n",
    "\n",
    "    if series == \"Entire home/apt\":\n",
    "\n",
    "        return 0\n",
    "\n",
    "    if series == \"Private room\": \n",
    "\n",
    "        return 1\n",
    "\n",
    "    if series == \"Shared room\": \n",
    "\n",
    "        return 2\n",
    "\n",
    "    if series == \"Hotel room\": \n",
    "\n",
    "        return 3\n",
    "\n",
    "AirbnbRentals['room'] = AirbnbRentals['room_type'].apply(room)"
   ]
  },
  {
   "cell_type": "code",
   "execution_count": 24,
   "id": "fe70ac6a",
   "metadata": {
    "scrolled": true
   },
   "outputs": [
    {
     "data": {
      "text/html": [
       "<div>\n",
       "<style scoped>\n",
       "    .dataframe tbody tr th:only-of-type {\n",
       "        vertical-align: middle;\n",
       "    }\n",
       "\n",
       "    .dataframe tbody tr th {\n",
       "        vertical-align: top;\n",
       "    }\n",
       "\n",
       "    .dataframe thead th {\n",
       "        text-align: right;\n",
       "    }\n",
       "</style>\n",
       "<table border=\"1\" class=\"dataframe\">\n",
       "  <thead>\n",
       "    <tr style=\"text-align: right;\">\n",
       "      <th></th>\n",
       "      <th>name</th>\n",
       "      <th>neighbourhood</th>\n",
       "      <th>latitude</th>\n",
       "      <th>longitude</th>\n",
       "      <th>room_type</th>\n",
       "      <th>price</th>\n",
       "      <th>minimum_nights</th>\n",
       "      <th>number_of_reviews</th>\n",
       "      <th>availability_365</th>\n",
       "      <th>room</th>\n",
       "    </tr>\n",
       "  </thead>\n",
       "  <tbody>\n",
       "    <tr>\n",
       "      <th>0</th>\n",
       "      <td>Hyde Park - Walk to University of Chicago</td>\n",
       "      <td>Hyde Park</td>\n",
       "      <td>41.78790</td>\n",
       "      <td>-87.58780</td>\n",
       "      <td>Private room</td>\n",
       "      <td>95</td>\n",
       "      <td>3</td>\n",
       "      <td>192</td>\n",
       "      <td>355</td>\n",
       "      <td>1</td>\n",
       "    </tr>\n",
       "    <tr>\n",
       "      <th>1</th>\n",
       "      <td>Tiny Studio Apartment 94 Walk Score</td>\n",
       "      <td>West Town</td>\n",
       "      <td>41.90166</td>\n",
       "      <td>-87.68021</td>\n",
       "      <td>Entire home/apt</td>\n",
       "      <td>65</td>\n",
       "      <td>2</td>\n",
       "      <td>425</td>\n",
       "      <td>165</td>\n",
       "      <td>0</td>\n",
       "    </tr>\n",
       "    <tr>\n",
       "      <th>2</th>\n",
       "      <td>The Biddle House (#1)</td>\n",
       "      <td>Lincoln Park</td>\n",
       "      <td>41.91196</td>\n",
       "      <td>-87.63981</td>\n",
       "      <td>Entire home/apt</td>\n",
       "      <td>127</td>\n",
       "      <td>4</td>\n",
       "      <td>39</td>\n",
       "      <td>98</td>\n",
       "      <td>0</td>\n",
       "    </tr>\n",
       "    <tr>\n",
       "      <th>3</th>\n",
       "      <td>Lincoln Park Guest House</td>\n",
       "      <td>Lincoln Park</td>\n",
       "      <td>41.92357</td>\n",
       "      <td>-87.64947</td>\n",
       "      <td>Private room</td>\n",
       "      <td>329</td>\n",
       "      <td>2</td>\n",
       "      <td>7</td>\n",
       "      <td>179</td>\n",
       "      <td>1</td>\n",
       "    </tr>\n",
       "    <tr>\n",
       "      <th>4</th>\n",
       "      <td>Luxury in Chicago! 2BR/ 2Ba / Parking / BBQ</td>\n",
       "      <td>West Town</td>\n",
       "      <td>41.89730</td>\n",
       "      <td>-87.65889</td>\n",
       "      <td>Entire home/apt</td>\n",
       "      <td>105</td>\n",
       "      <td>121</td>\n",
       "      <td>9</td>\n",
       "      <td>365</td>\n",
       "      <td>0</td>\n",
       "    </tr>\n",
       "  </tbody>\n",
       "</table>\n",
       "</div>"
      ],
      "text/plain": [
       "                                          name neighbourhood  latitude  \\\n",
       "0    Hyde Park - Walk to University of Chicago     Hyde Park  41.78790   \n",
       "1          Tiny Studio Apartment 94 Walk Score     West Town  41.90166   \n",
       "2                        The Biddle House (#1)  Lincoln Park  41.91196   \n",
       "3                     Lincoln Park Guest House  Lincoln Park  41.92357   \n",
       "4  Luxury in Chicago! 2BR/ 2Ba / Parking / BBQ     West Town  41.89730   \n",
       "\n",
       "   longitude        room_type  price  minimum_nights  number_of_reviews  \\\n",
       "0  -87.58780     Private room     95               3                192   \n",
       "1  -87.68021  Entire home/apt     65               2                425   \n",
       "2  -87.63981  Entire home/apt    127               4                 39   \n",
       "3  -87.64947     Private room    329               2                  7   \n",
       "4  -87.65889  Entire home/apt    105             121                  9   \n",
       "\n",
       "   availability_365  room  \n",
       "0               355     1  \n",
       "1               165     0  \n",
       "2                98     0  \n",
       "3               179     1  \n",
       "4               365     0  "
      ]
     },
     "execution_count": 24,
     "metadata": {},
     "output_type": "execute_result"
    }
   ],
   "source": [
    "AirbnbRentals.head()"
   ]
  },
  {
   "cell_type": "code",
   "execution_count": 25,
   "id": "d93eb016",
   "metadata": {},
   "outputs": [
    {
     "data": {
      "text/plain": [
       "Index(['name', 'neighbourhood', 'latitude', 'longitude', 'room_type', 'price',\n",
       "       'minimum_nights', 'number_of_reviews', 'availability_365', 'room'],\n",
       "      dtype='object')"
      ]
     },
     "execution_count": 25,
     "metadata": {},
     "output_type": "execute_result"
    }
   ],
   "source": [
    "AirbnbRentals.columns"
   ]
  },
  {
   "cell_type": "code",
   "execution_count": 26,
   "id": "7c00160a",
   "metadata": {},
   "outputs": [],
   "source": [
    "AirbnbRentals.to_csv(\"C:/Users/vanch/Desktop/Entity/DSO110/Wrangled Cities 2.0/ChicagoW.csv\")"
   ]
  },
  {
   "cell_type": "code",
   "execution_count": null,
   "id": "33381360",
   "metadata": {},
   "outputs": [],
   "source": []
  }
 ],
 "metadata": {
  "kernelspec": {
   "display_name": "Python 3",
   "language": "python",
   "name": "python3"
  },
  "language_info": {
   "codemirror_mode": {
    "name": "ipython",
    "version": 3
   },
   "file_extension": ".py",
   "mimetype": "text/x-python",
   "name": "python",
   "nbconvert_exporter": "python",
   "pygments_lexer": "ipython3",
   "version": "3.8.8"
  }
 },
 "nbformat": 4,
 "nbformat_minor": 5
}
