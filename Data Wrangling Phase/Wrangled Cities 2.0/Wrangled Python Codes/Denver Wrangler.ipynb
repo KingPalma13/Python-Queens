{
 "cells": [
  {
   "cell_type": "code",
   "execution_count": 1,
   "id": "bf877c23",
   "metadata": {},
   "outputs": [],
   "source": [
    "import pandas as pd\n",
    "import numpy as np"
   ]
  },
  {
   "cell_type": "code",
   "execution_count": 2,
   "id": "95cd65f8",
   "metadata": {},
   "outputs": [],
   "source": [
    "#Loading dataset from folder location"
   ]
  },
  {
   "cell_type": "code",
   "execution_count": 3,
   "id": "92d46352",
   "metadata": {},
   "outputs": [],
   "source": [
    "AirbnbRentals = pd.read_csv(\"C:/Users/vanch/Desktop/Entity/DSO110/Wrangled Cities 2.0/Denver.csv\")"
   ]
  },
  {
   "cell_type": "code",
   "execution_count": 4,
   "id": "58f6509d",
   "metadata": {
    "scrolled": true
   },
   "outputs": [
    {
     "data": {
      "text/html": [
       "<div>\n",
       "<style scoped>\n",
       "    .dataframe tbody tr th:only-of-type {\n",
       "        vertical-align: middle;\n",
       "    }\n",
       "\n",
       "    .dataframe tbody tr th {\n",
       "        vertical-align: top;\n",
       "    }\n",
       "\n",
       "    .dataframe thead th {\n",
       "        text-align: right;\n",
       "    }\n",
       "</style>\n",
       "<table border=\"1\" class=\"dataframe\">\n",
       "  <thead>\n",
       "    <tr style=\"text-align: right;\">\n",
       "      <th></th>\n",
       "      <th>id</th>\n",
       "      <th>name</th>\n",
       "      <th>host_id</th>\n",
       "      <th>host_name</th>\n",
       "      <th>neighbourhood_group</th>\n",
       "      <th>neighbourhood</th>\n",
       "      <th>latitude</th>\n",
       "      <th>longitude</th>\n",
       "      <th>room_type</th>\n",
       "      <th>price</th>\n",
       "      <th>minimum_nights</th>\n",
       "      <th>number_of_reviews</th>\n",
       "      <th>last_review</th>\n",
       "      <th>reviews_per_month</th>\n",
       "      <th>calculated_host_listings_count</th>\n",
       "      <th>availability_365</th>\n",
       "      <th>number_of_reviews_ltm</th>\n",
       "      <th>license</th>\n",
       "    </tr>\n",
       "  </thead>\n",
       "  <tbody>\n",
       "    <tr>\n",
       "      <th>0</th>\n",
       "      <td>177</td>\n",
       "      <td>Tiny Home in the Heart of the City- ECO FRIENDLY</td>\n",
       "      <td>615</td>\n",
       "      <td>Joe</td>\n",
       "      <td>NaN</td>\n",
       "      <td>Virginia Village</td>\n",
       "      <td>39.69551</td>\n",
       "      <td>-104.92489</td>\n",
       "      <td>Entire home/apt</td>\n",
       "      <td>79</td>\n",
       "      <td>1</td>\n",
       "      <td>96</td>\n",
       "      <td>2021-11-15</td>\n",
       "      <td>1.48</td>\n",
       "      <td>2</td>\n",
       "      <td>329</td>\n",
       "      <td>19</td>\n",
       "      <td>2016-BFN-0004968</td>\n",
       "    </tr>\n",
       "    <tr>\n",
       "      <th>1</th>\n",
       "      <td>360</td>\n",
       "      <td>Sit in the Peaceful Garden of the Chickadee Co...</td>\n",
       "      <td>666</td>\n",
       "      <td>Jennifer &amp; Giovanni</td>\n",
       "      <td>NaN</td>\n",
       "      <td>Highland</td>\n",
       "      <td>39.76758</td>\n",
       "      <td>-105.00316</td>\n",
       "      <td>Entire home/apt</td>\n",
       "      <td>133</td>\n",
       "      <td>30</td>\n",
       "      <td>167</td>\n",
       "      <td>2021-10-30</td>\n",
       "      <td>4.05</td>\n",
       "      <td>2</td>\n",
       "      <td>88</td>\n",
       "      <td>34</td>\n",
       "      <td>2017-BFN-0002177</td>\n",
       "    </tr>\n",
       "    <tr>\n",
       "      <th>2</th>\n",
       "      <td>364</td>\n",
       "      <td>Lodo / RiNo LOFT  via airport train</td>\n",
       "      <td>783</td>\n",
       "      <td>Jason</td>\n",
       "      <td>NaN</td>\n",
       "      <td>Five Points</td>\n",
       "      <td>39.76672</td>\n",
       "      <td>-104.97906</td>\n",
       "      <td>Entire home/apt</td>\n",
       "      <td>179</td>\n",
       "      <td>185</td>\n",
       "      <td>87</td>\n",
       "      <td>2016-04-26</td>\n",
       "      <td>0.57</td>\n",
       "      <td>1</td>\n",
       "      <td>362</td>\n",
       "      <td>0</td>\n",
       "      <td>NaN</td>\n",
       "    </tr>\n",
       "    <tr>\n",
       "      <th>3</th>\n",
       "      <td>590</td>\n",
       "      <td>Comfortable  - and a great value!</td>\n",
       "      <td>933</td>\n",
       "      <td>Jill</td>\n",
       "      <td>NaN</td>\n",
       "      <td>North Park Hill</td>\n",
       "      <td>39.75511</td>\n",
       "      <td>-104.91109</td>\n",
       "      <td>Private room</td>\n",
       "      <td>55</td>\n",
       "      <td>2</td>\n",
       "      <td>642</td>\n",
       "      <td>2021-12-15</td>\n",
       "      <td>4.13</td>\n",
       "      <td>2</td>\n",
       "      <td>239</td>\n",
       "      <td>36</td>\n",
       "      <td>2021-BFN-0000578</td>\n",
       "    </tr>\n",
       "    <tr>\n",
       "      <th>4</th>\n",
       "      <td>592</td>\n",
       "      <td>private</td>\n",
       "      <td>933</td>\n",
       "      <td>Jill</td>\n",
       "      <td>NaN</td>\n",
       "      <td>North Park Hill</td>\n",
       "      <td>39.75481</td>\n",
       "      <td>-104.91106</td>\n",
       "      <td>Private room</td>\n",
       "      <td>52</td>\n",
       "      <td>1</td>\n",
       "      <td>165</td>\n",
       "      <td>2021-12-19</td>\n",
       "      <td>1.05</td>\n",
       "      <td>2</td>\n",
       "      <td>40</td>\n",
       "      <td>9</td>\n",
       "      <td>2021-BFN-0000578</td>\n",
       "    </tr>\n",
       "  </tbody>\n",
       "</table>\n",
       "</div>"
      ],
      "text/plain": [
       "    id                                               name  host_id  \\\n",
       "0  177   Tiny Home in the Heart of the City- ECO FRIENDLY      615   \n",
       "1  360  Sit in the Peaceful Garden of the Chickadee Co...      666   \n",
       "2  364                Lodo / RiNo LOFT  via airport train      783   \n",
       "3  590                  Comfortable  - and a great value!      933   \n",
       "4  592                                            private      933   \n",
       "\n",
       "             host_name  neighbourhood_group     neighbourhood  latitude  \\\n",
       "0                  Joe                  NaN  Virginia Village  39.69551   \n",
       "1  Jennifer & Giovanni                  NaN          Highland  39.76758   \n",
       "2                Jason                  NaN       Five Points  39.76672   \n",
       "3                 Jill                  NaN   North Park Hill  39.75511   \n",
       "4                 Jill                  NaN   North Park Hill  39.75481   \n",
       "\n",
       "   longitude        room_type  price  minimum_nights  number_of_reviews  \\\n",
       "0 -104.92489  Entire home/apt     79               1                 96   \n",
       "1 -105.00316  Entire home/apt    133              30                167   \n",
       "2 -104.97906  Entire home/apt    179             185                 87   \n",
       "3 -104.91109     Private room     55               2                642   \n",
       "4 -104.91106     Private room     52               1                165   \n",
       "\n",
       "  last_review  reviews_per_month  calculated_host_listings_count  \\\n",
       "0  2021-11-15               1.48                               2   \n",
       "1  2021-10-30               4.05                               2   \n",
       "2  2016-04-26               0.57                               1   \n",
       "3  2021-12-15               4.13                               2   \n",
       "4  2021-12-19               1.05                               2   \n",
       "\n",
       "   availability_365  number_of_reviews_ltm           license  \n",
       "0               329                     19  2016-BFN-0004968  \n",
       "1                88                     34  2017-BFN-0002177  \n",
       "2               362                      0               NaN  \n",
       "3               239                     36  2021-BFN-0000578  \n",
       "4                40                      9  2021-BFN-0000578  "
      ]
     },
     "execution_count": 4,
     "metadata": {},
     "output_type": "execute_result"
    }
   ],
   "source": [
    "AirbnbRentals.head()"
   ]
  },
  {
   "cell_type": "code",
   "execution_count": 5,
   "id": "7b2563e4",
   "metadata": {},
   "outputs": [],
   "source": [
    "#Checking for columns and names of columns"
   ]
  },
  {
   "cell_type": "code",
   "execution_count": 6,
   "id": "47113ddf",
   "metadata": {},
   "outputs": [
    {
     "data": {
      "text/plain": [
       "Index(['id', 'name', 'host_id', 'host_name', 'neighbourhood_group',\n",
       "       'neighbourhood', 'latitude', 'longitude', 'room_type', 'price',\n",
       "       'minimum_nights', 'number_of_reviews', 'last_review',\n",
       "       'reviews_per_month', 'calculated_host_listings_count',\n",
       "       'availability_365', 'number_of_reviews_ltm', 'license'],\n",
       "      dtype='object')"
      ]
     },
     "execution_count": 6,
     "metadata": {},
     "output_type": "execute_result"
    }
   ],
   "source": [
    "AirbnbRentals.columns"
   ]
  },
  {
   "cell_type": "code",
   "execution_count": 7,
   "id": "4e872bfe",
   "metadata": {},
   "outputs": [],
   "source": [
    "#Removing columns with irrelevant information"
   ]
  },
  {
   "cell_type": "code",
   "execution_count": 8,
   "id": "5102e5b5",
   "metadata": {},
   "outputs": [],
   "source": [
    "AirbnbRentals.drop(['id', 'host_id', 'host_name', 'neighbourhood_group', 'number_of_reviews_ltm', 'last_review',\n",
    "                    'reviews_per_month', 'calculated_host_listings_count', 'license'],axis=1, inplace=True)"
   ]
  },
  {
   "cell_type": "code",
   "execution_count": 9,
   "id": "a63b44e3",
   "metadata": {},
   "outputs": [
    {
     "data": {
      "text/html": [
       "<div>\n",
       "<style scoped>\n",
       "    .dataframe tbody tr th:only-of-type {\n",
       "        vertical-align: middle;\n",
       "    }\n",
       "\n",
       "    .dataframe tbody tr th {\n",
       "        vertical-align: top;\n",
       "    }\n",
       "\n",
       "    .dataframe thead th {\n",
       "        text-align: right;\n",
       "    }\n",
       "</style>\n",
       "<table border=\"1\" class=\"dataframe\">\n",
       "  <thead>\n",
       "    <tr style=\"text-align: right;\">\n",
       "      <th></th>\n",
       "      <th>name</th>\n",
       "      <th>neighbourhood</th>\n",
       "      <th>latitude</th>\n",
       "      <th>longitude</th>\n",
       "      <th>room_type</th>\n",
       "      <th>price</th>\n",
       "      <th>minimum_nights</th>\n",
       "      <th>number_of_reviews</th>\n",
       "      <th>availability_365</th>\n",
       "    </tr>\n",
       "  </thead>\n",
       "  <tbody>\n",
       "    <tr>\n",
       "      <th>0</th>\n",
       "      <td>Tiny Home in the Heart of the City- ECO FRIENDLY</td>\n",
       "      <td>Virginia Village</td>\n",
       "      <td>39.69551</td>\n",
       "      <td>-104.92489</td>\n",
       "      <td>Entire home/apt</td>\n",
       "      <td>79</td>\n",
       "      <td>1</td>\n",
       "      <td>96</td>\n",
       "      <td>329</td>\n",
       "    </tr>\n",
       "    <tr>\n",
       "      <th>1</th>\n",
       "      <td>Sit in the Peaceful Garden of the Chickadee Co...</td>\n",
       "      <td>Highland</td>\n",
       "      <td>39.76758</td>\n",
       "      <td>-105.00316</td>\n",
       "      <td>Entire home/apt</td>\n",
       "      <td>133</td>\n",
       "      <td>30</td>\n",
       "      <td>167</td>\n",
       "      <td>88</td>\n",
       "    </tr>\n",
       "    <tr>\n",
       "      <th>2</th>\n",
       "      <td>Lodo / RiNo LOFT  via airport train</td>\n",
       "      <td>Five Points</td>\n",
       "      <td>39.76672</td>\n",
       "      <td>-104.97906</td>\n",
       "      <td>Entire home/apt</td>\n",
       "      <td>179</td>\n",
       "      <td>185</td>\n",
       "      <td>87</td>\n",
       "      <td>362</td>\n",
       "    </tr>\n",
       "    <tr>\n",
       "      <th>3</th>\n",
       "      <td>Comfortable  - and a great value!</td>\n",
       "      <td>North Park Hill</td>\n",
       "      <td>39.75511</td>\n",
       "      <td>-104.91109</td>\n",
       "      <td>Private room</td>\n",
       "      <td>55</td>\n",
       "      <td>2</td>\n",
       "      <td>642</td>\n",
       "      <td>239</td>\n",
       "    </tr>\n",
       "    <tr>\n",
       "      <th>4</th>\n",
       "      <td>private</td>\n",
       "      <td>North Park Hill</td>\n",
       "      <td>39.75481</td>\n",
       "      <td>-104.91106</td>\n",
       "      <td>Private room</td>\n",
       "      <td>52</td>\n",
       "      <td>1</td>\n",
       "      <td>165</td>\n",
       "      <td>40</td>\n",
       "    </tr>\n",
       "  </tbody>\n",
       "</table>\n",
       "</div>"
      ],
      "text/plain": [
       "                                                name     neighbourhood  \\\n",
       "0   Tiny Home in the Heart of the City- ECO FRIENDLY  Virginia Village   \n",
       "1  Sit in the Peaceful Garden of the Chickadee Co...          Highland   \n",
       "2                Lodo / RiNo LOFT  via airport train       Five Points   \n",
       "3                  Comfortable  - and a great value!   North Park Hill   \n",
       "4                                            private   North Park Hill   \n",
       "\n",
       "   latitude  longitude        room_type  price  minimum_nights  \\\n",
       "0  39.69551 -104.92489  Entire home/apt     79               1   \n",
       "1  39.76758 -105.00316  Entire home/apt    133              30   \n",
       "2  39.76672 -104.97906  Entire home/apt    179             185   \n",
       "3  39.75511 -104.91109     Private room     55               2   \n",
       "4  39.75481 -104.91106     Private room     52               1   \n",
       "\n",
       "   number_of_reviews  availability_365  \n",
       "0                 96               329  \n",
       "1                167                88  \n",
       "2                 87               362  \n",
       "3                642               239  \n",
       "4                165                40  "
      ]
     },
     "execution_count": 9,
     "metadata": {},
     "output_type": "execute_result"
    }
   ],
   "source": [
    "AirbnbRentals.head()"
   ]
  },
  {
   "cell_type": "code",
   "execution_count": 10,
   "id": "cb63ac2e",
   "metadata": {},
   "outputs": [],
   "source": [
    "#Checking for null data"
   ]
  },
  {
   "cell_type": "code",
   "execution_count": 11,
   "id": "2db52a11",
   "metadata": {
    "scrolled": true
   },
   "outputs": [
    {
     "data": {
      "text/plain": [
       "Highland          325\n",
       "Five Points       324\n",
       "Union Station     187\n",
       "West Colfax       147\n",
       "CBD               146\n",
       "                 ... \n",
       "Southmoor Park      6\n",
       "Marston             3\n",
       "Kennedy             3\n",
       "Sun Valley          1\n",
       "Auraria             1\n",
       "Name: neighbourhood, Length: 78, dtype: int64"
      ]
     },
     "execution_count": 11,
     "metadata": {},
     "output_type": "execute_result"
    }
   ],
   "source": [
    "AirbnbRentals['neighbourhood'].value_counts()"
   ]
  },
  {
   "cell_type": "code",
   "execution_count": 12,
   "id": "16f0e2a4",
   "metadata": {},
   "outputs": [
    {
     "data": {
      "text/plain": [
       "name                 0\n",
       "neighbourhood        0\n",
       "latitude             0\n",
       "longitude            0\n",
       "room_type            0\n",
       "price                0\n",
       "minimum_nights       0\n",
       "number_of_reviews    0\n",
       "availability_365     0\n",
       "dtype: int64"
      ]
     },
     "execution_count": 12,
     "metadata": {},
     "output_type": "execute_result"
    }
   ],
   "source": [
    "AirbnbRentals.isnull().sum()"
   ]
  },
  {
   "cell_type": "code",
   "execution_count": 13,
   "id": "5876e9da",
   "metadata": {},
   "outputs": [
    {
     "data": {
      "text/plain": [
       "(4098, 9)"
      ]
     },
     "execution_count": 13,
     "metadata": {},
     "output_type": "execute_result"
    }
   ],
   "source": [
    "AirbnbRentals.shape"
   ]
  },
  {
   "cell_type": "code",
   "execution_count": 17,
   "id": "61cd05b1",
   "metadata": {},
   "outputs": [],
   "source": [
    "#Checking data types and names for remaining columns"
   ]
  },
  {
   "cell_type": "code",
   "execution_count": 18,
   "id": "dce511ec",
   "metadata": {},
   "outputs": [
    {
     "name": "stdout",
     "output_type": "stream",
     "text": [
      "name                  object\n",
      "neighbourhood         object\n",
      "latitude             float64\n",
      "longitude            float64\n",
      "room_type             object\n",
      "price                  int64\n",
      "minimum_nights         int64\n",
      "number_of_reviews      int64\n",
      "availability_365       int64\n",
      "dtype: object\n"
     ]
    }
   ],
   "source": [
    "print(AirbnbRentals.dtypes)"
   ]
  },
  {
   "cell_type": "code",
   "execution_count": 19,
   "id": "646b439e",
   "metadata": {},
   "outputs": [
    {
     "data": {
      "text/plain": [
       "Index(['name', 'neighbourhood', 'latitude', 'longitude', 'room_type', 'price',\n",
       "       'minimum_nights', 'number_of_reviews', 'availability_365'],\n",
       "      dtype='object')"
      ]
     },
     "execution_count": 19,
     "metadata": {},
     "output_type": "execute_result"
    }
   ],
   "source": [
    "AirbnbRentals.columns"
   ]
  },
  {
   "cell_type": "code",
   "execution_count": 20,
   "id": "c545b2ee",
   "metadata": {},
   "outputs": [],
   "source": [
    "#Counting totals of each variable in column"
   ]
  },
  {
   "cell_type": "code",
   "execution_count": 21,
   "id": "fe22a150",
   "metadata": {},
   "outputs": [
    {
     "data": {
      "text/plain": [
       "Entire home/apt    3399\n",
       "Private room        654\n",
       "Shared room          31\n",
       "Hotel room           14\n",
       "Name: room_type, dtype: int64"
      ]
     },
     "execution_count": 21,
     "metadata": {},
     "output_type": "execute_result"
    }
   ],
   "source": [
    "AirbnbRentals['room_type'].value_counts()"
   ]
  },
  {
   "cell_type": "code",
   "execution_count": 22,
   "id": "015e2faf",
   "metadata": {},
   "outputs": [],
   "source": [
    "#Recoding room_type into integers"
   ]
  },
  {
   "cell_type": "code",
   "execution_count": 23,
   "id": "15f03665",
   "metadata": {},
   "outputs": [],
   "source": [
    "def room (series): \n",
    "\n",
    "    if series == \"Entire home/apt\":\n",
    "\n",
    "        return 0\n",
    "\n",
    "    if series == \"Private room\": \n",
    "\n",
    "        return 1\n",
    "\n",
    "    if series == \"Shared room\": \n",
    "\n",
    "        return 2\n",
    "\n",
    "    if series == \"Hotel room\": \n",
    "\n",
    "        return 3\n",
    "\n",
    "AirbnbRentals['room'] = AirbnbRentals['room_type'].apply(room)"
   ]
  },
  {
   "cell_type": "code",
   "execution_count": 24,
   "id": "fe70ac6a",
   "metadata": {
    "scrolled": true
   },
   "outputs": [
    {
     "data": {
      "text/html": [
       "<div>\n",
       "<style scoped>\n",
       "    .dataframe tbody tr th:only-of-type {\n",
       "        vertical-align: middle;\n",
       "    }\n",
       "\n",
       "    .dataframe tbody tr th {\n",
       "        vertical-align: top;\n",
       "    }\n",
       "\n",
       "    .dataframe thead th {\n",
       "        text-align: right;\n",
       "    }\n",
       "</style>\n",
       "<table border=\"1\" class=\"dataframe\">\n",
       "  <thead>\n",
       "    <tr style=\"text-align: right;\">\n",
       "      <th></th>\n",
       "      <th>name</th>\n",
       "      <th>neighbourhood</th>\n",
       "      <th>latitude</th>\n",
       "      <th>longitude</th>\n",
       "      <th>room_type</th>\n",
       "      <th>price</th>\n",
       "      <th>minimum_nights</th>\n",
       "      <th>number_of_reviews</th>\n",
       "      <th>availability_365</th>\n",
       "      <th>room</th>\n",
       "    </tr>\n",
       "  </thead>\n",
       "  <tbody>\n",
       "    <tr>\n",
       "      <th>0</th>\n",
       "      <td>Tiny Home in the Heart of the City- ECO FRIENDLY</td>\n",
       "      <td>Virginia Village</td>\n",
       "      <td>39.69551</td>\n",
       "      <td>-104.92489</td>\n",
       "      <td>Entire home/apt</td>\n",
       "      <td>79</td>\n",
       "      <td>1</td>\n",
       "      <td>96</td>\n",
       "      <td>329</td>\n",
       "      <td>0</td>\n",
       "    </tr>\n",
       "    <tr>\n",
       "      <th>1</th>\n",
       "      <td>Sit in the Peaceful Garden of the Chickadee Co...</td>\n",
       "      <td>Highland</td>\n",
       "      <td>39.76758</td>\n",
       "      <td>-105.00316</td>\n",
       "      <td>Entire home/apt</td>\n",
       "      <td>133</td>\n",
       "      <td>30</td>\n",
       "      <td>167</td>\n",
       "      <td>88</td>\n",
       "      <td>0</td>\n",
       "    </tr>\n",
       "    <tr>\n",
       "      <th>2</th>\n",
       "      <td>Lodo / RiNo LOFT  via airport train</td>\n",
       "      <td>Five Points</td>\n",
       "      <td>39.76672</td>\n",
       "      <td>-104.97906</td>\n",
       "      <td>Entire home/apt</td>\n",
       "      <td>179</td>\n",
       "      <td>185</td>\n",
       "      <td>87</td>\n",
       "      <td>362</td>\n",
       "      <td>0</td>\n",
       "    </tr>\n",
       "    <tr>\n",
       "      <th>3</th>\n",
       "      <td>Comfortable  - and a great value!</td>\n",
       "      <td>North Park Hill</td>\n",
       "      <td>39.75511</td>\n",
       "      <td>-104.91109</td>\n",
       "      <td>Private room</td>\n",
       "      <td>55</td>\n",
       "      <td>2</td>\n",
       "      <td>642</td>\n",
       "      <td>239</td>\n",
       "      <td>1</td>\n",
       "    </tr>\n",
       "    <tr>\n",
       "      <th>4</th>\n",
       "      <td>private</td>\n",
       "      <td>North Park Hill</td>\n",
       "      <td>39.75481</td>\n",
       "      <td>-104.91106</td>\n",
       "      <td>Private room</td>\n",
       "      <td>52</td>\n",
       "      <td>1</td>\n",
       "      <td>165</td>\n",
       "      <td>40</td>\n",
       "      <td>1</td>\n",
       "    </tr>\n",
       "  </tbody>\n",
       "</table>\n",
       "</div>"
      ],
      "text/plain": [
       "                                                name     neighbourhood  \\\n",
       "0   Tiny Home in the Heart of the City- ECO FRIENDLY  Virginia Village   \n",
       "1  Sit in the Peaceful Garden of the Chickadee Co...          Highland   \n",
       "2                Lodo / RiNo LOFT  via airport train       Five Points   \n",
       "3                  Comfortable  - and a great value!   North Park Hill   \n",
       "4                                            private   North Park Hill   \n",
       "\n",
       "   latitude  longitude        room_type  price  minimum_nights  \\\n",
       "0  39.69551 -104.92489  Entire home/apt     79               1   \n",
       "1  39.76758 -105.00316  Entire home/apt    133              30   \n",
       "2  39.76672 -104.97906  Entire home/apt    179             185   \n",
       "3  39.75511 -104.91109     Private room     55               2   \n",
       "4  39.75481 -104.91106     Private room     52               1   \n",
       "\n",
       "   number_of_reviews  availability_365  room  \n",
       "0                 96               329     0  \n",
       "1                167                88     0  \n",
       "2                 87               362     0  \n",
       "3                642               239     1  \n",
       "4                165                40     1  "
      ]
     },
     "execution_count": 24,
     "metadata": {},
     "output_type": "execute_result"
    }
   ],
   "source": [
    "AirbnbRentals.head()"
   ]
  },
  {
   "cell_type": "code",
   "execution_count": 25,
   "id": "d93eb016",
   "metadata": {},
   "outputs": [
    {
     "data": {
      "text/plain": [
       "Index(['name', 'neighbourhood', 'latitude', 'longitude', 'room_type', 'price',\n",
       "       'minimum_nights', 'number_of_reviews', 'availability_365', 'room'],\n",
       "      dtype='object')"
      ]
     },
     "execution_count": 25,
     "metadata": {},
     "output_type": "execute_result"
    }
   ],
   "source": [
    "AirbnbRentals.columns"
   ]
  },
  {
   "cell_type": "code",
   "execution_count": 26,
   "id": "7c00160a",
   "metadata": {},
   "outputs": [],
   "source": [
    "AirbnbRentals.to_csv(\"C:/Users/vanch/Desktop/Entity/DSO110/Wrangled Cities 2.0/DenverW.csv\")"
   ]
  },
  {
   "cell_type": "code",
   "execution_count": null,
   "id": "33381360",
   "metadata": {},
   "outputs": [],
   "source": []
  }
 ],
 "metadata": {
  "kernelspec": {
   "display_name": "Python 3",
   "language": "python",
   "name": "python3"
  },
  "language_info": {
   "codemirror_mode": {
    "name": "ipython",
    "version": 3
   },
   "file_extension": ".py",
   "mimetype": "text/x-python",
   "name": "python",
   "nbconvert_exporter": "python",
   "pygments_lexer": "ipython3",
   "version": "3.8.8"
  }
 },
 "nbformat": 4,
 "nbformat_minor": 5
}
