{
 "cells": [
  {
   "cell_type": "code",
   "execution_count": null,
   "id": "bf877c23",
   "metadata": {},
   "outputs": [],
   "source": [
    "import pandas as pd\n",
    "import numpy as np\n",
    "import matplotlib.pyplot as plt"
   ]
  },
  {
   "cell_type": "code",
   "execution_count": null,
   "id": "92d46352",
   "metadata": {},
   "outputs": [],
   "source": [
    "Austin = pd.read_csv(\"C:/Users/vanch/Desktop/Entity/DSO110/Reina's Wrangled Cities/listingsaustin.csv\")\n",
    "Bangkok = pd.read_csv(\"C:/Users/vanch/Desktop/Entity/DSO110/Reina's Wrangled Cities/listingsbangkok.csv\")\n",
    "Chicago = pd.read_csv(\"C:/Users/vanch/Desktop/Entity/DSO110/Reina's Wrangled Cities/listingschicago.csv\")\n",
    "Mexico = pd.read_csv(\"C:/Users/vanch/Desktop/Entity/DSO110/Reina's Wrangled Cities/listingsmexicocity.csv\")\n",
    "Nashville = pd.read_csv(\"C:/Users/vanch/Desktop/Entity/DSO110/Reina's Wrangled Cities/listingsnashville.csv\")\n",
    "Portland = pd.read_csv(\"C:/Users/vanch/Desktop/Entity/DSO110/Reina's Wrangled Cities/listingsportland.csv\")\n",
    "Rio = pd.read_csv(\"C:/Users/vanch/Desktop/Entity/DSO110/Reina's Wrangled Cities/listingsrio.csv\")\n",
    "Toronto = pd.read_csv(\"C:/Users/vanch/Desktop/Entity/DSO110/Reina's Wrangled Cities/listingstoronto.csv\")"
   ]
  },
  {
   "cell_type": "code",
   "execution_count": null,
   "id": "47113ddf",
   "metadata": {},
   "outputs": [],
   "source": [
    "Austin.columns"
   ]
  },
  {
   "cell_type": "code",
   "execution_count": null,
   "id": "646b439e",
   "metadata": {},
   "outputs": [],
   "source": [
    "Bangkok.columns"
   ]
  },
  {
   "cell_type": "code",
   "execution_count": null,
   "id": "bf684ee2",
   "metadata": {},
   "outputs": [],
   "source": [
    "Chicago.columns"
   ]
  },
  {
   "cell_type": "code",
   "execution_count": null,
   "id": "632451b2",
   "metadata": {},
   "outputs": [],
   "source": [
    "Mexico.columns"
   ]
  },
  {
   "cell_type": "code",
   "execution_count": null,
   "id": "abb0dce6",
   "metadata": {},
   "outputs": [],
   "source": [
    "Nashville.columns"
   ]
  },
  {
   "cell_type": "code",
   "execution_count": null,
   "id": "23c1bf56",
   "metadata": {},
   "outputs": [],
   "source": [
    "Portland.columns"
   ]
  },
  {
   "cell_type": "code",
   "execution_count": null,
   "id": "69596250",
   "metadata": {},
   "outputs": [],
   "source": [
    "Rio.columns"
   ]
  },
  {
   "cell_type": "code",
   "execution_count": null,
   "id": "6fb8881a",
   "metadata": {},
   "outputs": [],
   "source": [
    "Toronto.columns"
   ]
  },
  {
   "cell_type": "code",
   "execution_count": null,
   "id": "61f388b0",
   "metadata": {},
   "outputs": [],
   "source": [
    "Austin.drop(['id', 'host_id', 'host_name', 'neighbourhood_group', 'number_of_reviews_ltm', \n",
    "            'last_review', 'reviews_per_month', 'calculated_host_listings_count', 'license'],axis=1)"
   ]
  },
  {
   "cell_type": "code",
   "execution_count": null,
   "id": "cc1269f7",
   "metadata": {},
   "outputs": [],
   "source": [
    "Bangkok.drop(['id', 'host_id', 'host_name', 'neighbourhood_group', 'number_of_reviews_ltm', \n",
    "            'last_review', 'reviews_per_month', 'calculated_host_listings_count', 'license'],axis=1)"
   ]
  },
  {
   "cell_type": "code",
   "execution_count": null,
   "id": "54c8b2f6",
   "metadata": {},
   "outputs": [],
   "source": [
    "Chicago.drop(['id', 'host_id', 'host_name', 'neighbourhood_group', 'number_of_reviews_ltm', \n",
    "            'last_review', 'reviews_per_month', 'calculated_host_listings_count', 'license'],axis=1)"
   ]
  },
  {
   "cell_type": "code",
   "execution_count": null,
   "id": "af64ca25",
   "metadata": {},
   "outputs": [],
   "source": [
    "Mexico.drop(['id', 'host_id', 'host_name', 'neighbourhood_group', 'number_of_reviews_ltm', \n",
    "            'last_review', 'reviews_per_month', 'calculated_host_listings_count', 'license'],axis=1)"
   ]
  },
  {
   "cell_type": "code",
   "execution_count": null,
   "id": "c4c3ea3f",
   "metadata": {},
   "outputs": [],
   "source": [
    "Nashville.drop(['id', 'host_id', 'host_name', 'neighbourhood_group', 'number_of_reviews_ltm', \n",
    "            'last_review', 'reviews_per_month', 'calculated_host_listings_count', 'license'],axis=1)"
   ]
  },
  {
   "cell_type": "code",
   "execution_count": null,
   "id": "60e06a5c",
   "metadata": {},
   "outputs": [],
   "source": [
    "Portland.drop(['id', 'host_id', 'host_name', 'neighbourhood_group', 'number_of_reviews_ltm', \n",
    "            'last_review', 'reviews_per_month', 'calculated_host_listings_count', 'license'],axis=1)"
   ]
  },
  {
   "cell_type": "code",
   "execution_count": null,
   "id": "53689fcc",
   "metadata": {},
   "outputs": [],
   "source": [
    "Rio.drop(['id', 'host_id', 'host_name', 'neighbourhood_group', 'number_of_reviews_ltm', \n",
    "            'last_review', 'reviews_per_month', 'calculated_host_listings_count', 'license'],axis=1)"
   ]
  },
  {
   "cell_type": "code",
   "execution_count": null,
   "id": "871e9927",
   "metadata": {},
   "outputs": [],
   "source": [
    "Toronto.drop(['id', 'host_id', 'host_name', 'neighbourhood_group', 'number_of_reviews_ltm', \n",
    "            'last_review', 'reviews_per_month', 'calculated_host_listings_count', 'license'],axis=1)"
   ]
  },
  {
   "cell_type": "code",
   "execution_count": null,
   "id": "756f104a",
   "metadata": {},
   "outputs": [],
   "source": [
    "AirbnbCities = pd.merge('Austin', 'Bangkok')"
   ]
  },
  {
   "cell_type": "code",
   "execution_count": null,
   "id": "02e8afbe",
   "metadata": {},
   "outputs": [],
   "source": [
    "AirbnbCities = pd.merge('Chicago', 'Nashville')"
   ]
  },
  {
   "cell_type": "code",
   "execution_count": null,
   "id": "0acd86e1",
   "metadata": {},
   "outputs": [],
   "source": [
    "AirbnbCities = pd.merge('Mexico', 'Porltand')"
   ]
  },
  {
   "cell_type": "code",
   "execution_count": null,
   "id": "7c9c822d",
   "metadata": {},
   "outputs": [],
   "source": [
    "AirbnbCities = pd.merge('Rio', 'Toronto')"
   ]
  },
  {
   "cell_type": "code",
   "execution_count": null,
   "id": "a2ccfb32",
   "metadata": {},
   "outputs": [],
   "source": [
    "AirbnbCities.head()"
   ]
  },
  {
   "cell_type": "code",
   "execution_count": null,
   "id": "ccfcdf5f",
   "metadata": {},
   "outputs": [],
   "source": [
    "AustinMap = plt.imread(\"C:/Users/vanch/Desktop/Entity/DSO110/Reina's Wrangled Cities/austin.png\")\n",
    "BangkokMap = plt.imread(\"C:/Users/vanch/Desktop/Entity/DSO110/Reina's Wrangled Cities/bangkok.png\")\n",
    "ChicagoMap = plt.imread(\"C:/Users/vanch/Desktop/Entity/DSO110/Reina's Wrangled Cities/chicago.png\")\n",
    "MexicoMap = plt.imread(\"C:/Users/vanch/Desktop/Entity/DSO110/Reina's Wrangled Cities/mexicocity.png\")\n",
    "NashvilleMap = plt.imread(\"C:/Users/vanch/Desktop/Entity/DSO110/Reina's Wrangled Cities/nashville.png\")\n",
    "PortlandMap = plt.imread(\"C:/Users/vanch/Desktop/Entity/DSO110/Reina's Wrangled Cities/portland.png\")\n",
    "RioMap = plt.imread(\"C:/Users/vanch/Desktop/Entity/DSO110/Reina's Wrangled Cities/rio.png\")\n",
    "TorontoMap = plt.imread(\"C:/Users/vanch/Desktop/Entity/DSO110/Reina's Wrangled Cities/toronto.png\")"
   ]
  },
  {
   "cell_type": "code",
   "execution_count": null,
   "id": "c6b91a10",
   "metadata": {},
   "outputs": [],
   "source": [
    "BBoxA = (Austin.longitude.min(), Austin.longitude.max(), Austin.latitude.min(), Austin.latitude.max())\n",
    "BBoxB = (Bangkok.longitude.min(), Bangkok.longitude.max(), Bangkok.latitude.min(), Bangkok.latitude.max())\n",
    "BBoxC = (Chicago.longitude.min(), Chicago.longitude.max(), Chicago.latitude.min(), Chicago.latitude.max())\n",
    "BBoxM = (Mexico.longitude.min(), Mexico.longitude.max(), Mexico.latitude.min(), Mexico.latitude.max())\n",
    "BBoxN = (Nashville.longitude.min(), Nashville.longitude.max(), Nashville.latitude.min(), Nashville.latitude.max())\n",
    "BBoxP = (Portland.longitude.min(), Portland.longitude.max(), Portland.latitude.min(), Portland.latitude.max())\n",
    "BBoxR = (Rio.longitude.min(), Rio.longitude.max(), Rio.latitude.min(), Rio.latitude.max())\n",
    "BBoxT = (Toronto.longitude.min(), Toronto.longitude.max(), Toronto.latitude.min(), Toronto.latitude.max())"
   ]
  },
  {
   "cell_type": "code",
   "execution_count": null,
   "id": "c0ae52da",
   "metadata": {},
   "outputs": [],
   "source": [
    "fig, ax = plt.subplots(figsize = (8,7))\n",
    "ax.scatter(Austin.longitude, Austin.latitude, zorder=1, alpha= 0.2, c='b', s=10)\n",
    "ax.set_title('Austin Airbnb Rentals')\n",
    "ax.set_xlim(BBoxA[0],BBoxA[1])\n",
    "ax.set_ylim(BBoxA[2],BBoxA[3])\n",
    "ax.imshow(AustinMap, zorder=0, extent = BBoxA, aspect= 'equal')"
   ]
  },
  {
   "cell_type": "code",
   "execution_count": null,
   "id": "0128858c",
   "metadata": {},
   "outputs": [],
   "source": [
    "fig, ax = plt.subplots(figsize = (8,7))\n",
    "ax.scatter(Bangkok.longitude, Bangkok.latitude, zorder=1, alpha= 0.2, c='b', s=10)\n",
    "ax.set_title('Bangkok Airbnb Rentals')\n",
    "ax.set_xlim(BBoxB[0],BBoxB[1])\n",
    "ax.set_ylim(BBoxB[2],BBoxB[3])\n",
    "ax.imshow(BangkokMap, zorder=0, extent = BBoxB, aspect= 'equal')"
   ]
  },
  {
   "cell_type": "code",
   "execution_count": null,
   "id": "d62b9b19",
   "metadata": {},
   "outputs": [],
   "source": [
    "fig, ax = plt.subplots(figsize = (8,7))\n",
    "ax.scatter(Chicago.longitude, Chicago.latitude, zorder=1, alpha= 0.2, c='b', s=10)\n",
    "ax.set_title('Chicago Airbnb Rentals')\n",
    "ax.set_xlim(BBoxC[0],BBoxC[1])\n",
    "ax.set_ylim(BBoxC[2],BBoxC[3])\n",
    "ax.imshow(ChicagoMap, zorder=0, extent = BBoxC, aspect= 'equal')"
   ]
  },
  {
   "cell_type": "code",
   "execution_count": null,
   "id": "398858c1",
   "metadata": {},
   "outputs": [],
   "source": [
    "fig, ax = plt.subplots(figsize = (8,7))\n",
    "ax.scatter(Mexico.longitude, Mexico.latitude, zorder=1, alpha= 0.2, c='b', s=10)\n",
    "ax.set_title('Mexico Airbnb Rentals')\n",
    "ax.set_xlim(BBoxM[0],BBoxM[1])\n",
    "ax.set_ylim(BBoxM[2],BBoxM[3])\n",
    "ax.imshow(MexicoMap, zorder=0, extent = BBoxM, aspect= 'equal')"
   ]
  },
  {
   "cell_type": "code",
   "execution_count": null,
   "id": "1fe97366",
   "metadata": {},
   "outputs": [],
   "source": [
    "fig, ax = plt.subplots(figsize = (8,7))\n",
    "ax.scatter(Nashville.longitude, Nashville.latitude, zorder=1, alpha= 0.2, c='b', s=10)\n",
    "ax.set_title('Nashville Airbnb Rentals')\n",
    "ax.set_xlim(BBoxN[0],BBoxN[1])\n",
    "ax.set_ylim(BBoxN[2],BBoxN[3])\n",
    "ax.imshow(NashvilleMap, zorder=0, extent = BBoxN, aspect= 'equal')"
   ]
  },
  {
   "cell_type": "code",
   "execution_count": null,
   "id": "f591b4a4",
   "metadata": {
    "scrolled": true
   },
   "outputs": [],
   "source": [
    "fig, ax = plt.subplots(figsize = (8,7))\n",
    "ax.scatter(Portland.longitude, Portland.latitude, zorder=1, alpha= 0.2, c='b', s=10)\n",
    "ax.set_title('Portland Airbnb Rentals')\n",
    "ax.set_xlim(BBoxP[0],BBoxP[1])\n",
    "ax.set_ylim(BBoxP[2],BBoxP[3])\n",
    "ax.imshow(PortlandMap, zorder=0, extent = BBoxP, aspect= 'equal')"
   ]
  },
  {
   "cell_type": "code",
   "execution_count": null,
   "id": "a7a35d9f",
   "metadata": {},
   "outputs": [],
   "source": [
    "fig, ax = plt.subplots(figsize = (8,7))\n",
    "ax.scatter(Rio.longitude, Rio.latitude, zorder=1, alpha= 0.2, c='b', s=10)\n",
    "ax.set_title('Rio Airbnb Rentals')\n",
    "ax.set_xlim(BBoxR[0],BBoxR[1])\n",
    "ax.set_ylim(BBoxR[2],BBoxR[3])\n",
    "ax.imshow(RioMap, zorder=0, extent = BBoxR, aspect= 'equal')"
   ]
  },
  {
   "cell_type": "code",
   "execution_count": null,
   "id": "75cd60d9",
   "metadata": {},
   "outputs": [],
   "source": [
    "fig, ax = plt.subplots(figsize = (8,7))\n",
    "ax.scatter(Toronto.longitude, Toronto.latitude, zorder=1, alpha= 0.2, c='b', s=10)\n",
    "ax.set_title('Toronto Airbnb Rentals')\n",
    "ax.set_xlim(BBoxT[0],BBoxT[1])\n",
    "ax.set_ylim(BBoxT[2],BBoxT[3])\n",
    "ax.imshow(TorontoMap, zorder=0, extent = BBoxT, aspect= 'equal')"
   ]
  },
  {
   "cell_type": "code",
   "execution_count": null,
   "id": "b70146f0",
   "metadata": {},
   "outputs": [],
   "source": []
  }
 ],
 "metadata": {
  "kernelspec": {
   "display_name": "Python 3",
   "language": "python",
   "name": "python3"
  },
  "language_info": {
   "codemirror_mode": {
    "name": "ipython",
    "version": 3
   },
   "file_extension": ".py",
   "mimetype": "text/x-python",
   "name": "python",
   "nbconvert_exporter": "python",
   "pygments_lexer": "ipython3",
   "version": "3.8.8"
  }
 },
 "nbformat": 4,
 "nbformat_minor": 5
}
